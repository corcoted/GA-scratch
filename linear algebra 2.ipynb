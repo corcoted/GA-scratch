{
 "cells": [
  {
   "cell_type": "markdown",
   "id": "municipal-lottery",
   "metadata": {},
   "source": [
    "# Brief introduction to linear algebra using PGA\n",
    "Ted Corcovilos, 2021-03-18"
   ]
  },
  {
   "cell_type": "code",
   "execution_count": 1,
   "id": "legal-thong",
   "metadata": {},
   "outputs": [],
   "source": [
    "# import libraries\n",
    "from sympy import *\n",
    "from galgebra.ga import Ga\n",
    "# setup notebook pretty printing\n",
    "init_printing()"
   ]
  },
  {
   "cell_type": "code",
   "execution_count": 2,
   "id": "related-gnome",
   "metadata": {},
   "outputs": [
    {
     "name": "stdout",
     "output_type": "stream",
     "text": [
      "!!!!If I**2 = 0, I cannot be normalized!!!!\n"
     ]
    }
   ],
   "source": [
    "# set up the algebra\n",
    "pga3coords = (w,x,y,z) = symbols('w x y z', real=True)\n",
    "pga3 = Ga('e_0 e_1 e_2 e_3',g=[0,1,1,1], coords=pga3coords)\n",
    "\n",
    "e0, e1, e2, e3 = pga3.mv()"
   ]
  },
  {
   "cell_type": "code",
   "execution_count": 3,
   "id": "regulated-tracker",
   "metadata": {},
   "outputs": [],
   "source": [
    "# define some useful functions for PGA\n",
    "def J3(x):\n",
    "    # J map for pga3 multivectors to calculate the orthogonal complement\n",
    "    coef_list = x.blade_coefs()\n",
    "    # flip sign of e02 and e1\n",
    "    signs = [1,\n",
    "            1,-1,1,-1,\n",
    "            1,-1,1,1,-1,1,\n",
    "            1,-1,1,-1,\n",
    "            1]\n",
    "    size = len(signs)\n",
    "    return pga3.mv(sum(signs[mm]*coef_list[mm]*flatten(pga3.blades)[size-1-mm] for mm in range(size)))\n",
    "\n",
    "def vee3(a,b):\n",
    "    # regressive product for pga3\n",
    "    return J3(J3(a)^J3(b))\n",
    "\n",
    "def norm(x):\n",
    "    # norm.  Note that this does not keep the sign.\n",
    "    return sqrt(((~x)*x).scalar())\n",
    "\n",
    "def norm_ideal(x):\n",
    "    # ideal norm.  Note that this does not keep the sign.\n",
    "    return sqrt((~J3(x)*J3(x)).scalar())\n",
    "\n",
    "def normalize(x):\n",
    "    # normalize a MV\n",
    "    return x/norm(x)"
   ]
  },
  {
   "cell_type": "code",
   "execution_count": 4,
   "id": "imperial-beast",
   "metadata": {},
   "outputs": [],
   "source": [
    "t= symbols('t', real=True) # real parameter to use later"
   ]
  },
  {
   "cell_type": "markdown",
   "id": "serial-basic",
   "metadata": {},
   "source": [
    "## Systems of linear equations\n",
    "Each linear equation may be represented by a vector in PGA.\n",
    "\n",
    "Let's solve the system\n",
    "$$\n",
    "\\begin{aligned}\n",
    "a:&& x + \\phantom{2}y + z -1 &= 0 \\\\\n",
    "b:&& 2x + \\phantom{2}y + z +0&= 0 \\\\\n",
    "c:&& x -2y -z -2 &= 0\n",
    "\\end{aligned}\n",
    "$$\n"
   ]
  },
  {
   "cell_type": "code",
   "execution_count": 5,
   "id": "every-steam",
   "metadata": {},
   "outputs": [],
   "source": [
    "a = e1 + e2 + e3 - e0\n",
    "b = 2*e1 + e2 + e3\n",
    "c = e1 -2*e2-e3 +2*e0 "
   ]
  },
  {
   "cell_type": "markdown",
   "id": "surface-brief",
   "metadata": {},
   "source": [
    "The solution is the intersection point of the 3 planes described by each equation above."
   ]
  },
  {
   "cell_type": "code",
   "execution_count": 6,
   "id": "senior-edinburgh",
   "metadata": {},
   "outputs": [
    {
     "data": {
      "text/latex": [
       "\\begin{equation*} 3 \\boldsymbol{e}_{0}\\wedge \\boldsymbol{e}_{1}\\wedge \\boldsymbol{e}_{2} + \\boldsymbol{e}_{0}\\wedge \\boldsymbol{e}_{1}\\wedge \\boldsymbol{e}_{3} - \\boldsymbol{e}_{0}\\wedge \\boldsymbol{e}_{2}\\wedge \\boldsymbol{e}_{3} - \\boldsymbol{e}_{1}\\wedge \\boldsymbol{e}_{2}\\wedge \\boldsymbol{e}_{3} \\end{equation*}"
      ],
      "text/plain": [
       "3*e_0^e_1^e_2 + e_0^e_1^e_3 - e_0^e_2^e_3 - e_1^e_2^e_3"
      ]
     },
     "execution_count": 6,
     "metadata": {},
     "output_type": "execute_result"
    }
   ],
   "source": [
    "a^b^c"
   ]
  },
  {
   "cell_type": "markdown",
   "id": "bacterial-award",
   "metadata": {},
   "source": [
    "The trivector terms describe a point.  It's easier to read off if we normalize it and look at its orthogonal complement:"
   ]
  },
  {
   "cell_type": "code",
   "execution_count": 7,
   "id": "adequate-quest",
   "metadata": {},
   "outputs": [
    {
     "data": {
      "text/latex": [
       "\\begin{equation*}  \\boldsymbol{e}_{0} - \\boldsymbol{e}_{1} - \\boldsymbol{e}_{2} + 3 \\boldsymbol{e}_{3} \\end{equation*}"
      ],
      "text/plain": [
       "e_0 - e_1 - e_2 + 3*e_3"
      ]
     },
     "execution_count": 7,
     "metadata": {},
     "output_type": "execute_result"
    }
   ],
   "source": [
    "J3(a^b^c) "
   ]
  },
  {
   "cell_type": "markdown",
   "id": "funky-athens",
   "metadata": {},
   "source": [
    "The coefficient of $e_1$ is the $x$ value, etc.  So the solution of the original system of equations is\n",
    "$$\n",
    "\\begin{aligned}\n",
    "x&=-1\\\\\n",
    "y&=-5\\\\\n",
    "z&=3\n",
    "\\end{aligned}\n",
    "$$"
   ]
  },
  {
   "cell_type": "code",
   "execution_count": 8,
   "id": "immediate-prize",
   "metadata": {},
   "outputs": [
    {
     "data": {
      "text/latex": [
       "\\begin{equation*} - z \\boldsymbol{e}_{0}\\wedge \\boldsymbol{e}_{1}\\wedge \\boldsymbol{e}_{2} + y \\boldsymbol{e}_{0}\\wedge \\boldsymbol{e}_{1}\\wedge \\boldsymbol{e}_{3} - x \\boldsymbol{e}_{0}\\wedge \\boldsymbol{e}_{2}\\wedge \\boldsymbol{e}_{3} + \\boldsymbol{e}_{1}\\wedge \\boldsymbol{e}_{2}\\wedge \\boldsymbol{e}_{3} \\end{equation*}"
      ],
      "text/plain": [
       "-z*e_0^e_1^e_2 + y*e_0^e_1^e_3 - x*e_0^e_2^e_3 + e_1^e_2^e_3"
      ]
     },
     "execution_count": 8,
     "metadata": {},
     "output_type": "execute_result"
    }
   ],
   "source": [
    "# Let's define p as a generic point\n",
    "p=J3(x*e1 + y*e2 + z*e3 + e0)\n",
    "p"
   ]
  },
  {
   "cell_type": "markdown",
   "id": "subject-click",
   "metadata": {},
   "source": [
    "We can represent this as equations for x,y,z by setting terms of the expression below equal to zero: $p\\vee(a\\wedge b\\wedge c)=0$.  PGA is a Regressive Product Null Space (RPNS) representation."
   ]
  },
  {
   "cell_type": "code",
   "execution_count": 9,
   "id": "domestic-dayton",
   "metadata": {},
   "outputs": [
    {
     "data": {
      "text/latex": [
       "\\begin{equation*} \\left ( - 3 y - z\\right ) \\boldsymbol{e}_{0}\\wedge \\boldsymbol{e}_{1} + \\left ( 3 x + z\\right ) \\boldsymbol{e}_{0}\\wedge \\boldsymbol{e}_{2} + \\left ( x - y\\right ) \\boldsymbol{e}_{0}\\wedge \\boldsymbol{e}_{3} + \\left ( z - 3\\right ) \\boldsymbol{e}_{1}\\wedge \\boldsymbol{e}_{2} + \\left ( - y - 1\\right ) \\boldsymbol{e}_{1}\\wedge \\boldsymbol{e}_{3} + \\left ( x + 1\\right ) \\boldsymbol{e}_{2}\\wedge \\boldsymbol{e}_{3} \\end{equation*}"
      ],
      "text/plain": [
       "(-3*y - z)*e_0^e_1 + (3*x + z)*e_0^e_2 + (x - y)*e_0^e_3 + (z - 3)*e_1^e_2 + (-y - 1)*e_1^e_3 + (x + 1)*e_2^e_3"
      ]
     },
     "execution_count": 9,
     "metadata": {},
     "output_type": "execute_result"
    }
   ],
   "source": [
    "vee3(p,a^b^c)"
   ]
  },
  {
   "cell_type": "markdown",
   "id": "taken-graduate",
   "metadata": {},
   "source": [
    "Setting the line above equal to zero gives a redundant set of equations, but looking at the line three terms we can read off\n",
    "$$\n",
    "\\begin{aligned}\n",
    "x&=-1\\\\\n",
    "y&=-5\\\\\n",
    "z&=7\n",
    "\\end{aligned}\n",
    "$$"
   ]
  },
  {
   "cell_type": "markdown",
   "id": "still-seventh",
   "metadata": {},
   "source": [
    "## Under-defined system\n",
    "Let's try something different.  Let's do an under-defined system.\n",
    "$$\n",
    "\\begin{aligned}\n",
    "a:&& x + y + z -1 &= 0 \\\\\n",
    "b:&& 2x + y + z +0&= 0 \\\\\n",
    "%x -2y -z &= 2\n",
    "\\end{aligned}\n",
    "$$"
   ]
  },
  {
   "cell_type": "markdown",
   "id": "confused-blind",
   "metadata": {},
   "source": [
    "Again, the solution is $a\\wedge b$:"
   ]
  },
  {
   "cell_type": "code",
   "execution_count": 10,
   "id": "corresponding-tribute",
   "metadata": {},
   "outputs": [
    {
     "data": {
      "text/latex": [
       "\\begin{equation*} -2 \\boldsymbol{e}_{0}\\wedge \\boldsymbol{e}_{1} - \\boldsymbol{e}_{0}\\wedge \\boldsymbol{e}_{2} - \\boldsymbol{e}_{0}\\wedge \\boldsymbol{e}_{3} - \\boldsymbol{e}_{1}\\wedge \\boldsymbol{e}_{2} - \\boldsymbol{e}_{1}\\wedge \\boldsymbol{e}_{3} \\end{equation*}"
      ],
      "text/plain": [
       "-2*e_0^e_1 - e_0^e_2 - e_0^e_3 - e_1^e_2 - e_1^e_3"
      ]
     },
     "execution_count": 10,
     "metadata": {},
     "output_type": "execute_result"
    }
   ],
   "source": [
    "a^b"
   ]
  },
  {
   "cell_type": "markdown",
   "id": "downtown-interface",
   "metadata": {},
   "source": [
    "This is the Plücker representation of a line in 3D space.  As before, we can get this into a more familiar form by computing $p \\vee (a\\wedge b)=0$."
   ]
  },
  {
   "cell_type": "code",
   "execution_count": 11,
   "id": "occupied-rhythm",
   "metadata": {},
   "outputs": [
    {
     "data": {
      "text/latex": [
       "\\begin{equation*} \\left ( - 2 x - y - z\\right ) \\boldsymbol{e}_{0} + \\left ( - y - z + 2\\right ) \\boldsymbol{e}_{1} + \\left ( x + 1\\right ) \\boldsymbol{e}_{2} + \\left ( x + 1\\right ) \\boldsymbol{e}_{3} \\end{equation*}"
      ],
      "text/plain": [
       "(-2*x - y - z)*e_0 + (-y - z + 2)*e_1 + (x + 1)*e_2 + (x + 1)*e_3"
      ]
     },
     "execution_count": 11,
     "metadata": {},
     "output_type": "execute_result"
    }
   ],
   "source": [
    "vee3(p,a^b)"
   ]
  },
  {
   "cell_type": "markdown",
   "id": "horizontal-combat",
   "metadata": {},
   "source": [
    "### Parametric form of the line\n",
    "(TODO generalize the method to higher dimensional solution spaces.)\n",
    "\n",
    "The solution to the system above is a line of points: $x=-1, y=-z+2$.\n",
    "\n",
    "To put this in parametric form, we need the direction of the line $d$ and any point on the line $P$:\n",
    "$$\n",
    "\\begin{aligned}\n",
    "d &= a\\wedge b \\wedge e_0 \\\\\n",
    "P &= d^* \\wedge (a\\wedge b)\n",
    "\\end{aligned}\n",
    "$$\n",
    "\n",
    "Then the line consists of the points $P + dt$ for a scalar value $t$."
   ]
  },
  {
   "cell_type": "code",
   "execution_count": 12,
   "id": "european-aging",
   "metadata": {},
   "outputs": [
    {
     "data": {
      "text/latex": [
       "\\begin{equation*} - \\boldsymbol{e}_{0}\\wedge \\boldsymbol{e}_{1}\\wedge \\boldsymbol{e}_{2} - \\boldsymbol{e}_{0}\\wedge \\boldsymbol{e}_{1}\\wedge \\boldsymbol{e}_{3} \\end{equation*}"
      ],
      "text/plain": [
       "-e_0^e_1^e_2 - e_0^e_1^e_3"
      ]
     },
     "execution_count": 12,
     "metadata": {},
     "output_type": "execute_result"
    }
   ],
   "source": [
    "d=a^b^e0 # direction of the line\n",
    "d"
   ]
  },
  {
   "cell_type": "code",
   "execution_count": 13,
   "id": "caroline-governor",
   "metadata": {},
   "outputs": [
    {
     "data": {
      "text/latex": [
       "\\begin{equation*} -2 \\boldsymbol{e}_{0}\\wedge \\boldsymbol{e}_{1}\\wedge \\boldsymbol{e}_{2} + 2 \\boldsymbol{e}_{0}\\wedge \\boldsymbol{e}_{1}\\wedge \\boldsymbol{e}_{3} + 2 \\boldsymbol{e}_{0}\\wedge \\boldsymbol{e}_{2}\\wedge \\boldsymbol{e}_{3} + 2 \\boldsymbol{e}_{1}\\wedge \\boldsymbol{e}_{2}\\wedge \\boldsymbol{e}_{3} \\end{equation*}"
      ],
      "text/plain": [
       "-2*e_0^e_1^e_2 + 2*e_0^e_1^e_3 + 2*e_0^e_2^e_3 + 2*e_1^e_2^e_3"
      ]
     },
     "execution_count": 13,
     "metadata": {},
     "output_type": "execute_result"
    }
   ],
   "source": [
    "P = J3(d)^(a^b) # a point on the line\n",
    "P"
   ]
  },
  {
   "cell_type": "code",
   "execution_count": 14,
   "id": "unauthorized-solomon",
   "metadata": {},
   "outputs": [
    {
     "data": {
      "text/latex": [
       "\\begin{equation*} \\left ( - t - 2\\right ) \\boldsymbol{e}_{0}\\wedge \\boldsymbol{e}_{1}\\wedge \\boldsymbol{e}_{2} + \\left ( 2 - t\\right ) \\boldsymbol{e}_{0}\\wedge \\boldsymbol{e}_{1}\\wedge \\boldsymbol{e}_{3} + 2 \\boldsymbol{e}_{0}\\wedge \\boldsymbol{e}_{2}\\wedge \\boldsymbol{e}_{3} + 2 \\boldsymbol{e}_{1}\\wedge \\boldsymbol{e}_{2}\\wedge \\boldsymbol{e}_{3} \\end{equation*}"
      ],
      "text/plain": [
       "(-t - 2)*e_0^e_1^e_2 + (2 - t)*e_0^e_1^e_3 + 2*e_0^e_2^e_3 + 2*e_1^e_2^e_3"
      ]
     },
     "execution_count": 14,
     "metadata": {},
     "output_type": "execute_result"
    }
   ],
   "source": [
    "(P+d*t)"
   ]
  },
  {
   "cell_type": "markdown",
   "id": "liable-investing",
   "metadata": {},
   "source": [
    "Or, translating to coordinates and rescaling $t$:\n",
    "$$\n",
    "x = -1,\\quad\n",
    "y = 1-t, \\quad z=1+t\n",
    "$$"
   ]
  },
  {
   "cell_type": "markdown",
   "id": "toxic-voice",
   "metadata": {},
   "source": [
    "## Over-defined system\n",
    "Let's look at an over-defined system in 2D:\n",
    "$$\n",
    "\\begin{aligned}\n",
    "x&= 0\\\\\n",
    "y&= 0\\\\\n",
    "x+y&= 1\n",
    "\\end{aligned}\n",
    "$$\n",
    "This clearly has no solution, but can we find a \"best fit\"?\n",
    "One way to answer is to sum the 3 normalized intersection points.\n",
    "\n",
    "(Q: what happens if I use the _unnormalized_ points? Is this useful?)"
   ]
  },
  {
   "cell_type": "code",
   "execution_count": 15,
   "id": "funded-wallet",
   "metadata": {},
   "outputs": [
    {
     "data": {
      "text/latex": [
       "\\begin{equation*} \\frac{1}{3} \\boldsymbol{e}_{0}\\wedge \\boldsymbol{e}_{1} - \\frac{1}{3} \\boldsymbol{e}_{0}\\wedge \\boldsymbol{e}_{2} + \\boldsymbol{e}_{1}\\wedge \\boldsymbol{e}_{2} \\end{equation*}"
      ],
      "text/plain": [
       "e_0^e_1/3 - e_0^e_2/3 + e_1^e_2"
      ]
     },
     "execution_count": 15,
     "metadata": {},
     "output_type": "execute_result"
    }
   ],
   "source": [
    "sum([e1^e2,-e2^(e1+e2-e0),-(e1+e2-e0)^e1])/3"
   ]
  },
  {
   "cell_type": "markdown",
   "id": "dramatic-plane",
   "metadata": {},
   "source": [
    "To generalize to larger systems, for an _N_-dimensional space with _m_ equations, form all $\\binom{m}{N}$ of the _N_-wise wedge products, normalize, and sum them."
   ]
  },
  {
   "cell_type": "markdown",
   "id": "mexican-psychology",
   "metadata": {},
   "source": [
    "This method also works when two or more of the (hyper-)planes are parallel.  The intersection point is then ideal, and that point can be discarded before summing."
   ]
  },
  {
   "cell_type": "markdown",
   "id": "floppy-china",
   "metadata": {},
   "source": [
    "(Q: does this give the same result as the least-squares solution, using pseudo-inverse?  It seems like that is different?)"
   ]
  },
  {
   "cell_type": "markdown",
   "id": "several-search",
   "metadata": {},
   "source": [
    "## Gaussian elimination\n",
    "One of the standard solution techniques in linear algebra is Gaussian elimination.  What does that look like in PGA?  It's almost trivial.\n",
    "\n",
    "Let's go back to our earlier problem:\n",
    "$$\n",
    "\\begin{aligned}\n",
    "a:&&x + \\phantom{2}y + z -1 &= 0 \\\\\n",
    "b:&&2x + \\phantom{2}y + z +0 &= 0 \\\\\n",
    "c:&&x -2y -z -2 &= 0\n",
    "\\end{aligned}\n",
    "$$\n",
    "\n",
    "The idea of Gaussian elimination is to add a scalar multiple of one row to another row to zero out coefficients in the lower left triangle of the matrix.\n",
    "\n",
    "For example, we could replace row $b$ with $b-2a$ and row $c$ with $c-a$, to eliminate the coefficients of $x$ in the bottom two rows:"
   ]
  },
  {
   "cell_type": "code",
   "execution_count": 16,
   "id": "immediate-proposition",
   "metadata": {},
   "outputs": [
    {
     "data": {
      "image/png": "[encoded data removed]",
      "text/latex": [
       "$\\displaystyle \\left( 2 \\mathbf{e}_{0} - \\mathbf{e}_{2} - \\mathbf{e}_{3}, \\  3 \\mathbf{e}_{0} -3 \\mathbf{e}_{2} -2 \\mathbf{e}_{3}\\right)$"
      ],
      "text/plain": [
       "(2*e_0 - e_2 - e_3, 3*e_0 - 3*e_2 - 2*e_3)"
      ]
     },
     "execution_count": 16,
     "metadata": {},
     "output_type": "execute_result"
    }
   ],
   "source": [
    "b-2*a, c-a"
   ]
  },
  {
   "cell_type": "markdown",
   "id": "accredited-flavor",
   "metadata": {},
   "source": [
    "$$\n",
    "\\begin{aligned}\n",
    "a:&&x + \\phantom{3}y +\\phantom{2} z -1 &= 0 \\\\\n",
    "b-2a:&&0x  -\\phantom{3}y - \\phantom{2}z +2&= 0 \\\\\n",
    "c-\\phantom{2}a:&&0x -3y -2z -1 &= 0\n",
    "\\end{aligned}\n",
    "$$\n",
    "\n",
    "Then add -3 times the second row to the third row:"
   ]
  },
  {
   "cell_type": "code",
   "execution_count": 17,
   "id": "bright-interest",
   "metadata": {},
   "outputs": [
    {
     "data": {
      "text/latex": [
       "\\begin{equation*} -3 \\boldsymbol{e}_{0} + \\boldsymbol{e}_{3} \\end{equation*}"
      ],
      "text/plain": [
       "-3*e_0 + e_3"
      ]
     },
     "execution_count": 17,
     "metadata": {},
     "output_type": "execute_result"
    }
   ],
   "source": [
    "-3*(b-2*a)+(c-a)"
   ]
  },
  {
   "cell_type": "markdown",
   "id": "exact-transition",
   "metadata": {},
   "source": [
    "$$\n",
    "\\begin{aligned}\n",
    "a:&&x + y + \\phantom{0}z -1 &= 0 \\\\\n",
    "b-2a:&&0x  -y - \\phantom{0}z +2&= 0 \\\\\n",
    "5a-3b+c:&&0x+ 0y +z -3 &= 0\n",
    "\\end{aligned}\n",
    "$$"
   ]
  },
  {
   "cell_type": "markdown",
   "id": "retained-subscriber",
   "metadata": {},
   "source": [
    "But the properties of the exterior product make this unnecessary.\n",
    "$$\n",
    "a\\wedge(b-2a)\\wedge(5a-3b+c) = a\\wedge b \\wedge c,\n",
    "$$\n",
    "so we are back where we started."
   ]
  },
  {
   "cell_type": "markdown",
   "id": "sharing-router",
   "metadata": {},
   "source": [
    "### Gaussian elimination as a series of rotations\n",
    "We can also take a more geometric approach by thinking of Gaussian elimination as a series of rotations of the planes about their common lines of intersections."
   ]
  },
  {
   "cell_type": "code",
   "execution_count": 18,
   "id": "persistent-fossil",
   "metadata": {},
   "outputs": [],
   "source": [
    "test=normalize(1+normalize(a)*normalize(b))"
   ]
  },
  {
   "cell_type": "code",
   "execution_count": 19,
   "id": "loaded-humor",
   "metadata": {},
   "outputs": [],
   "source": [
    "X=e1; Y=e2; Z=e3"
   ]
  },
  {
   "cell_type": "markdown",
   "id": "synthetic-personality",
   "metadata": {},
   "source": [
    "So, each step can take the form (for example)\n",
    "$\n",
    "b' = (e_1\\cdot b)a\n",
    "$.  How do I gradually turn this on?"
   ]
  },
  {
   "cell_type": "code",
   "execution_count": 20,
   "id": "close-steam",
   "metadata": {},
   "outputs": [],
   "source": [
    "# Step 1 is this rotor\n",
    "test=normalize(1+normalize(b)*normalize(X|b*a))\n",
    "# I need the log of this.  It's a rotation, so should be of the form\n",
    "# cos(a/2)+sin(a/2)B"
   ]
  },
  {
   "cell_type": "code",
   "execution_count": 21,
   "id": "gentle-midnight",
   "metadata": {},
   "outputs": [
    {
     "data": {
      "text/latex": [
       "\\begin{equation*} \\frac{\\sqrt{2} + \\sqrt{6}}{2 \\sqrt{\\sqrt{3} + 3}}  + \\frac{\\sqrt{2}}{\\sqrt{\\sqrt{3} + 3}} \\boldsymbol{e}_{0}\\wedge \\boldsymbol{e}_{1} + \\frac{\\sqrt{2}}{2 \\sqrt{\\sqrt{3} + 3}} \\boldsymbol{e}_{0}\\wedge \\boldsymbol{e}_{2} + \\frac{\\sqrt{2}}{2 \\sqrt{\\sqrt{3} + 3}} \\boldsymbol{e}_{0}\\wedge \\boldsymbol{e}_{3} + \\frac{\\sqrt{2}}{2 \\sqrt{\\sqrt{3} + 3}} \\boldsymbol{e}_{1}\\wedge \\boldsymbol{e}_{2} + \\frac{\\sqrt{2}}{2 \\sqrt{\\sqrt{3} + 3}} \\boldsymbol{e}_{1}\\wedge \\boldsymbol{e}_{3} \\end{equation*}"
      ],
      "text/plain": [
       "(sqrt(2) + sqrt(6))/(2*sqrt(sqrt(3) + 3)) + sqrt(2)*e_0^e_1/sqrt(sqrt(3) + 3) + sqrt(2)*e_0^e_2/(2*sqrt(sqrt(3) + 3)) + sqrt(2)*e_0^e_3/(2*sqrt(sqrt(3) + 3)) + sqrt(2)*e_1^e_2/(2*sqrt(sqrt(3) + 3)) + sqrt(2)*e_1^e_3/(2*sqrt(sqrt(3) + 3))"
      ]
     },
     "execution_count": 21,
     "metadata": {},
     "output_type": "execute_result"
    }
   ],
   "source": [
    "angle=acos(test[0].obj)\n",
    "B = test[2]/sin(angle)\n",
    "cos(angle)+sin(angle)*B"
   ]
  },
  {
   "cell_type": "code",
   "execution_count": 22,
   "id": "personalized-defeat",
   "metadata": {},
   "outputs": [
    {
     "data": {
      "image/png": "[encoded data removed]",
      "text/latex": [
       "$\\displaystyle \\left( 3 \\mathbf{e}_{0} -3 \\mathbf{e}_{2} -2 \\mathbf{e}_{3}, \\  -3 \\mathbf{e}_{0} + 3 \\mathbf{e}_{2} + 2 \\mathbf{e}_{3}\\right)$"
      ],
      "text/plain": [
       "(3*e_0 - 3*e_2 - 2*e_3, -3*e_0 + 3*e_2 + 2*e_3)"
      ]
     },
     "execution_count": 22,
     "metadata": {},
     "output_type": "execute_result"
    }
   ],
   "source": [
    "#Step 2\n",
    "c-a, X|c*a"
   ]
  },
  {
   "cell_type": "code",
   "execution_count": 23,
   "id": "verified-conducting",
   "metadata": {},
   "outputs": [
    {
     "data": {
      "text/latex": [
       "\\begin{equation*}  0  \\end{equation*}"
      ],
      "text/plain": [
       "0"
      ]
     },
     "execution_count": 23,
     "metadata": {},
     "output_type": "execute_result"
    }
   ],
   "source": [
    "#Step 3\n",
    "Y|(X|c)"
   ]
  },
  {
   "cell_type": "markdown",
   "id": "efficient-postcard",
   "metadata": {},
   "source": [
    "### TODOs\n",
    "* add figures, highlight geometry\n",
    "* describe rotation picture of Gaussian elimination\n",
    "* projections, rejections, reflections\n",
    "* emphasize linear combinations of planes keep their intersection invariant\n",
    "* add norm and normalize functions\n",
    "* use macros to make the text automatically update if the equations are changed"
   ]
  },
  {
   "cell_type": "code",
   "execution_count": null,
   "id": "victorian-douglas",
   "metadata": {},
   "outputs": [],
   "source": []
  }
 ],
 "metadata": {
  "kernelspec": {
   "display_name": "Python [conda env:galgebra]",
   "language": "python",
   "name": "conda-env-galgebra-py"
  },
  "language_info": {
   "codemirror_mode": {
    "name": "ipython",
    "version": 3
   },
   "file_extension": ".py",
   "mimetype": "text/x-python",
   "name": "python",
   "nbconvert_exporter": "python",
   "pygments_lexer": "ipython3",
   "version": "3.8.8"
  }
 },
 "nbformat": 4,
 "nbformat_minor": 5
}
