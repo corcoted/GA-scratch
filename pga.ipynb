{
 "cells": [
  {
   "cell_type": "markdown",
   "metadata": {},
   "source": [
    "# 2D PGA in `galgebra`\n",
    "Here I'm trying to do some symbolic calculations in 2D PGA using the `galgebra` package."
   ]
  },
  {
   "cell_type": "code",
   "execution_count": 1,
   "metadata": {},
   "outputs": [],
   "source": [
    "from sympy import *\n",
    "from galgebra.ga import Ga\n",
    "from galgebra.printer import latex\n",
    "from IPython.display import Math\n",
    "\n",
    "# tell sympy to use our printing by default\n",
    "init_printing()"
   ]
  },
  {
   "cell_type": "markdown",
   "metadata": {},
   "source": [
    "Attempt to generate the algebra for PGA directly:"
   ]
  },
  {
   "cell_type": "code",
   "execution_count": 2,
   "metadata": {},
   "outputs": [
    {
     "name": "stdout",
     "output_type": "stream",
     "text": [
      "!!!!If I**2 = 0, I cannot be normalized!!!!\n"
     ]
    }
   ],
   "source": [
    "wxy = (w, x, y) = symbols('w x y', real=True)\n",
    "pga2 = Ga('e_0 e_1 e_2', g=[0,1, 1], coords=wxy)\n",
    "grad = pga2.grad"
   ]
  },
  {
   "cell_type": "code",
   "execution_count": 3,
   "metadata": {},
   "outputs": [],
   "source": [
    "# not sure of the best choice here, see docs: \n",
    "# https://galgebra.readthedocs.io/en/latest/generated/galgebra.ga.html?galgebra.ga.Ga.dual_mode\n",
    "pga2.dual_mode(mode='+I')"
   ]
  },
  {
   "cell_type": "code",
   "execution_count": 4,
   "metadata": {},
   "outputs": [],
   "source": [
    "e0, e1, e2 = pga2.mv()"
   ]
  },
  {
   "cell_type": "code",
   "execution_count": 5,
   "metadata": {},
   "outputs": [],
   "source": [
    "# define some aliases to simplify writing\n",
    "e01 = e0*e1; e20=e2*e0; e12=e1*e2; e012=e0*e1*e2"
   ]
  },
  {
   "cell_type": "code",
   "execution_count": 6,
   "metadata": {},
   "outputs": [],
   "source": [
    "A, B, C, D = symbols(\"A B C D\", real=True)"
   ]
  },
  {
   "cell_type": "code",
   "execution_count": 7,
   "metadata": {},
   "outputs": [],
   "source": [
    "M = pga2.lt([[A, C, 0],[B,D,0],[0,0,1]]) # generic ray transfer matrix (note the list is the transpose of the matrix)"
   ]
  },
  {
   "cell_type": "code",
   "execution_count": 8,
   "metadata": {},
   "outputs": [],
   "source": [
    "# helper functions\n",
    "def point(x, y):\n",
    "    return x*e20 + y*e01 + e12\n",
    "\n",
    "def line(a, b, c):\n",
    "    return a*e1+b*e2+c*e0"
   ]
  },
  {
   "cell_type": "code",
   "execution_count": 9,
   "metadata": {},
   "outputs": [],
   "source": [
    "# define basic centered rtms"
   ]
  },
  {
   "cell_type": "code",
   "execution_count": 10,
   "metadata": {},
   "outputs": [],
   "source": [
    "f, d, R = symbols(\"f d R\", real=True) # focal length, distance, radius\n",
    "n1 ,n2 = symbols(\"n1 n2\", positive=True) # indices of refraction"
   ]
  },
  {
   "cell_type": "code",
   "execution_count": 11,
   "metadata": {},
   "outputs": [],
   "source": [
    "a, b, c = symbols(\"a b c\", real=True)"
   ]
  },
  {
   "cell_type": "code",
   "execution_count": 12,
   "metadata": {},
   "outputs": [],
   "source": [
    "M_lens = lambda f: pga2.lt([[1, -1/f, 0],[0,1,0],[0,0,1]])\n",
    "M_flatref = lambda n1, n2: pga2.lt([[1, 0, 0],[0,n1/n2,0],[0,0,1]])\n",
    "M_flatmirror = pga2.lt([[1, 0, 0],[0,-1,0],[0,0,1]])\n",
    "M_sphereref = lambda n1, n2, R: pga2.lt([[1, (n1-n2)/(R*n2), 0],[0,n1/n2,0],[0,0,1]])\n",
    "M_spheremirror = lambda R: pga2.lt([[1,- 2/R, 0],[0,1,0],[0,0,1]])\n",
    "M_distance = lambda d: pga2.lt([[1,0,0],[d,1,0],[0,0,1]])"
   ]
  },
  {
   "cell_type": "code",
   "execution_count": 13,
   "metadata": {},
   "outputs": [],
   "source": [
    "# Euclidean norm\n",
    "def Euc_norm(p):\n",
    "    if p.pure_grade() < 0: #not single grade\n",
    "        return nan\n",
    "    elif p.pure_grade() == 0:\n",
    "        return p.get_coefs(0)\n",
    "    elif p.pure_grade() == 3:\n",
    "        return 0\n",
    "    elif p.pure_grade() == 1: # line\n",
    "        return sqrt(p.get_coefs(1)[1]**2 + p.get_coefs(1)[2]**2)\n",
    "    elif p.pure_grade() == 2: # point\n",
    "        return p.get_coefs(2)[2]"
   ]
  },
  {
   "cell_type": "code",
   "execution_count": 14,
   "metadata": {},
   "outputs": [],
   "source": [
    "# Ideal norm\n",
    "def Ideal_norm(p):\n",
    "    if p.pure_grade() < 0: #not single grade\n",
    "        return nan\n",
    "    elif p.pure_grade() == 0:\n",
    "        return 0\n",
    "    elif p.pure_grade() == 3:\n",
    "        return p.get_coefs(3)\n",
    "    elif p.pure_grade() == 1: # line\n",
    "        return p.get_coefs(1)[0]\n",
    "    elif p.pure_grade() == 2: # point\n",
    "        return sqrt(p.get_coefs(2)[0]**2 + p.get_coefs(2)[1]**2)"
   ]
  },
  {
   "cell_type": "code",
   "execution_count": 15,
   "metadata": {},
   "outputs": [],
   "source": [
    "# Euc_normalize\n",
    "def Euc_normalize(p):\n",
    "    n = Euc_norm(p)\n",
    "    if n==nan:\n",
    "        return nan\n",
    "    return p/n"
   ]
  },
  {
   "cell_type": "code",
   "execution_count": 16,
   "metadata": {},
   "outputs": [
    {
     "data": {
      "text/latex": [
       "\\begin{equation*} y \\boldsymbol{e}_{0}\\wedge \\boldsymbol{e}_{1} - x \\boldsymbol{e}_{0}\\wedge \\boldsymbol{e}_{2} - \\frac{f + x}{f} \\boldsymbol{e}_{1}\\wedge \\boldsymbol{e}_{2} \\end{equation*}"
      ],
      "text/plain": [
       "y*e_0^e_1 - x*e_0^e_2 - (f + x)*e_1^e_2/f"
      ]
     },
     "execution_count": 16,
     "metadata": {},
     "output_type": "execute_result"
    }
   ],
   "source": [
    "# try composing some rtms together\n",
    "(M_distance(2*f)*M_lens(f)*M_distance(2*f))(point(-x,y))"
   ]
  },
  {
   "cell_type": "code",
   "execution_count": 17,
   "metadata": {},
   "outputs": [],
   "source": [
    "# define translation and rotation linear operators\n",
    "M_trans = lambda x,y: pga2.lt(1+y/2*e20-x/2*e01)\n",
    "M_rot = lambda a, p=e12: pga2.lt(cos(a/2)-sin(a/2)*p) # rotation by angle a about point p"
   ]
  },
  {
   "cell_type": "code",
   "execution_count": 107,
   "metadata": {},
   "outputs": [
    {
     "data": {
      "text/latex": [
       "\\begin{equation*} \\left ( x \\sin{\\left (a \\right )} + y \\cos{\\left (a \\right )}\\right ) \\boldsymbol{e}_{0}\\wedge \\boldsymbol{e}_{1} + \\left ( - x \\cos{\\left (a \\right )} + y \\sin{\\left (a \\right )}\\right ) \\boldsymbol{e}_{0}\\wedge \\boldsymbol{e}_{2} + \\boldsymbol{e}_{1}\\wedge \\boldsymbol{e}_{2} \\end{equation*}"
      ],
      "text/plain": [
       "(x*sin(a) + y*cos(a))*e_0^e_1 + (-x*cos(a) + y*sin(a))*e_0^e_2 + e_1^e_2"
      ]
     },
     "execution_count": 107,
     "metadata": {},
     "output_type": "execute_result"
    }
   ],
   "source": [
    "M_rot(a)(point(x,y)).trigsimp()"
   ]
  },
  {
   "cell_type": "code",
   "execution_count": 109,
   "metadata": {},
   "outputs": [
    {
     "data": {
      "text/latex": [
       "\\begin{equation*} - c \\boldsymbol{e}_{0} - a \\boldsymbol{e}_{1} - b \\boldsymbol{e}_{2} \\end{equation*}"
      ],
      "text/plain": [
       "-c*e_0 - a*e_1 - b*e_2"
      ]
     },
     "execution_count": 109,
     "metadata": {},
     "output_type": "execute_result"
    }
   ],
   "source": [
    "M_rot(pi,point(0,-c/b))(line(a,b,c))"
   ]
  },
  {
   "cell_type": "code",
   "execution_count": 102,
   "metadata": {},
   "outputs": [
    {
     "data": {
      "image/png": "[encoded data removed]",
      "text/latex": [
       "$\\displaystyle x \\sin{\\left(a \\right)} \\mathbf{e_{0}}\\wedge \\mathbf{e_{1}} - x \\cos{\\left(a \\right)} \\mathbf{e_{0}}\\wedge \\mathbf{e_{2}} + y \\sin{\\left(a \\right)} \\mathbf{e_{0}}\\wedge \\mathbf{e_{2}} + y \\cos{\\left(a \\right)} \\mathbf{e_{0}}\\wedge \\mathbf{e_{1}} + \\mathbf{e_{1}}\\wedge \\mathbf{e_{2}}$"
      ],
      "text/plain": [
       "x⋅sin(a)⋅e₀^e₁ - x⋅cos(a)⋅e₀^e₂ + y⋅sin(a)⋅e₀^e₂ + y⋅cos(a)⋅e₀^e₁ + e₁^e₂"
      ]
     },
     "execution_count": 102,
     "metadata": {},
     "output_type": "execute_result"
    }
   ],
   "source": [
    "simplify(trigsimp(_95.obj))"
   ]
  },
  {
   "cell_type": "markdown",
   "metadata": {},
   "source": [
    "One gap to close is to match our work with the 3x3 matrix (Siegman or Tovar) and the 4x4 matrix of Shaomin."
   ]
  },
  {
   "cell_type": "code",
   "execution_count": 18,
   "metadata": {},
   "outputs": [
    {
     "data": {
      "text/latex": [
       "\\begin{equation*} \\left ( 3 A b {\\sin{\\left (\\frac{f}{2} \\right )}}^{8} - 8 A b {\\sin{\\left (\\frac{f}{2} \\right )}}^{6} + 6 A b {\\sin{\\left (\\frac{f}{2} \\right )}}^{4} - 3 A b {\\cos{\\left (\\frac{f}{2} \\right )}}^{8} + 4 A b {\\cos{\\left (\\frac{f}{2} \\right )}}^{6} + B a {\\sin{\\left (\\frac{f}{2} \\right )}}^{8} - 2 B a {\\sin{\\left (\\frac{f}{2} \\right )}}^{6} - B a {\\cos{\\left (\\frac{f}{2} \\right )}}^{8} + 2 B a {\\cos{\\left (\\frac{f}{2} \\right )}}^{6} + 2 B {\\sin{\\left (\\frac{f}{2} \\right )}}^{7} \\cos{\\left (\\frac{f}{2} \\right )} + 6 B {\\sin{\\left (\\frac{f}{2} \\right )}}^{5} {\\cos{\\left (\\frac{f}{2} \\right )}}^{3} + 6 B {\\sin{\\left (\\frac{f}{2} \\right )}}^{3} {\\cos{\\left (\\frac{f}{2} \\right )}}^{5} - \\frac{3 B {\\sin{\\left (f \\right )}}^{3}}{8} + \\frac{B \\sin{\\left (f \\right )} {\\cos{\\left (f \\right )}}^{3}}{8} + \\frac{3 B \\sin{\\left (f \\right )} \\cos{\\left (f \\right )}}{8} + \\frac{B \\sin{\\left (f \\right )}}{2}\\right ) \\boldsymbol{e}_{0} + \\left ( - C b {\\sin{\\left (\\frac{f}{2} \\right )}}^{8} - 2 C b {\\sin{\\left (\\frac{f}{2} \\right )}}^{6} {\\cos{\\left (\\frac{f}{2} \\right )}}^{2} + 2 C b {\\sin{\\left (\\frac{f}{2} \\right )}}^{2} {\\cos{\\left (\\frac{f}{2} \\right )}}^{6} + C b {\\cos{\\left (\\frac{f}{2} \\right )}}^{8} + D a {\\sin{\\left (\\frac{f}{2} \\right )}}^{8} - 2 D a {\\sin{\\left (\\frac{f}{2} \\right )}}^{4} {\\cos{\\left (\\frac{f}{2} \\right )}}^{4} + D a {\\cos{\\left (\\frac{f}{2} \\right )}}^{8} + \\frac{D \\left(\\cos{\\left (f \\right )} + 1\\right)^{3} \\sin{\\left (f \\right )}}{8} - 2 D {\\sin{\\left (\\frac{f}{2} \\right )}}^{7} \\cos{\\left (\\frac{f}{2} \\right )} - 2 D {\\sin{\\left (\\frac{f}{2} \\right )}}^{5} {\\cos{\\left (\\frac{f}{2} \\right )}}^{3} + 2 D {\\sin{\\left (\\frac{f}{2} \\right )}}^{3} {\\cos{\\left (\\frac{f}{2} \\right )}}^{5} + 4 a {\\sin{\\left (\\frac{f}{2} \\right )}}^{6} {\\cos{\\left (\\frac{f}{2} \\right )}}^{2} + 8 a {\\sin{\\left (\\frac{f}{2} \\right )}}^{4} {\\cos{\\left (\\frac{f}{2} \\right )}}^{4} + 4 a {\\sin{\\left (\\frac{f}{2} \\right )}}^{2} {\\cos{\\left (\\frac{f}{2} \\right )}}^{6} - \\frac{\\left(\\cos{\\left (f \\right )} + 1\\right)^{3} \\sin{\\left (f \\right )}}{8} + 2 {\\sin{\\left (\\frac{f}{2} \\right )}}^{7} \\cos{\\left (\\frac{f}{2} \\right )} + 2 {\\sin{\\left (\\frac{f}{2} \\right )}}^{5} {\\cos{\\left (\\frac{f}{2} \\right )}}^{3} - 2 {\\sin{\\left (\\frac{f}{2} \\right )}}^{3} {\\cos{\\left (\\frac{f}{2} \\right )}}^{5}\\right ) \\boldsymbol{e}_{1} + \\left ( - \\frac{C b \\left(\\cos{\\left (f \\right )} + 1\\right)^{3} \\sin{\\left (f \\right )}}{8} - 2 C b {\\sin{\\left (\\frac{f}{2} \\right )}}^{7} \\cos{\\left (\\frac{f}{2} \\right )} - 6 C b {\\sin{\\left (\\frac{f}{2} \\right )}}^{5} {\\cos{\\left (\\frac{f}{2} \\right )}}^{3} - 6 C b {\\sin{\\left (\\frac{f}{2} \\right )}}^{3} {\\cos{\\left (\\frac{f}{2} \\right )}}^{5} - \\frac{D a \\left(\\cos{\\left (f \\right )} + 1\\right)^{3} \\sin{\\left (f \\right )}}{8} + 2 D a {\\sin{\\left (\\frac{f}{2} \\right )}}^{7} \\cos{\\left (\\frac{f}{2} \\right )} + 2 D a {\\sin{\\left (\\frac{f}{2} \\right )}}^{5} {\\cos{\\left (\\frac{f}{2} \\right )}}^{3} - 2 D a {\\sin{\\left (\\frac{f}{2} \\right )}}^{3} {\\cos{\\left (\\frac{f}{2} \\right )}}^{5} - 4 D {\\sin{\\left (\\frac{f}{2} \\right )}}^{6} {\\cos{\\left (\\frac{f}{2} \\right )}}^{2} - 8 D {\\sin{\\left (\\frac{f}{2} \\right )}}^{4} {\\cos{\\left (\\frac{f}{2} \\right )}}^{4} - 4 D {\\sin{\\left (\\frac{f}{2} \\right )}}^{2} {\\cos{\\left (\\frac{f}{2} \\right )}}^{6} + \\frac{a \\left(\\cos{\\left (f \\right )} + 1\\right)^{3} \\sin{\\left (f \\right )}}{8} - 2 a {\\sin{\\left (\\frac{f}{2} \\right )}}^{7} \\cos{\\left (\\frac{f}{2} \\right )} - 2 a {\\sin{\\left (\\frac{f}{2} \\right )}}^{5} {\\cos{\\left (\\frac{f}{2} \\right )}}^{3} + 2 a {\\sin{\\left (\\frac{f}{2} \\right )}}^{3} {\\cos{\\left (\\frac{f}{2} \\right )}}^{5} - {\\sin{\\left (\\frac{f}{2} \\right )}}^{8} + 2 {\\sin{\\left (\\frac{f}{2} \\right )}}^{4} {\\cos{\\left (\\frac{f}{2} \\right )}}^{4} - {\\cos{\\left (\\frac{f}{2} \\right )}}^{8}\\right ) \\boldsymbol{e}_{2} \\end{equation*}"
      ],
      "text/plain": [
       "(3*A*b*sin(f/2)**8 - 8*A*b*sin(f/2)**6 + 6*A*b*sin(f/2)**4 - 3*A*b*cos(f/2)**8 + 4*A*b*cos(f/2)**6 + B*a*sin(f/2)**8 - 2*B*a*sin(f/2)**6 - B*a*cos(f/2)**8 + 2*B*a*cos(f/2)**6 + 2*B*sin(f/2)**7*cos(f/2) + 6*B*sin(f/2)**5*cos(f/2)**3 + 6*B*sin(f/2)**3*cos(f/2)**5 - 3*B*sin(f)**3/8 + B*sin(f)*cos(f)**3/8 + 3*B*sin(f)*cos(f)/8 + B*sin(f)/2)*e_0 + (-C*b*sin(f/2)**8 - 2*C*b*sin(f/2)**6*cos(f/2)**2 + 2*C*b*sin(f/2)**2*cos(f/2)**6 + C*b*cos(f/2)**8 + D*a*sin(f/2)**8 - 2*D*a*sin(f/2)**4*cos(f/2)**4 + D*a*cos(f/2)**8 + D*(cos(f) + 1)**3*sin(f)/8 - 2*D*sin(f/2)**7*cos(f/2) - 2*D*sin(f/2)**5*cos(f/2)**3 + 2*D*sin(f/2)**3*cos(f/2)**5 + 4*a*sin(f/2)**6*cos(f/2)**2 + 8*a*sin(f/2)**4*cos(f/2)**4 + 4*a*sin(f/2)**2*cos(f/2)**6 - (cos(f) + 1)**3*sin(f)/8 + 2*sin(f/2)**7*cos(f/2) + 2*sin(f/2)**5*cos(f/2)**3 - 2*sin(f/2)**3*cos(f/2)**5)*e_1 + (-C*b*(cos(f) + 1)**3*sin(f)/8 - 2*C*b*sin(f/2)**7*cos(f/2) - 6*C*b*sin(f/2)**5*cos(f/2)**3 - 6*C*b*sin(f/2)**3*cos(f/2)**5 - D*a*(cos(f) + 1)**3*sin(f)/8 + 2*D*a*sin(f/2)**7*cos(f/2) + 2*D*a*sin(f/2)**5*cos(f/2)**3 - 2*D*a*sin(f/2)**3*cos(f/2)**5 - 4*D*sin(f/2)**6*cos(f/2)**2 - 8*D*sin(f/2)**4*cos(f/2)**4 - 4*D*sin(f/2)**2*cos(f/2)**6 + a*(cos(f) + 1)**3*sin(f)/8 - 2*a*sin(f/2)**7*cos(f/2) - 2*a*sin(f/2)**5*cos(f/2)**3 + 2*a*sin(f/2)**3*cos(f/2)**5 - sin(f/2)**8 + 2*sin(f/2)**4*cos(f/2)**4 - cos(f/2)**8)*e_2"
      ]
     },
     "execution_count": 18,
     "metadata": {},
     "output_type": "execute_result"
    }
   ],
   "source": [
    "M_rot(-f)(M(M_rot(f)(line(a,-1,b))))"
   ]
  },
  {
   "cell_type": "code",
   "execution_count": 19,
   "metadata": {},
   "outputs": [
    {
     "ename": "NameError",
     "evalue": "name '_56' is not defined",
     "output_type": "error",
     "traceback": [
      "\u001b[0;31m---------------------------------------------------------------------------\u001b[0m",
      "\u001b[0;31mNameError\u001b[0m                                 Traceback (most recent call last)",
      "\u001b[0;32m<ipython-input-19-9665aac9c2fb>\u001b[0m in \u001b[0;36m<module>\u001b[0;34m\u001b[0m\n\u001b[0;32m----> 1\u001b[0;31m \u001b[0mseries\u001b[0m\u001b[0;34m(\u001b[0m\u001b[0m_56\u001b[0m\u001b[0;34m.\u001b[0m\u001b[0mget_coefs\u001b[0m\u001b[0;34m(\u001b[0m\u001b[0;36m1\u001b[0m\u001b[0;34m)\u001b[0m\u001b[0;34m[\u001b[0m\u001b[0;36m0\u001b[0m\u001b[0;34m]\u001b[0m\u001b[0;34m,\u001b[0m\u001b[0mf\u001b[0m\u001b[0;34m,\u001b[0m\u001b[0mn\u001b[0m\u001b[0;34m=\u001b[0m\u001b[0;36m2\u001b[0m\u001b[0;34m)\u001b[0m\u001b[0;34m\u001b[0m\u001b[0;34m\u001b[0m\u001b[0m\n\u001b[0m",
      "\u001b[0;31mNameError\u001b[0m: name '_56' is not defined"
     ]
    }
   ],
   "source": [
    "series(_56.get_coefs(1)[0],f,n=2)"
   ]
  },
  {
   "cell_type": "code",
   "execution_count": null,
   "metadata": {},
   "outputs": [],
   "source": [
    "series(_56.get_coefs(1)[1],f,n=2)"
   ]
  },
  {
   "cell_type": "code",
   "execution_count": null,
   "metadata": {},
   "outputs": [],
   "source": [
    "series(_56.get_coefs(1)[2],f,n=2)"
   ]
  },
  {
   "cell_type": "code",
   "execution_count": null,
   "metadata": {},
   "outputs": [],
   "source": [
    "series(-_57/_59,f,n=2).expand().collect([a,b])"
   ]
  },
  {
   "cell_type": "code",
   "execution_count": null,
   "metadata": {},
   "outputs": [],
   "source": [
    "series(-_58/_59,f,n=2).expand().collect([a,b])"
   ]
  },
  {
   "cell_type": "code",
   "execution_count": null,
   "metadata": {},
   "outputs": [],
   "source": [
    "series(-_59/_59,f,n=2).expand().collect([a,b])"
   ]
  },
  {
   "cell_type": "code",
   "execution_count": null,
   "metadata": {},
   "outputs": [],
   "source": [
    "# the above confirms that this agrees with Shaomin up to normalization and linear dependence on the ray parameters."
   ]
  },
  {
   "cell_type": "code",
   "execution_count": null,
   "metadata": {},
   "outputs": [],
   "source": [
    "M_trans(0,-d)(M(M_trans(0,d)(line(a,-1,b))))"
   ]
  },
  {
   "cell_type": "code",
   "execution_count": null,
   "metadata": {},
   "outputs": [],
   "source": [
    "# This agrees with Shaomin eq. 6 for shifted ABCD matrix!"
   ]
  },
  {
   "cell_type": "markdown",
   "metadata": {},
   "source": [
    "Tilt-shift example"
   ]
  },
  {
   "cell_type": "markdown",
   "metadata": {},
   "source": [
    "Show that the object plane, image plane, and focal plane of a thin lens meet at at point"
   ]
  },
  {
   "cell_type": "code",
   "execution_count": 20,
   "metadata": {},
   "outputs": [],
   "source": [
    "# start with vertical object plane\n",
    "obj=line(1,0,-d)"
   ]
  },
  {
   "cell_type": "code",
   "execution_count": 21,
   "metadata": {},
   "outputs": [
    {
     "data": {
      "text/latex": [
       "\\begin{equation*} - d \\boldsymbol{e}_{0} + \\boldsymbol{e}_{1} \\end{equation*}"
      ],
      "text/plain": [
       "-d*e_0 + e_1"
      ]
     },
     "execution_count": 21,
     "metadata": {},
     "output_type": "execute_result"
    }
   ],
   "source": [
    "obj"
   ]
  },
  {
   "cell_type": "code",
   "execution_count": 22,
   "metadata": {},
   "outputs": [],
   "source": [
    "img=M_lens(f)(obj)"
   ]
  },
  {
   "cell_type": "code",
   "execution_count": 23,
   "metadata": {},
   "outputs": [
    {
     "data": {
      "text/latex": [
       "\\begin{equation*} - \\frac{d^{2}}{f} \\boldsymbol{e}_{0}\\wedge \\boldsymbol{e}_{1} \\end{equation*}"
      ],
      "text/plain": [
       "-d**2*e_0^e_1/f"
      ]
     },
     "execution_count": 23,
     "metadata": {},
     "output_type": "execute_result"
    }
   ],
   "source": [
    "obj^img # their intersection point is infinitely far away in the y direction."
   ]
  },
  {
   "cell_type": "code",
   "execution_count": 84,
   "metadata": {},
   "outputs": [],
   "source": [
    "def J(x):\n",
    "    # J map for pga2 multivectors\n",
    "    coef_list = x.blade_coefs()\n",
    "    # flip sign of e02 and e1\n",
    "    coef_list[2] = -coef_list[2]\n",
    "    coef_list[5] = -coef_list[5]\n",
    "    return pga2.mv(sum(coef_list[7-mm]*flatten(pga2.blades)[mm] for mm in range(8)))"
   ]
  },
  {
   "cell_type": "code",
   "execution_count": 85,
   "metadata": {},
   "outputs": [
    {
     "data": {
      "text/latex": [
       "\\begin{equation*} y \\boldsymbol{e}_{0}\\wedge \\boldsymbol{e}_{1} - x \\boldsymbol{e}_{0}\\wedge \\boldsymbol{e}_{2} + \\boldsymbol{e}_{1}\\wedge \\boldsymbol{e}_{2} \\end{equation*}"
      ],
      "text/plain": [
       "y*e_0^e_1 - x*e_0^e_2 + e_1^e_2"
      ]
     },
     "execution_count": 85,
     "metadata": {},
     "output_type": "execute_result"
    }
   ],
   "source": [
    "J(J(point(x,y)))"
   ]
  },
  {
   "cell_type": "code",
   "execution_count": 86,
   "metadata": {},
   "outputs": [
    {
     "data": {
      "text/latex": [
       "\\begin{equation*} c \\boldsymbol{e}_{0} + a \\boldsymbol{e}_{1} + b \\boldsymbol{e}_{2} \\end{equation*}"
      ],
      "text/plain": [
       "c*e_0 + a*e_1 + b*e_2"
      ]
     },
     "execution_count": 86,
     "metadata": {},
     "output_type": "execute_result"
    }
   ],
   "source": [
    "J(J(line(a,b,c)))"
   ]
  },
  {
   "cell_type": "code",
   "execution_count": 87,
   "metadata": {},
   "outputs": [],
   "source": [
    "def vee(A, B):\n",
    "    # regressive product\n",
    "    return J(J(A)^J(B))"
   ]
  },
  {
   "cell_type": "code",
   "execution_count": 92,
   "metadata": {},
   "outputs": [],
   "source": [
    "#now tilt the object plane about where it crosses the axis\n",
    "obj2=vee(point(-d,0),(sin(a)*e20+cos(a)*e01))"
   ]
  },
  {
   "cell_type": "code",
   "execution_count": 93,
   "metadata": {},
   "outputs": [],
   "source": [
    "img2 = M_lens(f)(obj2)"
   ]
  },
  {
   "cell_type": "code",
   "execution_count": 94,
   "metadata": {},
   "outputs": [
    {
     "data": {
      "text/latex": [
       "\\begin{equation*} - d \\cos{\\left (a \\right )} \\boldsymbol{e}_{0} + \\frac{\\left(d - f\\right) \\cos{\\left (a \\right )}}{f} \\boldsymbol{e}_{1} + \\sin{\\left (a \\right )} \\boldsymbol{e}_{2} \\end{equation*}"
      ],
      "text/plain": [
       "-d*cos(a)*e_0 + (d - f)*cos(a)*e_1/f + sin(a)*e_2"
      ]
     },
     "execution_count": 94,
     "metadata": {},
     "output_type": "execute_result"
    }
   ],
   "source": [
    "img2"
   ]
  },
  {
   "cell_type": "code",
   "execution_count": 110,
   "metadata": {},
   "outputs": [
    {
     "data": {
      "text/latex": [
       "\\begin{equation*} - \\frac{d^{2} {\\cos{\\left (a \\right )}}^{2}}{f} \\boldsymbol{e}_{0}\\wedge \\boldsymbol{e}_{1} - \\frac{d \\sin{\\left (2 a \\right )}}{2 f} \\boldsymbol{e}_{1}\\wedge \\boldsymbol{e}_{2} \\end{equation*}"
      ],
      "text/plain": [
       "-d**2*cos(a)**2*e_0^e_1/f - d*sin(2*a)*e_1^e_2/(2*f)"
      ]
     },
     "execution_count": 110,
     "metadata": {},
     "output_type": "execute_result"
    }
   ],
   "source": [
    "obj2^img2"
   ]
  },
  {
   "cell_type": "code",
   "execution_count": 111,
   "metadata": {},
   "outputs": [],
   "source": [
    "lensplane = line(1,0,0) # y axis"
   ]
  },
  {
   "cell_type": "code",
   "execution_count": 114,
   "metadata": {},
   "outputs": [
    {
     "data": {
      "text/latex": [
       "\\begin{equation*}  \\boldsymbol{e}_{1} \\end{equation*}"
      ],
      "text/plain": [
       "e_1"
      ]
     },
     "execution_count": 114,
     "metadata": {},
     "output_type": "execute_result"
    }
   ],
   "source": [
    "lensplane"
   ]
  },
  {
   "cell_type": "code",
   "execution_count": 112,
   "metadata": {},
   "outputs": [
    {
     "data": {
      "text/plain": [
       "True"
      ]
     },
     "execution_count": 112,
     "metadata": {},
     "output_type": "execute_result"
    }
   ],
   "source": [
    "obj2^img2^lensplane == 0 # do these all intersect at the same point?"
   ]
  },
  {
   "cell_type": "code",
   "execution_count": 113,
   "metadata": {},
   "outputs": [
    {
     "data": {
      "text/latex": [
       "\\begin{equation*} \\frac{d}{\\tan{\\left (a \\right )}} \\boldsymbol{e}_{0}\\wedge \\boldsymbol{e}_{1} + \\boldsymbol{e}_{1}\\wedge \\boldsymbol{e}_{2} \\end{equation*}"
      ],
      "text/plain": [
       "d*e_0^e_1/tan(a) + e_1^e_2"
      ]
     },
     "execution_count": 113,
     "metadata": {},
     "output_type": "execute_result"
    }
   ],
   "source": [
    "Euc_normalize(obj2^img2)"
   ]
  },
  {
   "cell_type": "code",
   "execution_count": null,
   "metadata": {},
   "outputs": [],
   "source": [
    "# This is the point of intersection, x=0, y=the first coefficient"
   ]
  },
  {
   "cell_type": "code",
   "execution_count": 117,
   "metadata": {},
   "outputs": [
    {
     "data": {
      "text/latex": [
       "\\begin{equation*} - d \\cos{\\left (a \\right )} \\boldsymbol{e}_{0}\\wedge \\boldsymbol{e}_{2} + \\frac{\\left(d - f\\right) \\cos{\\left (a \\right )}}{f} \\boldsymbol{e}_{1}\\wedge \\boldsymbol{e}_{2} \\end{equation*}"
      ],
      "text/plain": [
       "-d*cos(a)*e_0^e_2 + (d - f)*cos(a)*e_1^e_2/f"
      ]
     },
     "execution_count": 117,
     "metadata": {},
     "output_type": "execute_result"
    }
   ],
   "source": [
    "img2^e2"
   ]
  },
  {
   "cell_type": "code",
   "execution_count": 116,
   "metadata": {},
   "outputs": [
    {
     "data": {
      "text/latex": [
       "\\begin{equation*} - \\frac{d f}{d - f} \\boldsymbol{e}_{0}\\wedge \\boldsymbol{e}_{2} + \\boldsymbol{e}_{1}\\wedge \\boldsymbol{e}_{2} \\end{equation*}"
      ],
      "text/plain": [
       "-d*f*e_0^e_2/(d - f) + e_1^e_2"
      ]
     },
     "execution_count": 116,
     "metadata": {},
     "output_type": "execute_result"
    }
   ],
   "source": [
    "Euc_normalize(img2^e2)"
   ]
  },
  {
   "cell_type": "code",
   "execution_count": 120,
   "metadata": {},
   "outputs": [
    {
     "data": {
      "image/png": "[encoded data removed]",
      "text/latex": [
       "$\\displaystyle \\frac{d f}{d - f}$"
      ],
      "text/plain": [
       " d⋅f \n",
       "─────\n",
       "d - f"
      ]
     },
     "execution_count": 120,
     "metadata": {},
     "output_type": "execute_result"
    }
   ],
   "source": [
    "simplify((1/f-1/d)**-1)"
   ]
  },
  {
   "cell_type": "code",
   "execution_count": null,
   "metadata": {},
   "outputs": [],
   "source": []
  }
 ],
 "metadata": {
  "kernelspec": {
   "display_name": "Python [conda env:galgebra]",
   "language": "python",
   "name": "conda-env-galgebra-py"
  },
  "language_info": {
   "codemirror_mode": {
    "name": "ipython",
    "version": 3
   },
   "file_extension": ".py",
   "mimetype": "text/x-python",
   "name": "python",
   "nbconvert_exporter": "python",
   "pygments_lexer": "ipython3",
   "version": "3.8.6"
  }
 },
 "nbformat": 4,
 "nbformat_minor": 4
}
