{
 "cells": [
  {
   "cell_type": "markdown",
   "id": "da1892ed",
   "metadata": {},
   "source": [
    "# Statics\n",
    "Ted Corcovilos - 20210609\n",
    "\n",
    "Statics problems in PGA, based on the ideas in Gunn's thesis and preprint."
   ]
  },
  {
   "cell_type": "code",
   "execution_count": 2,
   "id": "62c55011",
   "metadata": {},
   "outputs": [],
   "source": [
    "from clifford.pga import *"
   ]
  },
  {
   "cell_type": "code",
   "execution_count": 8,
   "id": "a4fb2a76",
   "metadata": {},
   "outputs": [],
   "source": [
    "from math import *"
   ]
  },
  {
   "cell_type": "code",
   "execution_count": 3,
   "id": "b09304c7",
   "metadata": {},
   "outputs": [
    {
     "data": {
      "text/plain": [
       "Layout([0, 1, 1, 1],\n",
       "       ids=BasisVectorIds.ordered_integers(4, first_index=0),\n",
       "       order=BasisBladeOrder.shortlex(4),\n",
       "       names=['', 'e0', 'e1', 'e2', 'e3', 'e01', 'e02', 'e03', 'e12', 'e13', 'e23', 'e012', 'e013', 'e023', 'e123', 'e0123'])"
      ]
     },
     "execution_count": 3,
     "metadata": {},
     "output_type": "execute_result"
    }
   ],
   "source": [
    "layout"
   ]
  },
  {
   "cell_type": "code",
   "execution_count": 4,
   "id": "e789324b",
   "metadata": {},
   "outputs": [],
   "source": [
    "I = e0123 # shortcut for the pseudoscalar"
   ]
  },
  {
   "cell_type": "markdown",
   "id": "a920c06f",
   "metadata": {},
   "source": [
    "## Forces\n",
    "In PGA, forces and torques are represented by lines through the point the force is applied to.  If the force has magnitude $F$, direction $\\mathbf{u}$ (3-vector) and is applied at point $\\mathbf{r}$ (3-vector), then the force bivector $\\bar{F}$ (in 3d) is\n",
    "\n",
    "$$\n",
    "\\bar{F} = F \\mathbf{r}\\vee\\mathbf{u}\n",
    "$$"
   ]
  },
  {
   "cell_type": "markdown",
   "id": "e7532bc4",
   "metadata": {},
   "source": [
    "For example, let's calculate the gravity force on a particle with mass $m$ located at coordinates $(b,0,0)$ under gravitational acceleration in the $-\\hat{z}$."
   ]
  },
  {
   "cell_type": "code",
   "execution_count": 11,
   "id": "2be2be39",
   "metadata": {},
   "outputs": [],
   "source": [
    "# define our constant values\n",
    "b = 1.0; g = 10.0; m=1.0"
   ]
  },
  {
   "cell_type": "code",
   "execution_count": 12,
   "id": "bd73b018",
   "metadata": {},
   "outputs": [],
   "source": [
    "r = (e0+b*e1).dual()"
   ]
  },
  {
   "cell_type": "code",
   "execution_count": 15,
   "id": "d9ae9972",
   "metadata": {},
   "outputs": [],
   "source": [
    "u = (-1*e3).dual()"
   ]
  },
  {
   "cell_type": "code",
   "execution_count": 17,
   "id": "f4463c5f",
   "metadata": {},
   "outputs": [],
   "source": [
    "F = m*g*(r & u) # & is the vee product"
   ]
  },
  {
   "cell_type": "code",
   "execution_count": 23,
   "id": "aa020596",
   "metadata": {},
   "outputs": [
    {
     "data": {
      "text/plain": [
       "(10.0^e02) - (10.0^e12)"
      ]
     },
     "execution_count": 23,
     "metadata": {},
     "output_type": "execute_result"
    }
   ],
   "source": [
    "F"
   ]
  },
  {
   "cell_type": "markdown",
   "id": "de3654ea",
   "metadata": {},
   "source": [
    "The acceleration spear is represented by\n",
    "$$ \\bar{a} = \\mathbf{r} \\vee \\ddot{\\mathbf{r}} $$"
   ]
  },
  {
   "cell_type": "code",
   "execution_count": 24,
   "id": "eac16c95",
   "metadata": {},
   "outputs": [
    {
     "data": {
      "text/plain": [
       "(10.0^e02) - (10.0^e12)"
      ]
     },
     "execution_count": 24,
     "metadata": {},
     "output_type": "execute_result"
    }
   ],
   "source": [
    "r & (g*u)"
   ]
  },
  {
   "cell_type": "code",
   "execution_count": 27,
   "id": "6bf08117",
   "metadata": {},
   "outputs": [
    {
     "data": {
      "text/plain": [
       "1.0"
      ]
     },
     "execution_count": 27,
     "metadata": {},
     "output_type": "execute_result"
    }
   ],
   "source": [
    "(~r)*r"
   ]
  },
  {
   "cell_type": "markdown",
   "id": "downtown-welcome",
   "metadata": {},
   "source": [
    "## Example 1\n",
    "Mass supported by two strings.\n",
    "\n",
    "A 1-kg mass is supported by two stings each of length 5 cm.  The ends of the strings are tied to 2 posts separated by 8 cm and at the same height.  What is the tension force on each string?"
   ]
  },
  {
   "cell_type": "markdown",
   "id": "existing-pregnancy",
   "metadata": {},
   "source": [
    "TODO insert picture"
   ]
  },
  {
   "cell_type": "markdown",
   "id": "regional-shape",
   "metadata": {},
   "source": [
    "We know from symmetry that $T_1 = T_2$, but let's ignore that for now."
   ]
  },
  {
   "cell_type": "markdown",
   "id": "southeast-oxford",
   "metadata": {},
   "source": [
    "We'll place the mass at the origin.  Its position will just be the bivector (wlrking with 2DPGA)\n",
    "$$\n",
    "\\bar{M} = e_{12}.\n",
    "$$\n",
    "\n",
    "The two posts will be located at positions\n",
    "$$\n",
    "\\bar{P}_1 = (e_{12} - 4 e_{20} + 3 e_{01})\\,\\mathrm{cm}\n",
    "\\qquad\n",
    "\\bar{P}_2 = (e_{12} + 4 e_{20} + 3 e_{01})\\,\\mathrm{cm}\n",
    "$$"
   ]
  },
  {
   "cell_type": "markdown",
   "id": "agricultural-texas",
   "metadata": {},
   "source": [
    "The two tension forces will be along the lines joining the mass with the points.\n",
    "$$\n",
    "\\begin{aligned}\n",
    "\\bar{T}_1 &= T_1 \\widehat{\\bar{M} \\vee \\bar{P_1}} \\\\\n",
    "          &= T_1 \\widehat{e_{12} \\vee (e_{12} - 4e_{20} + 3e_{e01})} \\\\\n",
    "          &= T_1 \\widehat{J[e_0 \\wedge (e_0 - 4e_1 + 3e_2)]} \\\\\n",
    "          &= T_1 \\widehat{J[-4e_{01}+3e_{02}]} \\\\\n",
    "          &= T_1 \\widehat{-4e_2 -3e_1} \\\\\n",
    "\\bar{T}_1 &= T_1 \\left(-\\frac35 e_1 - \\frac45 e_2 \\right)\\\\[1.5ex]\n",
    "\\bar{T}_2 &= T_2 \\left(-\\frac35 e_1 + \\frac45 e_2 \\right)\n",
    "\\end{aligned}\n",
    "$$"
   ]
  },
  {
   "cell_type": "markdown",
   "id": "narrow-netherlands",
   "metadata": {},
   "source": [
    "Above, $\\hat{x}$ means normalized $x$:\n",
    "$$ \\hat{x} = \\frac{x}{\\lVert x \\rVert}, $$\n",
    "and $J$ represents the dual operation."
   ]
  },
  {
   "cell_type": "markdown",
   "id": "dental-collins",
   "metadata": {},
   "source": [
    "#### The Code\n",
    "Right now the code is set up with 3DPGA, so all of the expressions will look slightly different."
   ]
  },
  {
   "cell_type": "code",
   "execution_count": 21,
   "id": "polished-illustration",
   "metadata": {},
   "outputs": [],
   "source": [
    "# magnitude of mass\n",
    "m = 1\n",
    "# gravitational acceleration (approx.)\n",
    "g = 10"
   ]
  },
  {
   "cell_type": "code",
   "execution_count": 32,
   "id": "domestic-stand",
   "metadata": {},
   "outputs": [
    {
     "name": "stdout",
     "output_type": "stream",
     "text": [
      "M= (1.0^e123)\n"
     ]
    }
   ],
   "source": [
    "# position of the mass\n",
    "# I'll define the positions \"dually\"\n",
    "M = (e0).dual()\n",
    "print(\"M=\",M)"
   ]
  },
  {
   "cell_type": "code",
   "execution_count": 28,
   "id": "critical-singapore",
   "metadata": {},
   "outputs": [
    {
     "name": "stdout",
     "output_type": "stream",
     "text": [
      "P1= (3.0^e013) + (4.0^e023) + (1.0^e123) \n",
      "P2= (3.0^e013) - (4.0^e023) + (1.0^e123)\n"
     ]
    }
   ],
   "source": [
    "# positions of the posts (units of cm)\n",
    "P1 = (e0 - 4*e1 + 3*e2).dual()\n",
    "P2 = (e0 + 4*e1 + 3*e2).dual()\n",
    "print(\"P1=\",P1, \"\\nP2=\",P2)"
   ]
  },
  {
   "cell_type": "code",
   "execution_count": 30,
   "id": "pregnant-partition",
   "metadata": {},
   "outputs": [
    {
     "name": "stdout",
     "output_type": "stream",
     "text": [
      "l1= -(0.6^e13) - (0.8^e23)\n"
     ]
    }
   ],
   "source": [
    "# line of tension T1 (unitless)\n",
    "l1 = (M & P1).normal()\n",
    "print(\"l1=\",l1)"
   ]
  },
  {
   "cell_type": "code",
   "execution_count": 31,
   "id": "average-looking",
   "metadata": {},
   "outputs": [
    {
     "name": "stdout",
     "output_type": "stream",
     "text": [
      "l2= -(0.6^e13) + (0.8^e23)\n"
     ]
    }
   ],
   "source": [
    "# line of tension T2 (units of N)\n",
    "l2 = (M & P2).normal()\n",
    "print(\"l2=\",l2)"
   ]
  },
  {
   "cell_type": "markdown",
   "id": "dated-fancy",
   "metadata": {},
   "source": [
    "We'll express the gravity force using the recipe\n",
    "$$\n",
    "\\textrm{Force} = \\textrm{magnitude}\\; (\\textrm{position} \\vee \\textrm{direction}).\n",
    "$$"
   ]
  },
  {
   "cell_type": "code",
   "execution_count": 34,
   "id": "atomic-visiting",
   "metadata": {},
   "outputs": [
    {
     "name": "stdout",
     "output_type": "stream",
     "text": [
      "Fg= (10.0^e13)\n"
     ]
    }
   ],
   "source": [
    "# gravity force (units of N)\n",
    "Fg = m*g*(M & ((-e2).dual()))\n",
    "print(\"Fg=\", Fg)"
   ]
  },
  {
   "cell_type": "markdown",
   "id": "presidential-taiwan",
   "metadata": {},
   "source": [
    "In static equilibrium, the sum of all of the force multivectors must be zero.  We can do this for each component separately:\n",
    "First, along the $x$-axis ($e_{23}$)\n",
    "$$ e_{23}: 0 = T_1 (-0.8) + T_2 (+0.8) \\quad\\rightarrow\\quad T_1 = T_2.$$"
   ]
  },
  {
   "cell_type": "markdown",
   "id": "major-outreach",
   "metadata": {},
   "source": [
    "Then along the $y$-axis ($e_{13}$):\n",
    "$$\n",
    "e_{13}: 0 = T_1(-0.6) + T_2 (-0.6) + 10.0\\,\\mathrm{N} \\qquad\\rightarrow\\qquad T_1 = T_2 = 8.33\\,\\mathrm{N}.\n",
    "$$"
   ]
  },
  {
   "cell_type": "markdown",
   "id": "fd36dcdc",
   "metadata": {},
   "source": [
    "# Example 2"
   ]
  },
  {
   "cell_type": "markdown",
   "id": "ae0a72a3",
   "metadata": {},
   "source": [
    "A person lifts up and holds one end of a long plank of mass $M$ and length $d$.  The other end is fixed on the ground.  What is the force exerted by the person?"
   ]
  },
  {
   "cell_type": "markdown",
   "id": "66b1a94d",
   "metadata": {},
   "source": [
    "Call the gravity force $F_g$, the person force $F$, and the normal force on the stationary end $F_N$.\n",
    "We'll pick the coordinate origin to be the stationary end of the plank.\n",
    "\n",
    "$$\n",
    "\\begin{aligned}\n",
    "\\bar{F}_g &= Mg \\left( e_{12} + \\frac{d}{2}\\,e_{20} \\right) \\vee (-e_{01}) \\\\\n",
    "          &= Mg \\left(-\\frac{d}{2} e_0 + e_1 \\right)\\\\[1.5ex]\n",
    "\\bar{F}_N &= F_N e_{12} \\vee e_{01} = -F_N e_1 \\\\[1.5ex]\n",
    "\\bar{F}   &= F (e_{12} + d\\,e_{20}) \\vee e_{01} \\\\\n",
    "          &= -F e_1 + Fd e_0\n",
    "\\end{aligned}\n",
    "$$"
   ]
  },
  {
   "cell_type": "markdown",
   "id": "45a4cd4f",
   "metadata": {},
   "source": [
    "As before, the sum of the forces must be zero.  Looking at the $e_0$ terms, we get\n",
    "$$\n",
    "e_0:\\qquad -\\frac12 Mgd + Fd = 0 \\quad \\rightarrow \\quad\n",
    "F = \\frac12 Mg\n",
    "$$"
   ]
  },
  {
   "cell_type": "markdown",
   "id": "3db2fae5",
   "metadata": {},
   "source": [
    "# Example 3\n",
    "(insert figure)\n",
    "\n",
    "A triangular truss consists of 4 points, located at points (in meters)\n",
    "$$\n",
    "\\begin{array}{cc}\n",
    "A = (0,0) & B = (1,0) \\\\\n",
    "C = (1/2, \\sqrt{3}/2) & D = (3/2, \\sqrt{3}/2)\n",
    "\\end{array}\n",
    "$$\n",
    "\n",
    "Five rigid links connect the points: $AB$, $AC$, $BC$, $BD$, $CD$.  Joints $A$ and $B$ are fastened to the ground.\n",
    "\n",
    "A mass with weight $W = 100\\,\\mathrm{N}$ is attached to point $D$.\n",
    "\n",
    "What is the tensile force in each link of the truss?"
   ]
  },
  {
   "cell_type": "code",
   "execution_count": 11,
   "id": "1adfa9f4",
   "metadata": {},
   "outputs": [],
   "source": [
    "# the points\n",
    "A = (e0).dual()\n",
    "B = (e0 + e1).dual()\n",
    "C = (e0 + 0.5*e1 + sqrt(3)/2.*e2).dual()\n",
    "D = (e0 + 1.5*e1 + sqrt(3)/2.*e2).dual()"
   ]
  },
  {
   "cell_type": "code",
   "execution_count": 12,
   "id": "a6d932fd",
   "metadata": {},
   "outputs": [],
   "source": [
    "# the lines of the links, normalized\n",
    "AB = (A & B).normal()\n",
    "AC = (A & C).normal()\n",
    "BC = (B & C).normal()\n",
    "BD = (B & D).normal()\n",
    "CD = (C & D).normal()"
   ]
  },
  {
   "cell_type": "code",
   "execution_count": 17,
   "id": "26814a05",
   "metadata": {},
   "outputs": [],
   "source": [
    "# weight force (100 N at point D in the -y direction)\n",
    "W = 100.*(D & (-e2.dual())).normal()"
   ]
  },
  {
   "cell_type": "code",
   "execution_count": 18,
   "id": "83802632",
   "metadata": {},
   "outputs": [
    {
     "data": {
      "text/plain": [
       "-(150.0^e03) + (100.0^e13)"
      ]
     },
     "execution_count": 18,
     "metadata": {},
     "output_type": "execute_result"
    }
   ],
   "source": [
    "W"
   ]
  },
  {
   "cell_type": "code",
   "execution_count": null,
   "id": "cc154ece",
   "metadata": {},
   "outputs": [],
   "source": []
  }
 ],
 "metadata": {
  "kernelspec": {
   "display_name": "Python [conda env:galgebra]",
   "language": "python",
   "name": "conda-env-galgebra-py"
  },
  "language_info": {
   "codemirror_mode": {
    "name": "ipython",
    "version": 3
   },
   "file_extension": ".py",
   "mimetype": "text/x-python",
   "name": "python",
   "nbconvert_exporter": "python",
   "pygments_lexer": "ipython3",
   "version": "3.9.5"
  },
  "varInspector": {
   "cols": {
    "lenName": 16,
    "lenType": 16,
    "lenVar": 40
   },
   "kernels_config": {
    "python": {
     "delete_cmd_postfix": "",
     "delete_cmd_prefix": "del ",
     "library": "var_list.py",
     "varRefreshCmd": "print(var_dic_list())"
    },
    "r": {
     "delete_cmd_postfix": ") ",
     "delete_cmd_prefix": "rm(",
     "library": "var_list.r",
     "varRefreshCmd": "cat(var_dic_list()) "
    }
   },
   "types_to_exclude": [
    "module",
    "function",
    "builtin_function_or_method",
    "instance",
    "_Feature"
   ],
   "window_display": false
  }
 },
 "nbformat": 4,
 "nbformat_minor": 5
}
