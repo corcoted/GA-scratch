{
 "cells": [
  {
   "cell_type": "markdown",
   "metadata": {
    "slideshow": {
     "slide_type": "slide"
    }
   },
   "source": [
    "# A Gallery of Projective Geometric Algebra\n",
    "Ted Corcovilos\n",
    "2021-03-09"
   ]
  },
  {
   "cell_type": "markdown",
   "metadata": {
    "slideshow": {
     "slide_type": "skip"
    }
   },
   "source": [
    "## Preliminaries\n",
    "This section is setup material that does not display in the final presentation."
   ]
  },
  {
   "cell_type": "markdown",
   "metadata": {
    "slideshow": {
     "slide_type": "skip"
    }
   },
   "source": [
    "To display correctly, this notebook requires classic Jupyter notebook (not Jupyterlab) with the following notebook extensions:\n",
    "* RISE\n",
    "* Python Markdown\n",
    "* Hide input\n",
    "* Split cells notebook"
   ]
  },
  {
   "cell_type": "code",
   "execution_count": 1,
   "metadata": {
    "hide_input": false,
    "slideshow": {
     "slide_type": "skip"
    }
   },
   "outputs": [],
   "source": [
    "from clifford import *\n",
    "\n",
    "import numpy as np\n",
    "\n",
    "import matplotlib.pyplot as plt\n",
    "from matplotlib.patches import Ellipse\n",
    "\n",
    "import warnings"
   ]
  },
  {
   "cell_type": "code",
   "execution_count": 2,
   "metadata": {
    "slideshow": {
     "slide_type": "skip"
    }
   },
   "outputs": [],
   "source": [
    "# define 2D PGA\n",
    "layout, blades = Cl(2,0,1, firstIdx=0)\n",
    "locals().update(blades)"
   ]
  },
  {
   "cell_type": "code",
   "execution_count": 3,
   "metadata": {
    "slideshow": {
     "slide_type": "skip"
    }
   },
   "outputs": [],
   "source": [
    "# helper functions\n",
    "point = lambda x, y, w=1.0 : (x*e1+y*e2+w*e0).dual()\n",
    "line = lambda a, b, c: a*e1+b*e2+c*e0"
   ]
  },
  {
   "cell_type": "code",
   "execution_count": 4,
   "metadata": {
    "slideshow": {
     "slide_type": "skip"
    }
   },
   "outputs": [],
   "source": [
    "def rand_line(num=1,length=1.0):\n",
    "    '''\n",
    "    generates 'num' random (normalized) lines with maximum moment of 'length'\n",
    "    '''\n",
    "    # a line looks like xe1 + ye2 + ce0 and is normalized if x**2 + y**2 = 1\n",
    "    # So, we'll use a polar form for x and y\n",
    "    angle = 2.0*np.pi* np.random.random(num) # random angle between 0 and 2pi radians\n",
    "    x = np.cos(angle)\n",
    "    y = np.sin(angle)\n",
    "    c = np.random.random(num)*length\n",
    "    if num == 1:\n",
    "        line = MultiVector(layout,[0,c[0],x[0],y[0],0,0,0,0])\n",
    "    else:\n",
    "        line = [MultiVector(layout,[0,c[i],x[i],y[i],0,0,0,0]) for i in range(num)]\n",
    "    return(line)\n",
    "    "
   ]
  },
  {
   "cell_type": "code",
   "execution_count": 5,
   "metadata": {
    "slideshow": {
     "slide_type": "skip"
    }
   },
   "outputs": [],
   "source": [
    "def rand_point(num=1,length=1.0):\n",
    "    '''\n",
    "    generates 'num' random (normalized) lines with maximum moment of 'length'.\n",
    "    length=0 generates ideal points\n",
    "    '''\n",
    "    # a normalized point looks like -xe02 + ye01 + e12 \n",
    "    # So, we'll use a polar form for x and y\n",
    "    angle = 2.0*np.pi* np.random.random(num) # random angle between 0 and 2pi radians\n",
    "    if length == 0:\n",
    "        x = np.cos(angle)\n",
    "        y = np.sin(angle)\n",
    "        w = 0.0\n",
    "    else:    \n",
    "        c = np.random.random(num)*length\n",
    "        x = np.cos(angle)*c\n",
    "        y = np.sin(angle)*c\n",
    "        w = 1.0\n",
    "        \n",
    "    if num == 1:\n",
    "        point = MultiVector(layout,[0,0,0,0,y[0],-x[0],w,0])\n",
    "    else:\n",
    "        point = [MultiVector(layout,[0,0,0,0,y[i],-x[i],w,0]) for i in range(num)]\n",
    "    return(point)\n",
    "    "
   ]
  },
  {
   "cell_type": "markdown",
   "metadata": {
    "slideshow": {
     "slide_type": "skip"
    }
   },
   "source": [
    "## The plotting function `add_to_axes`\n",
    "This draws a PGA object to an existing `matplotlib` axes object. The function classifies the object by geometric type then draws an appropriate representation onto the figure axes."
   ]
  },
  {
   "cell_type": "code",
   "execution_count": 6,
   "metadata": {
    "slideshow": {
     "slide_type": "skip"
    }
   },
   "outputs": [],
   "source": [
    "def add_to_axes(x,label=None,color='black',axis=None,eps = 1e-6,**kwargs):\n",
    "    # plot 2D PGA points and lines on a pyplot axis\n",
    "    # label = point label for drawing\n",
    "    # axis = axis object to write to, defaults to last used\n",
    "    # eps = threshold for rounding to zero during type check\n",
    "    \n",
    "    # FIXME things are screwy if the object is outside the bounds of the figure\n",
    "    \n",
    "    x.clean(eps=eps)\n",
    "    if axis==None:\n",
    "        # get current axis\n",
    "        axis = plt.gca()\n",
    "    \n",
    "    # get boundaries (for drawing lines)\n",
    "    xmin, xmax = axis.get_xbound()\n",
    "    ymin, ymax = axis.get_ybound()\n",
    "    # bounding box as PGA lines:\n",
    "    # corners\n",
    "    corners = [point(xmin,ymin),point(xmax,ymin),point(xmax,ymax),point(xmin,ymax)]\n",
    "    # edges \n",
    "    edges = [line(0,-1,ymin),line(-1,0,xmax),line(0,1,-ymax),line(1,0,-xmin)]\n",
    "    \n",
    "    # check object type:\n",
    "    # real point, ideal point\n",
    "    # line, idea line (how to draw?)\n",
    "    grades = x.grades()\n",
    "    if grades == set({1}): # it's a line!\n",
    "        # check for ideal line\n",
    "        if (x(e1) == 0) and (x(e2) == 0): # ideal line\n",
    "            ellipse = Ellipse([0.5*(xmin+xmax),0.5*(ymin+ymax)],\n",
    "                             width = xmax-xmin, height = ymax-ymin,\n",
    "                             facecolor='none',edgecolor=color,ls='--')\n",
    "            axis.add_artist(ellipse)\n",
    "            axis.annotate(label,xycoords='figure fraction',\n",
    "                         xy=(0.8,0.8), color=color, **kwargs)\n",
    "        else: # real line\n",
    "            # find which sides the line crosses\n",
    "            # H/T enki\n",
    "            crossing = [np.sign((corners[j]^x)[7]*(corners[(j+1)%4]^x)[7])==-1 for j in range(4)]\n",
    "            edges_crossed = [edges[j] for j in range(4) if crossing[j]]\n",
    "            if len(edges_crossed)==0:\n",
    "                # the line is outside the box\n",
    "                # FIXME edge cases: line intersects one of the corner points\n",
    "                warnings.warn(\"Line outside window\")\n",
    "                return\n",
    "            crosspoints = [x^j for j in edges_crossed]\n",
    "            \n",
    "            cross_x = [-j[5]/j[6] for j in crosspoints]\n",
    "            cross_y = [j[4]/j[6] for j in crosspoints]\n",
    "            axis.plot(cross_x,cross_y,color=color)\n",
    "            \n",
    "            labelx = 0.9*(-cross_x[0]+cross_x[1])+cross_x[0]\n",
    "            labely = 0.9*(-cross_y[0]+cross_y[1])+cross_y[0]\n",
    "            axis.annotate(\n",
    "                label, xycoords='data',\n",
    "                xy=(labelx,labely), textcoords='offset pixels',\n",
    "                xytext=(5,5),\n",
    "                color=color,\n",
    "                **kwargs)\n",
    "            \n",
    "\n",
    "    elif grades == set({2}): # it's a point!\n",
    "        # check if real point or ideal point\n",
    "        if x(e12) == 0: # ideal point\n",
    "            # ideal point will be drawn as an arrow at center of graph\n",
    "            # TODO arrow at boundary?\n",
    "            axis.annotate(\n",
    "                label, xy=(0.5,0.5), xycoords='figure fraction',\n",
    "                xytext=(-x[5]*0.1+0.5,x[4]*0.1+0.5), textcoords='figure fraction',\n",
    "                arrowprops=dict(arrowstyle=\"<-\",ec=color,fc=color),\n",
    "                color=color,\n",
    "                **kwargs)\n",
    "        else: # real point\n",
    "            axis.scatter(-x[5]/x[6],x[4]/x[6],color=color,**kwargs)\n",
    "            axis.annotate(\n",
    "                label, xycoords='data',\n",
    "                xy=(-x[5]/x[6],x[4]/x[6]), textcoords='offset pixels',\n",
    "                xytext=(5,5),\n",
    "                color=color,\n",
    "                **kwargs)\n",
    "           \n",
    "    else:\n",
    "        # uh oh.  I don't know how to handle this\n",
    "        # throw a warning and exit\n",
    "        warnings.warn(\"Object is not a point or line.  Ignoring.\")"
   ]
  },
  {
   "cell_type": "markdown",
   "metadata": {
    "slideshow": {
     "slide_type": "skip"
    }
   },
   "source": [
    "## Generate some example objects"
   ]
  },
  {
   "cell_type": "code",
   "execution_count": 7,
   "metadata": {
    "slideshow": {
     "slide_type": "skip"
    }
   },
   "outputs": [
    {
     "data": {
      "text/plain": [
       "[-(0.03792^e01) - (0.12268^e02) + (1.0^e12),\n",
       " (3.34561^e01) + (1.42763^e02) + (1.0^e12),\n",
       " -(2.16544^e01) + (3.30355^e02) + (1.0^e12)]"
      ]
     },
     "execution_count": 7,
     "metadata": {},
     "output_type": "execute_result"
    }
   ],
   "source": [
    "# generate 3 points\n",
    "A, B, C = rand_point(3,5.0)\n",
    "[A,B,C]"
   ]
  },
  {
   "cell_type": "code",
   "execution_count": 8,
   "metadata": {
    "slideshow": {
     "slide_type": "skip"
    }
   },
   "outputs": [
    {
     "data": {
      "text/plain": [
       "[(14.14383^e0) + (5.51105^e1) - (1.87592^e2),\n",
       " (0.39092^e0) - (2.12752^e1) + (3.42623^e2),\n",
       " (0.35631^e0) - (3.38353^e1) - (1.55031^e2)]"
      ]
     },
     "execution_count": 8,
     "metadata": {},
     "output_type": "execute_result"
    }
   ],
   "source": [
    "# calculate (unnormalized) lines as joins of points\n",
    "a = B&C\n",
    "b = C&A\n",
    "c = A&B\n",
    "[a,b,c]"
   ]
  },
  {
   "cell_type": "code",
   "execution_count": 9,
   "metadata": {
    "slideshow": {
     "slide_type": "skip"
    }
   },
   "outputs": [],
   "source": [
    "# define an ideal point and THE ideal line\n",
    "idealpoint = rand_point(1,0)\n",
    "idealline = 1*e0"
   ]
  },
  {
   "cell_type": "markdown",
   "metadata": {
    "slideshow": {
     "slide_type": "skip"
    }
   },
   "source": [
    "## Make a plot"
   ]
  },
  {
   "cell_type": "code",
   "execution_count": 10,
   "metadata": {
    "slideshow": {
     "slide_type": "skip"
    }
   },
   "outputs": [
    {
     "name": "stderr",
     "output_type": "stream",
     "text": [
      "<ipython-input-6-6c4717922bdf>:44: UserWarning: Line outside window\n",
      "  warnings.warn(\"Line outside window\")\n"
     ]
    },
    {
     "data": {
      "image/png": "[encoded data removed]",
      "text/plain": [
       "<Figure size 432x288 with 1 Axes>"
      ]
     },
     "metadata": {
      "needs_background": "light"
     },
     "output_type": "display_data"
    }
   ],
   "source": [
    "fig = plt.figure()\n",
    "ax = fig.add_subplot(1,1,1)\n",
    "# to avoid weird results, set the axis limits before plotting\n",
    "ax.set_ylim(-1,1)\n",
    "ax.set_xlim(-1,1)\n",
    "add_to_axes(idealpoint,label=\"O\",color='red',axis=ax)\n",
    "for XX in [A,B,C]:\n",
    "    add_to_axes(XX,label=\"p\",color='blue',axis=ax)\n",
    "for XX in [a,b,c]:\n",
    "    add_to_axes(XX,label=\"L\",color='green',axis=ax)\n",
    "add_to_axes(idealline,label=\"I\",color='black',axis=ax)\n",
    "fig.show()"
   ]
  },
  {
   "cell_type": "markdown",
   "metadata": {
    "slideshow": {
     "slide_type": "slide"
    }
   },
   "source": [
    "# Lines\n",
    "In 2-dimensional Projective Geometric Algebra (PGA), the most basic object is a _line_, which is represented by a _vector_.  If we take an algebraic equation for a line in the _xy_-plane\n",
    "$$ ax+by+c = 0, $$\n",
    "then the vector representing this line is defined to be\n",
    "$$ \\ell = a e_1 + b e_2 + c e_0. $$"
   ]
  },
  {
   "cell_type": "markdown",
   "metadata": {
    "slideshow": {
     "slide_type": "fragment"
    }
   },
   "source": [
    "The _e_'s are our notation for the basis vectors.  $e_1$ and $e_2$ represent the _x_-direction and _y_-direction, respectively. $e_0$ is an extra \"ideal\" direction, that roughly speaking, counts distance from the origin."
   ]
  },
  {
   "cell_type": "markdown",
   "metadata": {
    "cell_style": "split",
    "slideshow": {
     "slide_type": "subslide"
    }
   },
   "source": [
    "## Example lines\n",
    "$$ \\ell = a e_1 + b e_2 + c e_0. $$\n",
    "* Lines with $\\color{red}{a=0}$ are the horizontal lines $y=-c/b$.\n",
    "* Lines with $\\color{blue}{b=0}$ are the vertical lines $x=-c/a$.\n",
    "* Lines with $\\color{green}{c=0}$ pass through the origin."
   ]
  },
  {
   "cell_type": "code",
   "execution_count": 11,
   "metadata": {
    "cell_style": "split",
    "hide_input": true,
    "scrolled": false,
    "slideshow": {
     "slide_type": "-"
    }
   },
   "outputs": [
    {
     "data": {
      "image/png": "[encoded data removed]",
      "text/plain": [
       "<Figure size 576x576 with 1 Axes>"
      ]
     },
     "metadata": {
      "needs_background": "light"
     },
     "output_type": "display_data"
    }
   ],
   "source": [
    "l1 = line(0,1.5,1.0)\n",
    "l2 = line(-2,0,1)\n",
    "p = l1^l2\n",
    "l3 = e12 & p\n",
    "fig = plt.figure(figsize=(8,8))\n",
    "ax = fig.add_subplot(1,1,1)\n",
    "# to avoid weird results, set the axis limits before plotting\n",
    "ax.set_ylim(-1,1)\n",
    "ax.set_xlim(-1,1)\n",
    "ax.plot([1,-1],[0,0],color='black',lw=0.5)\n",
    "ax.plot([0,0],[1,-1],color='black',lw=0.5)\n",
    "ax.set_aspect(1)\n",
    "add_to_axes(l1,label=\"$a=0$\",color='red')\n",
    "add_to_axes(l2,label=\"$b=0$\",color='blue')\n",
    "add_to_axes(-l3,label=\"$c=0$\",color='green')\n",
    "fig.show()"
   ]
  },
  {
   "cell_type": "code",
   "execution_count": 12,
   "metadata": {
    "slideshow": {
     "slide_type": "skip"
    }
   },
   "outputs": [],
   "source": [
    "pretty(2)\n",
    "l1 = (point(3,0)&point(0,4))\n",
    "l2 = (point(0,0)&point(4,3)).normal()\n",
    "l3 = (point(-3,0)&point(0,-4)).normal()"
   ]
  },
  {
   "cell_type": "markdown",
   "metadata": {
    "cell_style": "split",
    "slideshow": {
     "slide_type": "subslide"
    },
    "variables": {
     "l1": {},
     "l1.normal()": {},
     "l2": {},
     "l3": {}
    }
   },
   "source": [
    "## Example lines\n",
    "$$ \\ell = a e_1 + b e_2 + c e_0. $$\n",
    "* Line $\\color{red}{\\ell_1}$ is {{l1}}.\n",
    "* Line $\\hat{\\ell}_1$ is {{l1.normal()}} (same line, but normalized).\n",
    "* Line $\\color{blue}{\\ell_2}$ is {{l2}}.\n",
    "* Line $\\color{green}{\\ell_3}$ is {{l3}}.\n",
    "\n",
    "Note that $\\color{red}{\\ell_1} \\parallel \\color{green}{\\ell_3}$, and both are $\\perp \\color{blue}{\\ell_2}$.\n",
    "We'll see how to verify this later."
   ]
  },
  {
   "cell_type": "code",
   "execution_count": 13,
   "metadata": {
    "cell_style": "split",
    "hide_input": true,
    "scrolled": false,
    "slideshow": {
     "slide_type": "-"
    }
   },
   "outputs": [
    {
     "data": {
      "image/png": "[encoded data removed]",
      "text/plain": [
       "<Figure size 576x576 with 1 Axes>"
      ]
     },
     "metadata": {
      "needs_background": "light"
     },
     "output_type": "display_data"
    }
   ],
   "source": [
    "fig = plt.figure(figsize=(8,8))\n",
    "ax = fig.add_subplot(1,1,1)\n",
    "# to avoid weird results, set the axis limits before plotting\n",
    "ax.set_ylim(-5,5)\n",
    "ax.set_xlim(-5,5)\n",
    "ax.plot([5,-5],[0,0],color='black',lw=0.5)\n",
    "ax.plot([0,0],[5,-5],color='black',lw=0.5)\n",
    "ax.set_aspect(1)\n",
    "add_to_axes(l1,label=\"$\\ell_1$\",color='red')\n",
    "add_to_axes(l2,label=\"$\\ell_2$\",color='blue')\n",
    "add_to_axes(l3,label=\"$\\ell_3$\",color='green')\n",
    "fig.show()"
   ]
  },
  {
   "cell_type": "markdown",
   "metadata": {
    "hide_input": true,
    "slideshow": {
     "slide_type": "subslide"
    }
   },
   "source": [
    "## Congruency\n",
    "Note that multiplying a vector by a nonzero scalar constant does not change its geometric representation -- it gives the same line.  We say that two such vectors are _congruent_.\n",
    "$$\n",
    "\\ell \\equiv k\\ell,\n",
    "$$\n",
    "where _k_ is a nonzero scalar."
   ]
  },
  {
   "cell_type": "markdown",
   "metadata": {
    "slideshow": {
     "slide_type": "subslide"
    }
   },
   "source": [
    "## Normalization\n",
    "If multiplying a vector by a scalar does not change its meaning, is there a prefered version of the vector representing a particular line?  For many things, this does not matter, but when we start measuring lengths and angles, the _normalization_ of the vectors will be important.  We define the _norm_ of line\n",
    "$ \\ell = a e_1 + b e_2 + c e_0 $\n",
    "to be\n",
    "$$ \\lVert \\ell \\rVert = \\sqrt{a^2+b^2}. $$"
   ]
  },
  {
   "cell_type": "markdown",
   "metadata": {
    "slideshow": {
     "slide_type": "fragment"
    }
   },
   "source": [
    "If $\\lVert \\ell \\rVert = 0$, then the line is an _ideal line_ which, roughly, represents the boundary infinitely far away encircling the plane."
   ]
  },
  {
   "cell_type": "markdown",
   "metadata": {
    "slideshow": {
     "slide_type": "fragment"
    }
   },
   "source": [
    "We _normalize_ a line by dividing it by its norm:\n",
    "$$ \\hat{\\ell} = \\frac{\\ell}{\\lVert \\ell \\rVert}, $$\n",
    "where the ^ signifizes normalization."
   ]
  },
  {
   "cell_type": "markdown",
   "metadata": {
    "cell_style": "split",
    "slideshow": {
     "slide_type": "subslide"
    }
   },
   "source": [
    "## Normalized lines\n",
    "If line $\\ell= a e_1 + b e_2 + c e_0$ is already normalized, then $|c|$ is the distance from the origin to the line.\n",
    "Also, $\\theta = -\\arcsin a =\\arccos b$,  is the angle that the line makes with the _x_-axis.\n",
    "\n",
    "The line shown here is\n",
    "$\\hat{\\ell} = \\tfrac35 e_1 -\\tfrac45 e_2 -\\tfrac25 e_0$."
   ]
  },
  {
   "cell_type": "code",
   "execution_count": 14,
   "metadata": {
    "cell_style": "split",
    "hide_input": true,
    "slideshow": {
     "slide_type": "-"
    }
   },
   "outputs": [
    {
     "data": {
      "image/png": "[encoded data removed]",
      "text/plain": [
       "<Figure size 576x576 with 1 Axes>"
      ]
     },
     "metadata": {
      "needs_background": "light"
     },
     "output_type": "display_data"
    }
   ],
   "source": [
    "l1 = line(0.6,-0.8,-0.4)\n",
    "perp = (l1|e12)*l1\n",
    "fig = plt.figure(figsize=(8,8))\n",
    "ax = fig.add_subplot(1,1,1)\n",
    "# to avoid weird results, set the axis limits before plotting\n",
    "ax.set_ylim(-1,1)\n",
    "ax.set_xlim(-1,1)\n",
    "ax.plot([1,-1],[0,0],color='black',lw=0.5)\n",
    "ax.plot([0,0],[1,-1],color='black',lw=0.5)\n",
    "ax.set_aspect(1)\n",
    "add_to_axes(l1,label=\"$\\ell$\",color='red')\n",
    "ax.plot([0,-perp[5]/perp[6]],[0,perp[4]/perp[6]]\n",
    "        ,color='red',ls='--'\n",
    "       )\n",
    "ax.annotate(xy=(0.2,-0.15),\n",
    "           text='c',color='red')\n",
    "ax.annotate(xy=(0.8,0.04),text=\"θ\",\n",
    "           color='red')\n",
    "fig.show()"
   ]
  },
  {
   "cell_type": "markdown",
   "metadata": {
    "hide_input": true,
    "slideshow": {
     "slide_type": "-"
    }
   },
   "source": [
    "(Note, I've neglected orientation here.  That is a whole other topic.)"
   ]
  },
  {
   "cell_type": "markdown",
   "metadata": {
    "hide_input": false,
    "slideshow": {
     "slide_type": "slide"
    }
   },
   "source": [
    "# The exterior product $\\wedge$\n",
    "We'll see several types of products in GA.  Our first is the _exterior_ or \"wedge\" product, represented by $\\wedge$.  The wedge product of two vectors obeys a simple rule:\n",
    "$$ a \\wedge b = - b \\wedge a.$$\n",
    "It does not simplify except in the special case the two vectors are congruent.\n",
    "Then their exterior product equals zero."
   ]
  },
  {
   "cell_type": "markdown",
   "metadata": {
    "slideshow": {
     "slide_type": "subslide"
    }
   },
   "source": [
    "## Bivectors\n",
    "The product of two non-congruent vectors will be a new type of object, called a _bivector_.\n",
    "\n",
    "If we take wedge products of the three basis vectors $e_1, e_2, e_0$, the unique nonzero combinations are\n",
    "$$\n",
    "e_2 \\wedge e_0,\\quad e_0 \\wedge e_1,\\quad e_1 \\wedge e_2.\n",
    "$$\n",
    "These are the basis bivector for our system.\n",
    "(The order here is chosen for convenience later.)"
   ]
  },
  {
   "cell_type": "markdown",
   "metadata": {
    "slideshow": {
     "slide_type": "fragment"
    }
   },
   "source": [
    "To save writing, we'll often abbreviate the wedge product of basis vectors by combining their subscripts.  For example,\n",
    "$$ e_2 \\wedge e_0 \\rightarrow e_{20} .$$"
   ]
  },
  {
   "cell_type": "code",
   "execution_count": 15,
   "metadata": {
    "slideshow": {
     "slide_type": "skip"
    }
   },
   "outputs": [
    {
     "data": {
      "text/plain": [
       "-(9^e01) - (12^e02) + (3^e12)"
      ]
     },
     "execution_count": 15,
     "metadata": {},
     "output_type": "execute_result"
    }
   ],
   "source": [
    "#scratch\n",
    "(3*e1+4*e2)^(1*e2+3*e0)"
   ]
  },
  {
   "cell_type": "markdown",
   "metadata": {
    "slideshow": {
     "slide_type": "subslide"
    }
   },
   "source": [
    "### Example calculations\n",
    "$$ 2 e_2 \\wedge 3 e_1 = 6 e_2\\wedge e_1 = -6 e_1 \\wedge e_2 = -6 e_{12} $$"
   ]
  },
  {
   "cell_type": "markdown",
   "metadata": {
    "slideshow": {
     "slide_type": "fragment"
    }
   },
   "source": [
    "$$ \\begin{aligned}\n",
    "(3 e_1 + 4 e_2) \\wedge (1e_2 + 3e_0) & = 3 e_1\\wedge e_2 + 9 e_1\\wedge e_0 + 4 \\underbrace{e_2 \\wedge e_2}_0 + 12 e_2\\wedge e_0 \\\\\n",
    "&= 3 e_1\\wedge e_2 - 9 e_0\\wedge e_1 + 12 e_2\\wedge e_0 \\\\\n",
    "&= 3 e_{12} -9 e_{01} + 12e_{20}\n",
    "\\end{aligned}\n",
    "$$"
   ]
  },
  {
   "cell_type": "markdown",
   "metadata": {
    "slideshow": {
     "slide_type": "subslide"
    }
   },
   "source": [
    "## Trivector\n",
    "The only nonzero basis trivector in 2D PGA is\n",
    "$$ e_0\\wedge e_1 \\wedge e_2 \\rightarrow e_{012}, $$\n",
    "which is also called the _pseudoscalar_ and is sometimes represented by the symbol $I$."
   ]
  },
  {
   "cell_type": "markdown",
   "metadata": {
    "slideshow": {
     "slide_type": "fragment"
    }
   },
   "source": [
    "The wedge product of 4 or more vectors always equals zero in 2D PGA."
   ]
  },
  {
   "cell_type": "markdown",
   "metadata": {
    "cell_style": "split",
    "slideshow": {
     "slide_type": "slide"
    }
   },
   "source": [
    "## Points\n",
    "What do bivectors in 2D PGA represent?  Points!\n",
    "\n",
    "The bivector\n",
    "$$ P =  x e_{20} + y e_{01} + 1 e_{12}$$\n",
    "represents a point at coordinates (_x_, _y_).\n",
    "\n",
    "The point shown here is\n",
    "$$ P = \\frac12 e_{20} + \\frac34 e_{01} + 1 e_{12}.$$"
   ]
  },
  {
   "cell_type": "code",
   "execution_count": 16,
   "metadata": {
    "cell_style": "split",
    "hide_input": true,
    "scrolled": false,
    "slideshow": {
     "slide_type": "-"
    }
   },
   "outputs": [
    {
     "data": {
      "image/png": "[encoded data removed]",
      "text/plain": [
       "<Figure size 576x576 with 1 Axes>"
      ]
     },
     "metadata": {
      "needs_background": "light"
     },
     "output_type": "display_data"
    }
   ],
   "source": [
    "p = point(0.5,0.75)\n",
    "fig = plt.figure(figsize=(8,8))\n",
    "ax = fig.add_subplot(1,1,1)\n",
    "# to avoid weird results, set the axis limits before plotting\n",
    "ax.set_ylim(-1,1)\n",
    "ax.set_xlim(-1,1)\n",
    "ax.plot([1,-1],[0,0],color='black',lw=0.5)\n",
    "ax.plot([0,0],[1,-1],color='black',lw=0.5)\n",
    "ax.set_aspect(1)\n",
    "add_to_axes(p,label=\"$P$\",color='red')\n",
    "fig.show()"
   ]
  },
  {
   "cell_type": "markdown",
   "metadata": {
    "slideshow": {
     "slide_type": "subslide"
    }
   },
   "source": [
    "## Normalization of points\n",
    "Just like lines, two points that differ by a scalar multiple are said to be _congruent_ and represent the same geometric object.\n",
    "$$ kP \\equiv P $$\n",
    "We define the norm of a point $\\lVert P \\rVert$ as the coefficient of $e_{12}$.\n",
    "So, a point $P = x e_{20} + y e_{01} + w e_{12}$ has norm $\\lVert P \\rVert = w$."
   ]
  },
  {
   "cell_type": "markdown",
   "metadata": {
    "slideshow": {
     "slide_type": "fragment"
    }
   },
   "source": [
    "We can _normalize_ a point by dividing by its norm.\n",
    "$$\n",
    "\\hat{P} = \\frac{P}{\\lVert P \\rVert}\n",
    "$$"
   ]
  },
  {
   "cell_type": "markdown",
   "metadata": {
    "slideshow": {
     "slide_type": "fragment"
    }
   },
   "source": [
    "A point with norm of zero represents an _ideal point_ located infinitely far away in a particular direction (or equivalently, just the direction itself)."
   ]
  },
  {
   "cell_type": "markdown",
   "metadata": {
    "cell_style": "split",
    "slideshow": {
     "slide_type": "subslide"
    },
    "variables": {
     "A": {},
     "B": {},
     "C": {},
     "idealpoint": {}
    }
   },
   "source": [
    "## Example points\n",
    "The graph shows the following points\n",
    "* $\\color{red}{A}$ = {{A}}\n",
    "* $\\color{blue}{B}$ = {{B}}\n",
    "* $\\color{green}{C}$ = {{C}}\n",
    "* $D$ = {{idealpoint}}, an ideal point"
   ]
  },
  {
   "cell_type": "code",
   "execution_count": 17,
   "metadata": {
    "cell_style": "split",
    "hide_input": true
   },
   "outputs": [
    {
     "data": {
      "image/png": "[encoded data removed]",
      "text/plain": [
       "<Figure size 576x576 with 1 Axes>"
      ]
     },
     "metadata": {
      "needs_background": "light"
     },
     "output_type": "display_data"
    }
   ],
   "source": [
    "p = point(0.5,0.75)\n",
    "fig = plt.figure(figsize=(8,8))\n",
    "ax = fig.add_subplot(1,1,1)\n",
    "# to avoid weird results, set the axis limits before plotting\n",
    "ax.set_ylim(-5,5)\n",
    "ax.set_xlim(-5,5)\n",
    "ax.plot([5,-5],[0,0],color='black',lw=0.5)\n",
    "ax.plot([0,0],[5,-5],color='black',lw=0.5)\n",
    "ax.set_aspect(1)\n",
    "add_to_axes(A,label=\"$A$\",color='red')\n",
    "add_to_axes(B,label=\"$B$\",color='blue')\n",
    "add_to_axes(C,label=\"$C$\",color='green')\n",
    "add_to_axes(idealpoint,label=\"$D$\",color='black')\n",
    "fig.show()"
   ]
  },
  {
   "cell_type": "markdown",
   "metadata": {
    "slideshow": {
     "slide_type": "slide"
    }
   },
   "source": [
    "## Points are where 2 lines meet\n",
    "Now we'll show our first key geometric result.\n",
    "\n",
    "If we have two lines $a$ and $b$, their wedge product (\"meet\") equals a point\n",
    "$$ P = a \\wedge b.$$"
   ]
  },
  {
   "cell_type": "markdown",
   "metadata": {
    "cell_style": "split",
    "slideshow": {
     "slide_type": "fragment"
    }
   },
   "source": [
    "As a simple example, let's take a vertical line <span style=\"color:red\">$v$</span> at $x=3$ and a horizontal line\n",
    "<span style=\"color:blue\">$h$</span>\n",
    "at $y=4$:\n",
    "$$ \\begin{aligned}\n",
    "\\color{red}{v} &= {e_1 - 3e_0} \\\\\n",
    "\\color{blue}{h} &= e_2 - 2e_0\n",
    "\\end{aligned}$$\n",
    "\n",
    "$$ \\begin{aligned}\n",
    "P &= \\color{red}{v} \\wedge \\color{blue}{h}\\\\ &= (e_1 - 3e_0) \\wedge (e_2 - 2e_0)\\\\ &= e_12 +3e_{20}+2e_{01},\n",
    "\\end{aligned}$$\n",
    "which is the point $P$ at coordinates $(x,y)=(3,2)$, just like we expect."
   ]
  },
  {
   "cell_type": "code",
   "execution_count": 18,
   "metadata": {
    "cell_style": "split",
    "hide_input": true,
    "scrolled": false,
    "slideshow": {
     "slide_type": "-"
    }
   },
   "outputs": [
    {
     "data": {
      "image/png": "[encoded data removed]",
      "text/plain": [
       "<Figure size 576x576 with 1 Axes>"
      ]
     },
     "metadata": {
      "needs_background": "light"
     },
     "output_type": "display_data"
    }
   ],
   "source": [
    "h = line(0,1,-2)\n",
    "v = line(1,0,-3)\n",
    "P = v^h\n",
    "fig = plt.figure(figsize=(8,8))\n",
    "ax = fig.add_subplot(1,1,1)\n",
    "# to avoid weird results, set the axis limits before plotting\n",
    "ax.set_ylim(-1,5)\n",
    "ax.set_xlim(-1,5)\n",
    "ax.plot([5,-5],[0,0],color='black',lw=0.5)\n",
    "ax.plot([0,0],[5,-5],color='black',lw=0.5)\n",
    "ax.set_aspect(1)\n",
    "add_to_axes(v,label=\"$v$\",color='red')\n",
    "add_to_axes(h,label=\"$h$\",color='blue')\n",
    "add_to_axes(P,label=\"$P$\",color='magenta')\n",
    "fig.show()"
   ]
  },
  {
   "cell_type": "markdown",
   "metadata": {
    "cell_style": "center",
    "hide_input": true,
    "slideshow": {
     "slide_type": "skip"
    }
   },
   "source": [
    "# TODOs\n",
    "## Content\n",
    "* _Title slide image_\n",
    "* Homogeneous coordinates, normalization of points\n",
    "* ~Ideal lines and points~\n",
    "* ~2 lines meet at a point~\n",
    "* inner product, angle measures\n",
    "* J map(?), vee product\n",
    "* 2 points are joined by a line\n",
    "* distance between points\n",
    "* duality\n",
    "* ideal norm\n",
    "* triple products (area of triangle)\n",
    "* geometric product\n",
    "* projections, rejections\n",
    "* reflections, rotations, translations\n",
    "\n",
    "## Formatting\n",
    "* set a default plot style"
   ]
  }
 ],
 "metadata": {
  "celltoolbar": "Slideshow",
  "kernelspec": {
   "display_name": "Python [conda env:galgebra]",
   "language": "python",
   "name": "conda-env-galgebra-py"
  },
  "language_info": {
   "codemirror_mode": {
    "name": "ipython",
    "version": 3
   },
   "file_extension": ".py",
   "mimetype": "text/x-python",
   "name": "python",
   "nbconvert_exporter": "python",
   "pygments_lexer": "ipython3",
   "version": "3.8.8"
  },
  "rise": {
   "autolaunch": false,
   "footer": "<h3>© Ted Corcovilos, 2021</h3>",
   "header": "<h1>PGA Gallery</h1>"
  }
 },
 "nbformat": 4,
 "nbformat_minor": 4
}
