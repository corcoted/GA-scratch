{
 "cells": [
  {
   "cell_type": "markdown",
   "metadata": {},
   "source": [
    "# 2D PGA in `galgebra`\n",
    "Here I'm trying to do some symbolic calculations in 2D PGA using the `galgebra` package."
   ]
  },
  {
   "cell_type": "code",
   "execution_count": 1,
   "metadata": {},
   "outputs": [],
   "source": [
    "from sympy import *\n",
    "from galgebra.ga import Ga\n",
    "from galgebra.printer import latex\n",
    "from IPython.display import Math\n",
    "\n",
    "# tell sympy to use our printing by default\n",
    "init_printing()"
   ]
  },
  {
   "cell_type": "markdown",
   "metadata": {},
   "source": [
    "Attempt to generate the algebra for PGA directly:"
   ]
  },
  {
   "cell_type": "code",
   "execution_count": 2,
   "metadata": {},
   "outputs": [
    {
     "name": "stdout",
     "output_type": "stream",
     "text": [
      "!!!!If I**2 = 0, I cannot be normalized!!!!\n"
     ]
    }
   ],
   "source": [
    "wxy = (w, x, y) = symbols('w x y', real=True)\n",
    "pga2 = Ga('e_0 e_1 e_2', g=[0,1, 1], coords=wxy)\n",
    "grad = pga2.grad"
   ]
  },
  {
   "cell_type": "code",
   "execution_count": 3,
   "metadata": {},
   "outputs": [],
   "source": [
    "# not sure of the best choice here, see docs: \n",
    "# https://galgebra.readthedocs.io/en/latest/generated/galgebra.ga.html?galgebra.ga.Ga.dual_mode\n",
    "pga2.dual_mode(mode='+I')"
   ]
  },
  {
   "cell_type": "code",
   "execution_count": 4,
   "metadata": {},
   "outputs": [],
   "source": [
    "e0, e1, e2 = pga2.mv()"
   ]
  },
  {
   "cell_type": "code",
   "execution_count": 5,
   "metadata": {},
   "outputs": [],
   "source": [
    "# define some aliases to simplify writing\n",
    "e01 = e0*e1; e20=e2*e0; e12=e1*e2; e012=e0*e1*e2"
   ]
  },
  {
   "cell_type": "code",
   "execution_count": 6,
   "metadata": {},
   "outputs": [],
   "source": [
    "# helper functions\n",
    "def point(x, y):\n",
    "    return x*e20 + y*e01 + e12\n",
    "\n",
    "def line(a, b, c):\n",
    "    return a*e1+b*e2+c*e0"
   ]
  },
  {
   "cell_type": "code",
   "execution_count": 7,
   "metadata": {},
   "outputs": [],
   "source": [
    "# Euclidean norm\n",
    "def Euc_norm(p):\n",
    "    if p.pure_grade() < 0: #not single grade\n",
    "        return nan\n",
    "    elif p.pure_grade() == 0:\n",
    "        return p.get_coefs(0)\n",
    "    elif p.pure_grade() == 3:\n",
    "        return 0\n",
    "    elif p.pure_grade() == 1: # line\n",
    "        return sqrt(p.get_coefs(1)[1]**2 + p.get_coefs(1)[2]**2)\n",
    "    elif p.pure_grade() == 2: # point\n",
    "        return p.get_coefs(2)[2]"
   ]
  },
  {
   "cell_type": "code",
   "execution_count": 8,
   "metadata": {},
   "outputs": [],
   "source": [
    "# Ideal norm\n",
    "def Ideal_norm(p):\n",
    "    if p.pure_grade() < 0: #not single grade\n",
    "        return nan\n",
    "    elif p.pure_grade() == 0:\n",
    "        return 0\n",
    "    elif p.pure_grade() == 3:\n",
    "        return p.get_coefs(3)\n",
    "    elif p.pure_grade() == 1: # line\n",
    "        return p.get_coefs(1)[0]\n",
    "    elif p.pure_grade() == 2: # point\n",
    "        return sqrt(p.get_coefs(2)[0]**2 + p.get_coefs(2)[1]**2)"
   ]
  },
  {
   "cell_type": "code",
   "execution_count": 9,
   "metadata": {},
   "outputs": [],
   "source": [
    "# Euc_normalize\n",
    "def Euc_normalize(p):\n",
    "    n = Euc_norm(p)\n",
    "    if n==nan:\n",
    "        return nan\n",
    "    return p/n"
   ]
  },
  {
   "cell_type": "code",
   "execution_count": 10,
   "metadata": {},
   "outputs": [],
   "source": [
    "# define translation and rotation linear operators\n",
    "M_trans = lambda x,y: pga2.lt(1+y/2*e20-x/2*e01)\n",
    "M_rot = lambda a, p=e12: pga2.lt(cos(a/2)-sin(a/2)*p) # rotation by angle a about point p"
   ]
  },
  {
   "cell_type": "code",
   "execution_count": 15,
   "metadata": {},
   "outputs": [],
   "source": [
    "L, px, py = symbols(\"L, px, py\", real=True)"
   ]
  },
  {
   "cell_type": "code",
   "execution_count": 16,
   "metadata": {},
   "outputs": [],
   "source": [
    "s = e0 + x*e1+y*e2+L*e12 + px*e20 + py*e01"
   ]
  },
  {
   "cell_type": "code",
   "execution_count": 17,
   "metadata": {},
   "outputs": [
    {
     "data": {
      "text/latex": [
       "\\begin{equation*}  \\boldsymbol{e}_{0} + x \\boldsymbol{e}_{1} + y \\boldsymbol{e}_{2} + py \\boldsymbol{e}_{0}\\wedge \\boldsymbol{e}_{1} - px \\boldsymbol{e}_{0}\\wedge \\boldsymbol{e}_{2} + L \\boldsymbol{e}_{1}\\wedge \\boldsymbol{e}_{2} \\end{equation*}"
      ],
      "text/plain": [
       "e_0 + x*e_1 + y*e_2 + py*e_0^e_1 - px*e_0^e_2 + L*e_1^e_2"
      ]
     },
     "execution_count": 17,
     "metadata": {},
     "output_type": "execute_result"
    }
   ],
   "source": [
    "s"
   ]
  },
  {
   "cell_type": "code",
   "execution_count": 18,
   "metadata": {},
   "outputs": [],
   "source": [
    "dx, dy, ω = symbols(\"dx, dy, ω\", real=True)"
   ]
  },
  {
   "cell_type": "code",
   "execution_count": 19,
   "metadata": {},
   "outputs": [
    {
     "data": {
      "text/latex": [
       "\\begin{equation*} \\left ( - dx y + dy x + 1\\right ) \\boldsymbol{e}_{0} + x \\boldsymbol{e}_{1} + y \\boldsymbol{e}_{2} + \\left ( L dx + py\\right ) \\boldsymbol{e}_{0}\\wedge \\boldsymbol{e}_{1} + \\left ( L dy - px\\right ) \\boldsymbol{e}_{0}\\wedge \\boldsymbol{e}_{2} + L \\boldsymbol{e}_{1}\\wedge \\boldsymbol{e}_{2} \\end{equation*}"
      ],
      "text/plain": [
       "(-dx*y + dy*x + 1)*e_0 + x*e_1 + y*e_2 + (L*dx + py)*e_0^e_1 + (L*dy - px)*e_0^e_2 + L*e_1^e_2"
      ]
     },
     "execution_count": 19,
     "metadata": {},
     "output_type": "execute_result"
    }
   ],
   "source": [
    "(1+dx/2*e20 + dy/2*e01)*s*(1-dx/2*e20 -dy/2*e01)"
   ]
  },
  {
   "cell_type": "code",
   "execution_count": 21,
   "metadata": {},
   "outputs": [],
   "source": [
    "sd = L*e0 + px*e1+py*e2+e12 + x*e20 + y*e01"
   ]
  },
  {
   "cell_type": "code",
   "execution_count": 24,
   "metadata": {},
   "outputs": [
    {
     "data": {
      "text/latex": [
       "\\begin{equation*} \\left ( L - dx px - dy py\\right ) \\boldsymbol{e}_{0} + px \\boldsymbol{e}_{1} + py \\boldsymbol{e}_{2} + \\left ( dy + y\\right ) \\boldsymbol{e}_{0}\\wedge \\boldsymbol{e}_{1} + \\left ( - dx - x\\right ) \\boldsymbol{e}_{0}\\wedge \\boldsymbol{e}_{2} + \\boldsymbol{e}_{1}\\wedge \\boldsymbol{e}_{2} \\end{equation*}"
      ],
      "text/plain": [
       "(L - dx*px - dy*py)*e_0 + px*e_1 + py*e_2 + (dy + y)*e_0^e_1 + (-dx - x)*e_0^e_2 + e_1^e_2"
      ]
     },
     "execution_count": 24,
     "metadata": {},
     "output_type": "execute_result"
    }
   ],
   "source": [
    "(1+dy/2*e20 - dx/2*e01)*sd*(1-dy/2*e20 +dx/2*e01)"
   ]
  },
  {
   "cell_type": "code",
   "execution_count": 37,
   "metadata": {},
   "outputs": [],
   "source": [
    "from galgebra.mv import Mv"
   ]
  },
  {
   "cell_type": "code",
   "execution_count": 49,
   "metadata": {},
   "outputs": [
    {
     "name": "stdout",
     "output_type": "stream",
     "text": [
      "[0, 1, x, y, py, -px, L, 0]\n"
     ]
    }
   ],
   "source": [
    "out = Mv(ga=pga2)\n",
    "print([i for i in s.blade_coefs()])"
   ]
  },
  {
   "cell_type": "code",
   "execution_count": 55,
   "metadata": {},
   "outputs": [
    {
     "data": {
      "image/png": "[encoded data removed]",
      "text/latex": [
       "$\\displaystyle \\left[ 0, \\  - L, \\  px, \\  - py, \\  y, \\  x, \\  1, \\  0\\right]$"
      ],
      "text/plain": [
       "[0, -L, px, -py, y, x, 1, 0]"
      ]
     },
     "execution_count": 55,
     "metadata": {},
     "output_type": "execute_result"
    }
   ],
   "source": [
    "(~s).blade_coefs()[::-1]"
   ]
  },
  {
   "cell_type": "code",
   "execution_count": 61,
   "metadata": {},
   "outputs": [
    {
     "name": "stderr",
     "output_type": "stream",
     "text": [
      "/tmp/ipykernel_513/4028817320.py:1: DeprecationWarning: ga.blades_lst is deprecated, use `ga.indexes.flat[1:]` instead\n",
      "  pga2.indexes_lst\n"
     ]
    },
    {
     "data": {
      "image/png": "[encoded data removed]",
      "text/latex": [
       "$\\displaystyle \\left[ \\left( 0,\\right), \\  \\left( 1,\\right), \\  \\left( 2,\\right), \\  \\left( 0, \\  1\\right), \\  \\left( 0, \\  2\\right), \\  \\left( 1, \\  2\\right), \\  \\left( 0, \\  1, \\  2\\right)\\right]$"
      ],
      "text/plain": [
       "[(0,), (1,), (2,), (0, 1), (0, 2), (1, 2), (0, 1, 2)]"
      ]
     },
     "execution_count": 61,
     "metadata": {},
     "output_type": "execute_result"
    }
   ],
   "source": [
    "pga2.indexes_lst"
   ]
  },
  {
   "cell_type": "code",
   "execution_count": 65,
   "metadata": {},
   "outputs": [
    {
     "ename": "KeyboardInterrupt",
     "evalue": "",
     "output_type": "error",
     "traceback": [
      "\u001b[0;31m---------------------------------------------------------------------------\u001b[0m",
      "\u001b[0;31mKeyboardInterrupt\u001b[0m                         Traceback (most recent call last)",
      "\u001b[0;32m/tmp/ipykernel_513/11796437.py\u001b[0m in \u001b[0;36m<module>\u001b[0;34m\u001b[0m\n\u001b[0;32m----> 1\u001b[0;31m \u001b[0mlist\u001b[0m\u001b[0;34m(\u001b[0m\u001b[0ms\u001b[0m\u001b[0;34m)\u001b[0m\u001b[0;34m\u001b[0m\u001b[0;34m\u001b[0m\u001b[0m\n\u001b[0m",
      "\u001b[0;32m~/miniconda3/envs/galgebra/lib/python3.9/site-packages/galgebra/mv.py\u001b[0m in \u001b[0;36m__getitem__\u001b[0;34m(self, key)\u001b[0m\n\u001b[1;32m    592\u001b[0m         \u001b[0mget\u001b[0m \u001b[0ma\u001b[0m \u001b[0mspecified\u001b[0m \u001b[0mgrade\u001b[0m \u001b[0mof\u001b[0m \u001b[0ma\u001b[0m \u001b[0mmultivector\u001b[0m\u001b[0;34m\u001b[0m\u001b[0;34m\u001b[0m\u001b[0m\n\u001b[1;32m    593\u001b[0m         '''\n\u001b[0;32m--> 594\u001b[0;31m         \u001b[0;32mreturn\u001b[0m \u001b[0mself\u001b[0m\u001b[0;34m.\u001b[0m\u001b[0mgrade\u001b[0m\u001b[0;34m(\u001b[0m\u001b[0mkey\u001b[0m\u001b[0;34m)\u001b[0m\u001b[0;34m\u001b[0m\u001b[0;34m\u001b[0m\u001b[0m\n\u001b[0m\u001b[1;32m    595\u001b[0m \u001b[0;34m\u001b[0m\u001b[0m\n\u001b[1;32m    596\u001b[0m     \u001b[0;32mdef\u001b[0m \u001b[0m_sympystr\u001b[0m\u001b[0;34m(\u001b[0m\u001b[0mself\u001b[0m\u001b[0;34m,\u001b[0m \u001b[0mprint_obj\u001b[0m\u001b[0;34m:\u001b[0m \u001b[0mprinter\u001b[0m\u001b[0;34m.\u001b[0m\u001b[0mGaPrinter\u001b[0m\u001b[0;34m)\u001b[0m \u001b[0;34m->\u001b[0m \u001b[0mstr\u001b[0m\u001b[0;34m:\u001b[0m\u001b[0;34m\u001b[0m\u001b[0;34m\u001b[0m\u001b[0m\n",
      "\u001b[0;32m~/miniconda3/envs/galgebra/lib/python3.9/site-packages/galgebra/mv.py\u001b[0m in \u001b[0;36mgrade\u001b[0;34m(self, r)\u001b[0m\n\u001b[1;32m   1306\u001b[0m \u001b[0;34m\u001b[0m\u001b[0m\n\u001b[1;32m   1307\u001b[0m     \u001b[0;32mdef\u001b[0m \u001b[0mgrade\u001b[0m\u001b[0;34m(\u001b[0m\u001b[0mself\u001b[0m\u001b[0;34m,\u001b[0m \u001b[0mr\u001b[0m\u001b[0;34m=\u001b[0m\u001b[0;36m0\u001b[0m\u001b[0;34m)\u001b[0m \u001b[0;34m->\u001b[0m \u001b[0;34m'Mv'\u001b[0m\u001b[0;34m:\u001b[0m\u001b[0;34m\u001b[0m\u001b[0;34m\u001b[0m\u001b[0m\n\u001b[0;32m-> 1308\u001b[0;31m         \u001b[0;32mreturn\u001b[0m \u001b[0mself\u001b[0m\u001b[0;34m.\u001b[0m\u001b[0mget_grade\u001b[0m\u001b[0;34m(\u001b[0m\u001b[0mr\u001b[0m\u001b[0;34m)\u001b[0m\u001b[0;34m\u001b[0m\u001b[0;34m\u001b[0m\u001b[0m\n\u001b[0m\u001b[1;32m   1309\u001b[0m \u001b[0;34m\u001b[0m\u001b[0m\n\u001b[1;32m   1310\u001b[0m     \u001b[0;32mdef\u001b[0m \u001b[0mpure_grade\u001b[0m\u001b[0;34m(\u001b[0m\u001b[0mself\u001b[0m\u001b[0;34m)\u001b[0m \u001b[0;34m->\u001b[0m \u001b[0mint\u001b[0m\u001b[0;34m:\u001b[0m\u001b[0;34m\u001b[0m\u001b[0;34m\u001b[0m\u001b[0m\n",
      "\u001b[0;32m~/miniconda3/envs/galgebra/lib/python3.9/site-packages/galgebra/mv.py\u001b[0m in \u001b[0;36mget_grade\u001b[0;34m(self, r)\u001b[0m\n\u001b[1;32m    958\u001b[0m     \u001b[0;32mdef\u001b[0m \u001b[0mget_grade\u001b[0m\u001b[0;34m(\u001b[0m\u001b[0mself\u001b[0m\u001b[0;34m,\u001b[0m \u001b[0mr\u001b[0m\u001b[0;34m:\u001b[0m \u001b[0mint\u001b[0m\u001b[0;34m)\u001b[0m \u001b[0;34m->\u001b[0m \u001b[0;34m'Mv'\u001b[0m\u001b[0;34m:\u001b[0m\u001b[0;34m\u001b[0m\u001b[0;34m\u001b[0m\u001b[0m\n\u001b[1;32m    959\u001b[0m         \u001b[0;34m\"\"\" return r-th grade of multivector as a multivector \"\"\"\u001b[0m\u001b[0;34m\u001b[0m\u001b[0;34m\u001b[0m\u001b[0m\n\u001b[0;32m--> 960\u001b[0;31m         \u001b[0;32mreturn\u001b[0m \u001b[0mMv\u001b[0m\u001b[0;34m(\u001b[0m\u001b[0mself\u001b[0m\u001b[0;34m.\u001b[0m\u001b[0mGa\u001b[0m\u001b[0;34m.\u001b[0m\u001b[0mget_grade\u001b[0m\u001b[0;34m(\u001b[0m\u001b[0mself\u001b[0m\u001b[0;34m.\u001b[0m\u001b[0mobj\u001b[0m\u001b[0;34m,\u001b[0m \u001b[0mr\u001b[0m\u001b[0;34m)\u001b[0m\u001b[0;34m,\u001b[0m \u001b[0mga\u001b[0m\u001b[0;34m=\u001b[0m\u001b[0mself\u001b[0m\u001b[0;34m.\u001b[0m\u001b[0mGa\u001b[0m\u001b[0;34m)\u001b[0m\u001b[0;34m\u001b[0m\u001b[0;34m\u001b[0m\u001b[0m\n\u001b[0m\u001b[1;32m    961\u001b[0m \u001b[0;34m\u001b[0m\u001b[0m\n\u001b[1;32m    962\u001b[0m     \u001b[0;32mdef\u001b[0m \u001b[0mcomponents\u001b[0m\u001b[0;34m(\u001b[0m\u001b[0mself\u001b[0m\u001b[0;34m)\u001b[0m \u001b[0;34m->\u001b[0m \u001b[0mList\u001b[0m\u001b[0;34m[\u001b[0m\u001b[0;34m'Mv'\u001b[0m\u001b[0;34m]\u001b[0m\u001b[0;34m:\u001b[0m\u001b[0;34m\u001b[0m\u001b[0;34m\u001b[0m\u001b[0m\n",
      "\u001b[0;31mKeyboardInterrupt\u001b[0m: "
     ]
    }
   ],
   "source": []
  },
  {
   "cell_type": "code",
   "execution_count": null,
   "metadata": {},
   "outputs": [],
   "source": []
  }
 ],
 "metadata": {
  "kernelspec": {
   "display_name": "Python [conda env:galgebra]",
   "language": "python",
   "name": "conda-env-galgebra-py"
  },
  "language_info": {
   "codemirror_mode": {
    "name": "ipython",
    "version": 3
   },
   "file_extension": ".py",
   "mimetype": "text/x-python",
   "name": "python",
   "nbconvert_exporter": "python",
   "pygments_lexer": "ipython3",
   "version": "3.9.5"
  }
 },
 "nbformat": 4,
 "nbformat_minor": 4
}
