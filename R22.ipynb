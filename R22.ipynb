{
 "cells": [
  {
   "cell_type": "markdown",
   "metadata": {},
   "source": [
    "# R(2,2) playground\n",
    "Ted Corcovilos, 2021-01-08"
   ]
  },
  {
   "cell_type": "markdown",
   "metadata": {},
   "source": [
    "Playing around with the 2d \"mother algebra\" $R(2,2)$, as described in C. Doran, et al., \"Lie Groups as Spin Groups,\" *Journal of Mathematical Physics 34*, 3642 (1993). doi:[10.1063/1.530050](http://doi.org/10.1063/1.530050)\n",
    "\n",
    "I'll name the basis vectors $p_1, p_2, m_1, m_2$ with the diagonal metric $[1,1,-1,-1]$.\n",
    "\n",
    "Position vectors in this basis are represented by null vectors of the form $x (p_1+m_1) + y (p_2+m_2)$."
   ]
  },
  {
   "cell_type": "code",
   "execution_count": 1,
   "metadata": {},
   "outputs": [],
   "source": [
    "from sympy import *\n",
    "from galgebra.ga import Ga\n",
    "from galgebra.printer import latex\n",
    "from IPython.display import Math\n",
    "\n",
    "init_printing(latex_printer=latex, use_latex='mathjax')"
   ]
  },
  {
   "cell_type": "code",
   "execution_count": 2,
   "metadata": {},
   "outputs": [],
   "source": [
    "xy = (x,y) = symbols(\"x y\", real=True)"
   ]
  },
  {
   "cell_type": "code",
   "execution_count": 3,
   "metadata": {},
   "outputs": [],
   "source": [
    "xyxy = (xp, yp, xm, ym) = symbols(\"xp yp xm ym\", real=True)"
   ]
  },
  {
   "cell_type": "code",
   "execution_count": 4,
   "metadata": {},
   "outputs": [],
   "source": [
    "R22 = Ga('p1 p2 m1 m2', g=[1,1,-1,-1], coords=xyxy)"
   ]
  },
  {
   "cell_type": "code",
   "execution_count": 5,
   "metadata": {},
   "outputs": [],
   "source": [
    "p1, p2, m1, m2 = R22.mv() # break out basis vectors"
   ]
  },
  {
   "cell_type": "code",
   "execution_count": 6,
   "metadata": {},
   "outputs": [],
   "source": [
    "# a real position vector has the form...\n",
    "r = x*(p1+m1)+y*(p2+m2)"
   ]
  },
  {
   "cell_type": "code",
   "execution_count": 7,
   "metadata": {},
   "outputs": [
    {
     "data": {
      "text/latex": [
       "\\begin{equation*} x \\boldsymbol{p}_{1} + y \\boldsymbol{p}_{2} + x \\boldsymbol{m}_{1} + y \\boldsymbol{m}_{2} \\end{equation*}"
      ],
      "text/plain": [
       "x*p1 + y*p2 + x*m1 + y*m2"
      ]
     },
     "execution_count": 7,
     "metadata": {},
     "output_type": "execute_result"
    }
   ],
   "source": [
    "r"
   ]
  },
  {
   "cell_type": "code",
   "execution_count": 8,
   "metadata": {},
   "outputs": [],
   "source": [
    "a, b, c, d = symbols(\"a b c d\", real=True)\n",
    "f, g, h, j = symbols(\"f g h j\", real=True)"
   ]
  },
  {
   "cell_type": "code",
   "execution_count": 9,
   "metadata": {},
   "outputs": [],
   "source": [
    "# big pseudoscalar\n",
    "I=p1^p2^m1^m2\n",
    "# special bivectors (ref. Doran)\n",
    "K = (p1^m1)+(p2^m2)\n",
    "E = (p1^p2)+(m1^m2)\n",
    "F = (p1^m2)+(p2^m1)"
   ]
  },
  {
   "cell_type": "markdown",
   "metadata": {},
   "source": [
    "From the paper, only bivectors that commute with $K$ will preserve null vectors. $E$ corresponds to the pseudo-scalar in the 2d position space. $F$ is the leftover bit needed to complete the bivector space.  Geometrically, $K$ describes scaling, $E$ rotations, and $F$ shears."
   ]
  },
  {
   "cell_type": "code",
   "execution_count": 10,
   "metadata": {},
   "outputs": [],
   "source": [
    "B1 = a*(p1^m1)+b*(p2^m2)+c*(p1^m2)+d*(p2^m1)+f*(p1^p2)+g*(m1^m2)"
   ]
  },
  {
   "cell_type": "code",
   "execution_count": 11,
   "metadata": {},
   "outputs": [
    {
     "data": {
      "text/latex": [
       "\\begin{equation*} \\left ( c - d\\right ) \\boldsymbol{p}_{1}\\wedge \\boldsymbol{p}_{2} + \\left ( f + g\\right ) \\boldsymbol{p}_{1}\\wedge \\boldsymbol{m}_{2} + \\left ( - f - g\\right ) \\boldsymbol{p}_{2}\\wedge \\boldsymbol{m}_{1} + \\left ( c - d\\right ) \\boldsymbol{m}_{1}\\wedge \\boldsymbol{m}_{2} \\end{equation*}"
      ],
      "text/plain": [
       "(c - d)*p1^p2 + (f + g)*p1^m2 + (-f - g)*p2^m1 + (c - d)*m1^m2"
      ]
     },
     "execution_count": 11,
     "metadata": {},
     "output_type": "execute_result"
    }
   ],
   "source": [
    "# check if commutator is zero\n",
    "B1 >> K"
   ]
  },
  {
   "cell_type": "code",
   "execution_count": 12,
   "metadata": {},
   "outputs": [],
   "source": [
    "# So, this will be zero iff c=d and f=-g\n",
    "# Redefine, change up the names a bit:\n",
    "B1 = (a+b)/2*(p1^m1)+(a-b)/2*(p2^m2)+c/2*(p1^m2)+c/2*(p2^m1)+d/2*(p1^p2)-d/2*(m1^m2)"
   ]
  },
  {
   "cell_type": "code",
   "execution_count": 13,
   "metadata": {},
   "outputs": [
    {
     "data": {
      "text/latex": [
       "\\begin{equation*}  0  \\end{equation*}"
      ],
      "text/plain": [
       "0"
      ]
     },
     "execution_count": 13,
     "metadata": {},
     "output_type": "execute_result"
    }
   ],
   "source": [
    "# check commutator again\n",
    "B1 >> K"
   ]
  },
  {
   "cell_type": "code",
   "execution_count": 14,
   "metadata": {},
   "outputs": [],
   "source": [
    "# also need to normalize B1\n",
    "# the norm squared is\n",
    "Bnorm2=(B1*(B1.rev())).scalar()"
   ]
  },
  {
   "cell_type": "code",
   "execution_count": 15,
   "metadata": {},
   "outputs": [],
   "source": [
    "A, B, C, D = symbols(\"A B C D\", real=True)"
   ]
  },
  {
   "cell_type": "markdown",
   "metadata": {},
   "source": [
    "Let's break `B1` down term by term to see how it transforms position."
   ]
  },
  {
   "cell_type": "code",
   "execution_count": 16,
   "metadata": {},
   "outputs": [],
   "source": [
    "# Define a small number as a placeholder to go from members of the Lie algebra to the Lie group\n",
    "ϵ = symbols(\"ϵ\", real=True)"
   ]
  },
  {
   "cell_type": "markdown",
   "metadata": {},
   "source": [
    "Look at each bivector in the Lie algebra and see how the corresponding Lie group member transforms a position vector."
   ]
  },
  {
   "cell_type": "code",
   "execution_count": 17,
   "metadata": {},
   "outputs": [
    {
     "data": {
      "text/latex": [
       "\\begin{equation*} x e^{ϵ} \\boldsymbol{p}_{1} + y \\boldsymbol{p}_{2} + x e^{ϵ} \\boldsymbol{m}_{1} + y \\boldsymbol{m}_{2} \\end{equation*}"
      ],
      "text/plain": [
       "x*exp(ϵ)*p1 + y*p2 + x*exp(ϵ)*m1 + y*m2"
      ]
     },
     "execution_count": 17,
     "metadata": {},
     "output_type": "execute_result"
    }
   ],
   "source": [
    "# for the \"a\" term\n",
    "((-ϵ*p1^m1/2).exp())*r*((ϵ*p1^m1/2).exp())"
   ]
  },
  {
   "cell_type": "markdown",
   "metadata": {},
   "source": [
    "So, the $p_1 \\wedge m_1$ term looks like a scaling of $x$."
   ]
  },
  {
   "cell_type": "code",
   "execution_count": 18,
   "metadata": {},
   "outputs": [
    {
     "data": {
      "text/latex": [
       "\\begin{equation*} x \\boldsymbol{p}_{1} + y e^{ϵ} \\boldsymbol{p}_{2} + x \\boldsymbol{m}_{1} + y e^{ϵ} \\boldsymbol{m}_{2} \\end{equation*}"
      ],
      "text/plain": [
       "x*p1 + y*exp(ϵ)*p2 + x*m1 + y*exp(ϵ)*m2"
      ]
     },
     "execution_count": 18,
     "metadata": {},
     "output_type": "execute_result"
    }
   ],
   "source": [
    "# for the \"b\" term\n",
    "((-ϵ*p2^m2/2).exp())*r*((ϵ*p2^m2/2).exp())"
   ]
  },
  {
   "cell_type": "markdown",
   "metadata": {},
   "source": [
    "Scaling of $y$, as expected."
   ]
  },
  {
   "cell_type": "code",
   "execution_count": 19,
   "metadata": {},
   "outputs": [
    {
     "data": {
      "text/latex": [
       "\\begin{equation*}  0  \\end{equation*}"
      ],
      "text/plain": [
       "0"
      ]
     },
     "execution_count": 19,
     "metadata": {},
     "output_type": "execute_result"
    }
   ],
   "source": [
    "# confirm that the a and b pieces commute:\n",
    "(p1^m1) >> (p2^m2)"
   ]
  },
  {
   "cell_type": "code",
   "execution_count": 20,
   "metadata": {},
   "outputs": [
    {
     "data": {
      "text/latex": [
       "\\begin{equation*} x e^{ϵ} \\boldsymbol{p}_{1} + y e^{ϵ} \\boldsymbol{p}_{2} + x e^{ϵ} \\boldsymbol{m}_{1} + y e^{ϵ} \\boldsymbol{m}_{2} \\end{equation*}"
      ],
      "text/plain": [
       "x*exp(ϵ)*p1 + y*exp(ϵ)*p2 + x*exp(ϵ)*m1 + y*exp(ϵ)*m2"
      ]
     },
     "execution_count": 20,
     "metadata": {},
     "output_type": "execute_result"
    }
   ],
   "source": [
    "# commuting Lie algebra elements => we can apply the exponentials individually\n",
    "# overall scaling\n",
    "(-ϵ*p1^m1/2).exp()*((-ϵ*p2^m2/2).exp())*r*((ϵ*p2^m2/2).exp())*(ϵ*p1^m1/2).exp()"
   ]
  },
  {
   "cell_type": "code",
   "execution_count": 21,
   "metadata": {},
   "outputs": [
    {
     "data": {
      "text/latex": [
       "\\begin{equation*} x e^{ϵ} \\boldsymbol{p}_{1} + y e^{- ϵ} \\boldsymbol{p}_{2} + x e^{ϵ} \\boldsymbol{m}_{1} + y e^{- ϵ} \\boldsymbol{m}_{2} \\end{equation*}"
      ],
      "text/plain": [
       "x*exp(ϵ)*p1 + y*exp(-ϵ)*p2 + x*exp(ϵ)*m1 + y*exp(-ϵ)*m2"
      ]
     },
     "execution_count": 21,
     "metadata": {},
     "output_type": "execute_result"
    }
   ],
   "source": [
    "# inverse scaling (is there a better name?)\n",
    "(-ϵ*p1^m1/2).exp()*((ϵ*p2^m2/2).exp())*r*((-ϵ*p2^m2/2).exp())*(ϵ*p1^m1/2).exp()"
   ]
  },
  {
   "cell_type": "code",
   "execution_count": 22,
   "metadata": {},
   "outputs": [
    {
     "data": {
      "text/latex": [
       "\\begin{equation*}  0  \\end{equation*}"
      ],
      "text/plain": [
       "0"
      ]
     },
     "execution_count": 22,
     "metadata": {},
     "output_type": "execute_result"
    }
   ],
   "source": [
    "# check the pieces of the c term for commuting\n",
    "(p1^m2) >> (p2^m1)"
   ]
  },
  {
   "cell_type": "code",
   "execution_count": 23,
   "metadata": {},
   "outputs": [
    {
     "data": {
      "text/latex": [
       "\\begin{equation*} \\left ( x \\cosh{\\left (ϵ \\right )} + y \\sinh{\\left (ϵ \\right )}\\right ) \\boldsymbol{p}_{1} + \\left ( x \\sinh{\\left (ϵ \\right )} + y \\cosh{\\left (ϵ \\right )}\\right ) \\boldsymbol{p}_{2} + \\left ( x \\cosh{\\left (ϵ \\right )} + y \\sinh{\\left (ϵ \\right )}\\right ) \\boldsymbol{m}_{1} + \\left ( x \\sinh{\\left (ϵ \\right )} + y \\cosh{\\left (ϵ \\right )}\\right ) \\boldsymbol{m}_{2} \\end{equation*}"
      ],
      "text/plain": [
       "(x*cosh(ϵ) + y*sinh(ϵ))*p1 + (x*sinh(ϵ) + y*cosh(ϵ))*p2 + (x*cosh(ϵ) + y*sinh(ϵ))*m1 + (x*sinh(ϵ) + y*cosh(ϵ))*m2"
      ]
     },
     "execution_count": 23,
     "metadata": {},
     "output_type": "execute_result"
    }
   ],
   "source": [
    "# the c term \n",
    "(-ϵ*p1^m2/2).exp()*((-ϵ*p2^m1/2).exp())*r*((ϵ*p2^m1/2).exp())*(ϵ*p1^m2/2).exp()"
   ]
  },
  {
   "cell_type": "markdown",
   "metadata": {},
   "source": [
    "Scissor shear? (Not really a boost because this isn't Minkowski space...)"
   ]
  },
  {
   "cell_type": "code",
   "execution_count": 24,
   "metadata": {
    "scrolled": false
   },
   "outputs": [
    {
     "data": {
      "text/latex": [
       "\\begin{equation*}  0  \\end{equation*}"
      ],
      "text/plain": [
       "0"
      ]
     },
     "execution_count": 24,
     "metadata": {},
     "output_type": "execute_result"
    }
   ],
   "source": [
    "#check the d term for commuting:\n",
    "(p1^p2) >> (m1^m2)"
   ]
  },
  {
   "cell_type": "code",
   "execution_count": 25,
   "metadata": {},
   "outputs": [
    {
     "data": {
      "text/latex": [
       "\\begin{equation*} \\left ( x \\cos{\\left (ϵ \\right )} - y \\sin{\\left (ϵ \\right )}\\right ) \\boldsymbol{p}_{1} + \\left ( x \\sin{\\left (ϵ \\right )} + y \\cos{\\left (ϵ \\right )}\\right ) \\boldsymbol{p}_{2} + \\left ( x \\cos{\\left (ϵ \\right )} - y \\sin{\\left (ϵ \\right )}\\right ) \\boldsymbol{m}_{1} + \\left ( x \\sin{\\left (ϵ \\right )} + y \\cos{\\left (ϵ \\right )}\\right ) \\boldsymbol{m}_{2} \\end{equation*}"
      ],
      "text/plain": [
       "(x*cos(ϵ) - y*sin(ϵ))*p1 + (x*sin(ϵ) + y*cos(ϵ))*p2 + (x*cos(ϵ) - y*sin(ϵ))*m1 + (x*sin(ϵ) + y*cos(ϵ))*m2"
      ]
     },
     "execution_count": 25,
     "metadata": {},
     "output_type": "execute_result"
    }
   ],
   "source": [
    "# the d term\n",
    "(-ϵ*p1^p2/2).exp()*(ϵ*m1^m2/2).exp()*r*(-ϵ*m1^m2/2).exp()*(ϵ*p1^p2/2).exp()"
   ]
  },
  {
   "cell_type": "markdown",
   "metadata": {},
   "source": [
    "Rotation."
   ]
  },
  {
   "cell_type": "markdown",
   "metadata": {},
   "source": [
    "So, the matrix version of these terms looks something like\n",
    "$$\n",
    "\\begin{array}{cc}\n",
    "a \\rightarrow \\begin{pmatrix} e^A & 0 \\\\ 0 & e^A \\end{pmatrix}\n",
    "&\n",
    "b \\rightarrow \\begin{pmatrix} e^B & 0 \\\\ 0 & e^{-B} \\end{pmatrix}\n",
    "\\\\\n",
    "c \\rightarrow \\begin{pmatrix} \\cosh C & \\sinh C \\\\ \\sinh C & \\cosh C \\end{pmatrix}\n",
    "&\n",
    "d \\rightarrow \\begin{pmatrix} \\cos D & -\\sin D \\\\ \\sin D & \\cos D \\end{pmatrix}\n",
    "\\end{array}\n",
    "$$"
   ]
  },
  {
   "cell_type": "markdown",
   "metadata": {},
   "source": [
    "Note that these do not mutually commute, so it's hard to decouple a generic matrix into these pieces.\n",
    "\n",
    "Also, these are all positive-definite matrices, so we're not covering the full GL group.  Need one more piece:\n",
    "$$\n",
    "m \\rightarrow \\begin{pmatrix} 1 & 0 \\\\ 0 & \\pm 1 \\end{pmatrix}\n",
    "$$\n",
    "to cover reflections.\n",
    "\n",
    "Stepping back, we can identify the 4 Lie algebra generators as the identity and the (real) Pauli matrices, demonstrating the isomorphism between the bivectors and spinors."
   ]
  },
  {
   "cell_type": "code",
   "execution_count": 26,
   "metadata": {},
   "outputs": [
    {
     "data": {
      "text/latex": [
       "$\\displaystyle \\left[\\begin{array}{cc}\\cosh{\\left (C \\right )} & \\sinh{\\left (C \\right )}\\\\\\sinh{\\left (C \\right )} & \\cosh{\\left (C \\right )}\\end{array}\\right]$"
      ],
      "text/plain": [
       "Matrix([\n",
       "[cosh(C), sinh(C)],\n",
       "[sinh(C), cosh(C)]])"
      ]
     },
     "execution_count": 26,
     "metadata": {},
     "output_type": "execute_result"
    }
   ],
   "source": [
    "# for example σ_x:\n",
    "simplify(exp(C*Matrix([[0,1],[1,0]])))"
   ]
  },
  {
   "cell_type": "code",
   "execution_count": 27,
   "metadata": {},
   "outputs": [
    {
     "data": {
      "text/latex": [
       "$\\displaystyle \\left[\\begin{array}{cc}\\cos{\\left (D \\right )} & - \\sin{\\left (D \\right )}\\\\\\sin{\\left (D \\right )} & \\cos{\\left (D \\right )}\\end{array}\\right]$"
      ],
      "text/plain": [
       "Matrix([\n",
       "[cos(D), -sin(D)],\n",
       "[sin(D),  cos(D)]])"
      ]
     },
     "execution_count": 27,
     "metadata": {},
     "output_type": "execute_result"
    }
   ],
   "source": [
    "# σ_y\n",
    "simplify(exp(D*Matrix([[0,-1],[1,0]])))"
   ]
  },
  {
   "cell_type": "code",
   "execution_count": 28,
   "metadata": {},
   "outputs": [
    {
     "data": {
      "text/latex": [
       "$\\displaystyle \\left[\\begin{array}{cc}e^{B} & 0\\\\0 & e^{- B}\\end{array}\\right]$"
      ],
      "text/plain": [
       "Matrix([\n",
       "[exp(B),       0],\n",
       "[     0, exp(-B)]])"
      ]
     },
     "execution_count": 28,
     "metadata": {},
     "output_type": "execute_result"
    }
   ],
   "source": [
    "# σ_z\n",
    "simplify(exp(B*Matrix([[1,0],[0,-1]])))"
   ]
  },
  {
   "cell_type": "code",
   "execution_count": 29,
   "metadata": {},
   "outputs": [
    {
     "data": {
      "text/latex": [
       "$\\displaystyle \\left[\\begin{array}{cc}e^{A} & 0\\\\0 & e^{A}\\end{array}\\right]$"
      ],
      "text/plain": [
       "Matrix([\n",
       "[exp(A),      0],\n",
       "[     0, exp(A)]])"
      ]
     },
     "execution_count": 29,
     "metadata": {},
     "output_type": "execute_result"
    }
   ],
   "source": [
    "# I\n",
    "simplify(exp(A*Matrix([[1,0],[0,1]])))"
   ]
  },
  {
   "cell_type": "markdown",
   "metadata": {},
   "source": [
    "We can combine the last three terms and simplify using the axis-angle formula for SU(2).  (Need to use complex values?)"
   ]
  },
  {
   "cell_type": "markdown",
   "metadata": {},
   "source": [
    "This still leaves the open problem of decomposing a generic 2x2 matrix into a product of the operators above.   The linear algebra solution is straight-forward but tedious.  Does GA give us any shortcuts?"
   ]
  },
  {
   "cell_type": "code",
   "execution_count": null,
   "metadata": {},
   "outputs": [],
   "source": []
  }
 ],
 "metadata": {
  "kernelspec": {
   "display_name": "Python [conda env:ga]",
   "language": "python",
   "name": "conda-env-ga-py"
  },
  "language_info": {
   "codemirror_mode": {
    "name": "ipython",
    "version": 3
   },
   "file_extension": ".py",
   "mimetype": "text/x-python",
   "name": "python",
   "nbconvert_exporter": "python",
   "pygments_lexer": "ipython3",
   "version": "3.8.6"
  }
 },
 "nbformat": 4,
 "nbformat_minor": 4
}
