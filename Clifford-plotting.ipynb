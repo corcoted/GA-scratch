{
 "cells": [
  {
   "cell_type": "markdown",
   "metadata": {},
   "source": [
    "# Plotting `clifford` 2D PGA objects with `matplotlib`\n",
    "Ted Corcovilos\n",
    "2021-03-09"
   ]
  },
  {
   "cell_type": "code",
   "execution_count": 1,
   "metadata": {},
   "outputs": [],
   "source": [
    "from clifford import *"
   ]
  },
  {
   "cell_type": "code",
   "execution_count": 2,
   "metadata": {},
   "outputs": [],
   "source": [
    "import numpy as np"
   ]
  },
  {
   "cell_type": "code",
   "execution_count": 13,
   "metadata": {},
   "outputs": [],
   "source": [
    "import matplotlib.pyplot as plt\n",
    "from matplotlib.patches import Ellipse"
   ]
  },
  {
   "cell_type": "code",
   "execution_count": 14,
   "metadata": {},
   "outputs": [],
   "source": [
    "import warnings"
   ]
  },
  {
   "cell_type": "code",
   "execution_count": 3,
   "metadata": {},
   "outputs": [],
   "source": [
    "# define 2D PGA\n",
    "layout, blades = Cl(2,0,1, firstIdx=0)\n",
    "locals().update(blades)"
   ]
  },
  {
   "cell_type": "code",
   "execution_count": 6,
   "metadata": {},
   "outputs": [],
   "source": [
    "# helper functions\n",
    "point = lambda x, y, w=1.0 : (x*e1+y*e2+w*e0).dual()\n",
    "line = lambda a, b, c: a*e1+b*e2+c*e0"
   ]
  },
  {
   "cell_type": "code",
   "execution_count": 7,
   "metadata": {},
   "outputs": [],
   "source": [
    "def rand_line(num=1,length=1.0):\n",
    "    '''\n",
    "    generates 'num' random (normalized) lines with maximum moment of 'length'\n",
    "    '''\n",
    "    # a line looks like xe1 + ye2 + ce0 and is normalized if x**2 + y**2 = 1\n",
    "    # So, we'll use a polar form for x and y\n",
    "    angle = 2.0*np.pi* np.random.random(num) # random angle between 0 and 2pi radians\n",
    "    x = np.cos(angle)\n",
    "    y = np.sin(angle)\n",
    "    c = np.random.random(num)*length\n",
    "    if num == 1:\n",
    "        line = MultiVector(layout,[0,c[0],x[0],y[0],0,0,0,0])\n",
    "    else:\n",
    "        line = [MultiVector(layout,[0,c[i],x[i],y[i],0,0,0,0]) for i in range(num)]\n",
    "    return(line)\n",
    "    "
   ]
  },
  {
   "cell_type": "code",
   "execution_count": 8,
   "metadata": {},
   "outputs": [],
   "source": [
    "def rand_point(num=1,length=1.0):\n",
    "    '''\n",
    "    generates 'num' random (normalized) lines with maximum moment of 'length'.\n",
    "    length=0 generates ideal points\n",
    "    '''\n",
    "    # a normalized point looks like -xe02 + ye01 + e12 \n",
    "    # So, we'll use a polar form for x and y\n",
    "    angle = 2.0*np.pi* np.random.random(num) # random angle between 0 and 2pi radians\n",
    "    if length == 0:\n",
    "        x = np.cos(angle)\n",
    "        y = np.sin(angle)\n",
    "        w = 0.0\n",
    "    else:    \n",
    "        c = np.random.random(num)*length\n",
    "        x = np.cos(angle)*c\n",
    "        y = np.sin(angle)*c\n",
    "        w = 1.0\n",
    "        \n",
    "    if num == 1:\n",
    "        line = MultiVector(layout,[0,0,0,0,y[0],-x[0],w,0])\n",
    "    else:\n",
    "        line = [MultiVector(layout,[0,0,0,0,y[i],-x[i],w,0]) for i in range(num)]\n",
    "    return(line)\n",
    "    "
   ]
  },
  {
   "cell_type": "markdown",
   "metadata": {},
   "source": [
    "## The plotting function `add_to_axes`\n",
    "This draws a PGA object to an existing `matplotlib` axes object. The function classifies the object by geometric type then draws an appropriate representation onto the figure axes."
   ]
  },
  {
   "cell_type": "code",
   "execution_count": 15,
   "metadata": {},
   "outputs": [],
   "source": [
    "def add_to_axes(x,label=None,color='black',axis=None,eps = 1e-6,**kwargs):\n",
    "    # plot 2D PGA points and lines on a pyplot axis\n",
    "    # label = point label for drawing\n",
    "    # axis = axis object to write to, defaults to last used\n",
    "    # eps = threshold for rounding to zero during type check\n",
    "    \n",
    "    # FIXME things are screwy if the object is outside the bounds of the figure\n",
    "    \n",
    "    x.clean(eps=eps)\n",
    "    if axis==None:\n",
    "        # get current axis\n",
    "        axis = plt.gca()\n",
    "    \n",
    "    # get boundaries (for drawing lines)\n",
    "    xmin, xmax = axis.get_xbound()\n",
    "    ymin, ymax = axis.get_ybound()\n",
    "    # bounding box as PGA lines:\n",
    "    # corners\n",
    "    corners = [point(xmin,ymin),point(xmax,ymin),point(xmax,ymax),point(xmin,ymax)]\n",
    "    # edges \n",
    "    edges = [line(0,-1,ymin),line(-1,0,xmax),line(0,1,-ymax),line(1,0,-xmin)]\n",
    "    \n",
    "    # check object type:\n",
    "    # real point, ideal point\n",
    "    # line, idea line (how to draw?)\n",
    "    grades = x.grades()\n",
    "    if grades == set({1}): # it's a line!\n",
    "        # check for ideal line\n",
    "        if (x(e1) == 0) and (x(e2) == 0): # ideal line\n",
    "            ellipse = Ellipse([0.5*(xmin+xmax),0.5*(ymin+ymax)],\n",
    "                             width = xmax-xmin, height = ymax-ymin,\n",
    "                             facecolor='none',edgecolor=color,ls='--')\n",
    "            axis.add_artist(ellipse)\n",
    "            axis.annotate(label,xycoords='figure fraction',\n",
    "                         xy=(0.8,0.8), color=color, **kwargs)\n",
    "        else: # real line\n",
    "            # find which sides the line crosses\n",
    "            # H/T enki\n",
    "            crossing = [np.sign((corners[j]^x)[7]*(corners[(j+1)%4]^x)[7])==-1 for j in range(4)]\n",
    "            edges_crossed = [edges[j] for j in range(4) if crossing[j]]\n",
    "            if len(edges_crossed)==0:\n",
    "                # the line is outside the box\n",
    "                # FIXME edge cases: line intersects one of the corner points\n",
    "                warnings.warn(\"Line outside window\")\n",
    "                return\n",
    "            crosspoints = [x^j for j in edges_crossed]\n",
    "            \n",
    "            cross_x = [-j[5]/j[6] for j in crosspoints]\n",
    "            cross_y = [j[4]/j[6] for j in crosspoints]\n",
    "            axis.plot(cross_x,cross_y,color=color)\n",
    "            \n",
    "            labelx = 0.9*(-cross_x[0]+cross_x[1])+cross_x[0]\n",
    "            labely = 0.9*(-cross_y[0]+cross_y[1])+cross_y[0]\n",
    "            axis.annotate(\n",
    "                label, xycoords='data',\n",
    "                xy=(labelx,labely), textcoords='offset pixels',\n",
    "                xytext=(5,5),\n",
    "                color=color,\n",
    "                **kwargs)\n",
    "            \n",
    "\n",
    "    elif grades == set({2}): # it's a point!\n",
    "        # check if real point or ideal point\n",
    "        if x(e12) == 0: # ideal point\n",
    "            # ideal point will be drawn as an arrow at center of graph\n",
    "            # TODO arrow at boundary?\n",
    "            axis.annotate(\n",
    "                label, xy=(0.5,0.5), xycoords='figure fraction',\n",
    "                xytext=(-x[5]*0.1+0.5,x[4]*0.1+0.5), textcoords='figure fraction',\n",
    "                arrowprops=dict(arrowstyle=\"<-\",ec=color,fc=color),\n",
    "                color=color,\n",
    "                **kwargs)\n",
    "        else: # real point\n",
    "            axis.scatter(-x[5],x[4],color=color,**kwargs)\n",
    "            axis.annotate(\n",
    "                label, xycoords='data',\n",
    "                xy=(-x[5]/x[6],x[4]/x[6]), textcoords='offset pixels',\n",
    "                xytext=(5,5),\n",
    "                color=color,\n",
    "                **kwargs)\n",
    "           \n",
    "    else:\n",
    "        # uh oh.  I don't know how to handle this\n",
    "        # throw a warning and exit\n",
    "        warnings.warn(\"Object is not a point or line.  Ignoring.\")"
   ]
  },
  {
   "cell_type": "markdown",
   "metadata": {},
   "source": [
    "## Generate some example objects"
   ]
  },
  {
   "cell_type": "code",
   "execution_count": 10,
   "metadata": {},
   "outputs": [
    {
     "data": {
      "text/plain": [
       "[(0.07002^e01) + (0.63252^e02) + (1.0^e12),\n",
       " -(0.27697^e01) + (0.90575^e02) + (1.0^e12),\n",
       " (0.04373^e01) - (0.05477^e02) + (1.0^e12)]"
      ]
     },
     "execution_count": 10,
     "metadata": {},
     "output_type": "execute_result"
    }
   ],
   "source": [
    "# generate 3 points\n",
    "A, B, C = rand_point(3,1.0)\n",
    "[A,B,C]"
   ]
  },
  {
   "cell_type": "code",
   "execution_count": 11,
   "metadata": {},
   "outputs": [
    {
     "data": {
      "text/plain": [
       "[-(0.02444^e0) - (0.3207^e1) + (0.96052^e2),\n",
       " (0.0315^e0) - (0.02629^e1) - (0.68729^e2),\n",
       " (0.23861^e0) + (0.34699^e1) - (0.27323^e2)]"
      ]
     },
     "execution_count": 11,
     "metadata": {},
     "output_type": "execute_result"
    }
   ],
   "source": [
    "# calculate (unnormalized) lines between the points\n",
    "a = B.vee(C) # also `B & C` works\n",
    "b = C.vee(A)\n",
    "c = A.vee(B)\n",
    "[a,b,c]"
   ]
  },
  {
   "cell_type": "code",
   "execution_count": 12,
   "metadata": {},
   "outputs": [],
   "source": [
    "idealpoint = rand_point(1,0)\n",
    "idealline = 1*e0"
   ]
  },
  {
   "cell_type": "markdown",
   "metadata": {},
   "source": [
    "## Make a plot"
   ]
  },
  {
   "cell_type": "code",
   "execution_count": 16,
   "metadata": {},
   "outputs": [
    {
     "data": {
      "image/png": "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\n",
      "text/plain": [
       "<Figure size 432x288 with 1 Axes>"
      ]
     },
     "metadata": {
      "needs_background": "light"
     },
     "output_type": "display_data"
    }
   ],
   "source": [
    "fig = plt.figure()\n",
    "ax = fig.add_subplot(1,1,1)\n",
    "# to avoid weird results, set the axis limits before plotting\n",
    "ax.set_ylim(-1,1)\n",
    "ax.set_xlim(-1,1)\n",
    "add_to_axes(idealpoint,label=\"O\",color='red',axis=ax)\n",
    "for XX in [A,B,C]:\n",
    "    add_to_axes(XX,label=\"p\",color='blue',axis=ax)\n",
    "for XX in [a,b,c]:\n",
    "    add_to_axes(XX,label=\"L\",color='green',axis=ax)\n",
    "add_to_axes(idealline,label=\"I\",color='black',axis=ax)\n",
    "fig.show()"
   ]
  },
  {
   "cell_type": "code",
   "execution_count": null,
   "metadata": {},
   "outputs": [],
   "source": []
  }
 ],
 "metadata": {
  "kernelspec": {
   "display_name": "Python",
   "language": "python",
  },
  "language_info": {
   "codemirror_mode": {
    "name": "ipython",
    "version": 3
   },
   "file_extension": ".py",
   "mimetype": "text/x-python",
   "name": "python",
   "nbconvert_exporter": "python",
   "pygments_lexer": "ipython3",
   "version": "3.8.8"
  }
 },
 "nbformat": 4,
 "nbformat_minor": 4
}
