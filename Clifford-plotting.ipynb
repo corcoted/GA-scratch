{
 "cells": [
  {
   "cell_type": "markdown",
   "metadata": {},
   "source": [
    "# Plotting `clifford` 2D PGA objects with `matplotlib`\n",
    "Ted Corcovilos\n",
    "2021-03-09"
   ]
  },
  {
   "cell_type": "code",
   "execution_count": 1,
   "metadata": {
    "cell_style": "center"
   },
   "outputs": [],
   "source": [
    "from clifford import *"
   ]
  },
  {
   "cell_type": "code",
   "execution_count": 2,
   "metadata": {},
   "outputs": [],
   "source": [
    "import numpy as np"
   ]
  },
  {
   "cell_type": "code",
   "execution_count": 3,
   "metadata": {},
   "outputs": [],
   "source": [
    "import matplotlib.pyplot as plt\n",
    "from matplotlib.patches import Ellipse"
   ]
  },
  {
   "cell_type": "code",
   "execution_count": 4,
   "metadata": {},
   "outputs": [],
   "source": [
    "import warnings"
   ]
  },
  {
   "cell_type": "code",
   "execution_count": 5,
   "metadata": {},
   "outputs": [],
   "source": [
    "# define 2D PGA\n",
    "layout, blades = Cl(2,0,1, firstIdx=0)\n",
    "locals().update(blades)"
   ]
  },
  {
   "cell_type": "code",
   "execution_count": 6,
   "metadata": {},
   "outputs": [],
   "source": [
    "# helper functions\n",
    "point = lambda x, y, w=1.0 : (x*e1+y*e2+w*e0).dual()\n",
    "line = lambda a, b, c: a*e1+b*e2+c*e0"
   ]
  },
  {
   "cell_type": "code",
   "execution_count": 7,
   "metadata": {},
   "outputs": [],
   "source": [
    "def rand_line(num=1,length=1.0):\n",
    "    '''\n",
    "    generates 'num' random (normalized) lines with maximum moment of 'length'\n",
    "    '''\n",
    "    # a line looks like xe1 + ye2 + ce0 and is normalized if x**2 + y**2 = 1\n",
    "    # So, we'll use a polar form for x and y\n",
    "    angle = 2.0*np.pi* np.random.random(num) # random angle between 0 and 2pi radians\n",
    "    x = np.cos(angle)\n",
    "    y = np.sin(angle)\n",
    "    c = np.random.random(num)*length\n",
    "    if num == 1:\n",
    "        line = MultiVector(layout,[0,c[0],x[0],y[0],0,0,0,0])\n",
    "    else:\n",
    "        line = [MultiVector(layout,[0,c[i],x[i],y[i],0,0,0,0]) for i in range(num)]\n",
    "    return(line)\n",
    "    "
   ]
  },
  {
   "cell_type": "code",
   "execution_count": 8,
   "metadata": {},
   "outputs": [],
   "source": [
    "def rand_point(num=1,length=1.0):\n",
    "    '''\n",
    "    generates 'num' random (normalized) lines with maximum moment of 'length'.\n",
    "    length=0 generates ideal points\n",
    "    '''\n",
    "    # a normalized point looks like -xe02 + ye01 + e12 \n",
    "    # So, we'll use a polar form for x and y\n",
    "    angle = 2.0*np.pi* np.random.random(num) # random angle between 0 and 2pi radians\n",
    "    if length == 0:\n",
    "        x = np.cos(angle)\n",
    "        y = np.sin(angle)\n",
    "        w = 0.0\n",
    "    else:    \n",
    "        c = np.random.random(num)*length\n",
    "        x = np.cos(angle)*c\n",
    "        y = np.sin(angle)*c\n",
    "        w = 1.0\n",
    "        \n",
    "    if num == 1:\n",
    "        line = MultiVector(layout,[0,0,0,0,y[0],-x[0],w,0])\n",
    "    else:\n",
    "        line = [MultiVector(layout,[0,0,0,0,y[i],-x[i],w,0]) for i in range(num)]\n",
    "    return(line)\n",
    "    "
   ]
  },
  {
   "cell_type": "markdown",
   "metadata": {},
   "source": [
    "## The plotting function `add_to_axes`\n",
    "This draws a PGA object to an existing `matplotlib` axes object. The function classifies the object by geometric type then draws an appropriate representation onto the figure axes."
   ]
  },
  {
   "cell_type": "code",
   "execution_count": 9,
   "metadata": {},
   "outputs": [],
   "source": [
    "def add_to_axes(x,label=None,color='black',axis=None,eps = 1e-6,**kwargs):\n",
    "    # plot 2D PGA points and lines on a pyplot axis\n",
    "    # label = point label for drawing\n",
    "    # axis = axis object to write to, defaults to last used\n",
    "    # eps = threshold for rounding to zero during type check\n",
    "    \n",
    "    # FIXME things are screwy if the object is outside the bounds of the figure\n",
    "    \n",
    "    x.clean(eps=eps)\n",
    "    if axis==None:\n",
    "        # get current axis\n",
    "        axis = plt.gca()\n",
    "    \n",
    "    # get boundaries (for drawing lines)\n",
    "    xmin, xmax = axis.get_xbound()\n",
    "    ymin, ymax = axis.get_ybound()\n",
    "    # bounding box as PGA lines:\n",
    "    # corners\n",
    "    corners = [point(xmin,ymin),point(xmax,ymin),point(xmax,ymax),point(xmin,ymax)]\n",
    "    # edges \n",
    "    edges = [line(0,-1,ymin),line(-1,0,xmax),line(0,1,-ymax),line(1,0,-xmin)]\n",
    "    \n",
    "    # check object type:\n",
    "    # real point, ideal point\n",
    "    # line, idea line (how to draw?)\n",
    "    grades = x.grades()\n",
    "    if grades == set({1}): # it's a line!\n",
    "        # check for ideal line\n",
    "        if (x(e1) == 0) and (x(e2) == 0): # ideal line\n",
    "            ellipse = Ellipse([0.5*(xmin+xmax),0.5*(ymin+ymax)],\n",
    "                             width = xmax-xmin, height = ymax-ymin,\n",
    "                             facecolor='none',edgecolor=color,ls='--')\n",
    "            axis.add_artist(ellipse)\n",
    "            axis.annotate(label,xycoords='figure fraction',\n",
    "                         xy=(0.8,0.8), color=color, **kwargs)\n",
    "        else: # real line\n",
    "            # find which sides the line crosses\n",
    "            # H/T enki\n",
    "            crossing = [np.sign((corners[j]^x)[7]*(corners[(j+1)%4]^x)[7])==-1 for j in range(4)]\n",
    "            edges_crossed = [edges[j] for j in range(4) if crossing[j]]\n",
    "            if len(edges_crossed)==0:\n",
    "                # the line is outside the box\n",
    "                # FIXME edge cases: line intersects one of the corner points\n",
    "                warnings.warn(\"Line outside window\")\n",
    "                return\n",
    "            crosspoints = [x^j for j in edges_crossed]\n",
    "            \n",
    "            cross_x = [-j[5]/j[6] for j in crosspoints]\n",
    "            cross_y = [j[4]/j[6] for j in crosspoints]\n",
    "            axis.plot(cross_x,cross_y,color=color)\n",
    "            \n",
    "            labelx = 0.9*(-cross_x[0]+cross_x[1])+cross_x[0]\n",
    "            labely = 0.9*(-cross_y[0]+cross_y[1])+cross_y[0]\n",
    "            axis.annotate(\n",
    "                label, xycoords='data',\n",
    "                xy=(labelx,labely), textcoords='offset pixels',\n",
    "                xytext=(5,5),\n",
    "                color=color,\n",
    "                **kwargs)\n",
    "            \n",
    "\n",
    "    elif grades == set({2}): # it's a point!\n",
    "        # check if real point or ideal point\n",
    "        if x(e12) == 0: # ideal point\n",
    "            # ideal point will be drawn as an arrow at center of graph\n",
    "            # TODO arrow at boundary?\n",
    "            axis.annotate(\n",
    "                label, xy=(0.5,0.5), xycoords='figure fraction',\n",
    "                xytext=(-x[5]*0.1+0.5,x[4]*0.1+0.5), textcoords='figure fraction',\n",
    "                arrowprops=dict(arrowstyle=\"<-\",ec=color,fc=color),\n",
    "                color=color,\n",
    "                **kwargs)\n",
    "        else: # real point\n",
    "            axis.scatter(-x[5]/x[6],x[4]/x[6],color=color,**kwargs)\n",
    "            axis.annotate(\n",
    "                label, xycoords='data',\n",
    "                xy=(-x[5]/x[6],x[4]/x[6]), textcoords='offset pixels',\n",
    "                xytext=(5,5),\n",
    "                color=color,\n",
    "                **kwargs)\n",
    "           \n",
    "    else:\n",
    "        # uh oh.  I don't know how to handle this\n",
    "        # throw a warning and exit\n",
    "        warnings.warn(\"Object is not a point or line.  Ignoring.\")"
   ]
  },
  {
   "cell_type": "markdown",
   "metadata": {},
   "source": [
    "## Generate some example objects"
   ]
  },
  {
   "cell_type": "code",
   "execution_count": 10,
   "metadata": {},
   "outputs": [
    {
     "data": {
      "text/plain": [
       "[-(0.60594^e01) + (0.73163^e02) + (1.0^e12),\n",
       " -(0.32054^e01) + (0.30812^e02) + (1.0^e12),\n",
       " (0.38261^e01) + (0.02391^e02) + (1.0^e12)]"
      ]
     },
     "execution_count": 10,
     "metadata": {},
     "output_type": "execute_result"
    }
   ],
   "source": [
    "# generate 3 points\n",
    "A, B, C = rand_point(3,1.0)\n",
    "[A,B,C]"
   ]
  },
  {
   "cell_type": "code",
   "execution_count": 14,
   "metadata": {},
   "outputs": [
    {
     "data": {
      "text/plain": [
       "[-(0.12555^e0) - (0.70314^e1) + (0.28421^e2),\n",
       " (0.29442^e0) + (0.98855^e1) - (0.70771^e2),\n",
       " (0.04781^e0) - (0.28541^e1) + (0.42351^e2)]"
      ]
     },
     "execution_count": 14,
     "metadata": {},
     "output_type": "execute_result"
    }
   ],
   "source": [
    "# calculate (unnormalized) lines between the points\n",
    "a = B & C # also `B & C` works\n",
    "b = C & A\n",
    "c = A & B\n",
    "[a,b,c]"
   ]
  },
  {
   "cell_type": "code",
   "execution_count": 12,
   "metadata": {},
   "outputs": [],
   "source": [
    "idealpoint = rand_point(1,0)\n",
    "idealline = 1*e0"
   ]
  },
  {
   "cell_type": "markdown",
   "metadata": {},
   "source": [
    "## Make a plot"
   ]
  },
  {
   "cell_type": "code",
   "execution_count": 13,
   "metadata": {},
   "outputs": [
    {
     "data": {
      "image/png": "[encoded data removed]",
      "text/plain": [
       "<Figure size 432x432 with 1 Axes>"
      ]
     },
     "metadata": {
      "needs_background": "light"
     },
     "output_type": "display_data"
    }
   ],
   "source": [
    "fig = plt.figure(figsize=(6,6))\n",
    "ax = fig.add_subplot(1,1,1)\n",
    "ax.axis([-1,1,-1,1])\n",
    "# to avoid weird results, set the axis limits before plotting\n",
    "#ax.set_ylim(-1,1)\n",
    "#ax.set_xlim(-1,1)\n",
    "for XX in [A,B,C]:\n",
    "    add_to_axes(XX,label=\"p\",color='blue')\n",
    "ax.set_aspect(1) # rescale axes\n",
    "add_to_axes(idealpoint,label=\"O\",color='red')\n",
    "for XX in [a,b,c]:\n",
    "    add_to_axes(XX,label=\"L\",color='green')\n",
    "add_to_axes(idealline,label=\"I\",color='black')\n",
    "\n",
    "fig.show()"
   ]
  },
  {
   "cell_type": "code",
   "execution_count": null,
   "metadata": {},
   "outputs": [],
   "source": []
  }
 ],
 "metadata": {
  "kernelspec": {
   "display_name": "Python",
   "language": "python",
   "name": "python"
  },
  "language_info": {
   "codemirror_mode": {
    "name": "ipython",
    "version": 3
   },
   "file_extension": ".py",
   "mimetype": "text/x-python",
   "name": "python",
   "nbconvert_exporter": "python",
   "pygments_lexer": "ipython3",
   "version": "3.8.8"
  }
 },
 "nbformat": 4,
 "nbformat_minor": 4
}
