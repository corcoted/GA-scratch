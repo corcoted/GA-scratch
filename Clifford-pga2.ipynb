{
 "cells": [
  {
   "cell_type": "markdown",
   "metadata": {},
   "source": [
    "# Testing 2d pga in `clifford`"
   ]
  },
  {
   "cell_type": "code",
   "execution_count": 1,
   "metadata": {},
   "outputs": [],
   "source": [
    "from clifford import *"
   ]
  },
  {
   "cell_type": "code",
   "execution_count": 2,
   "metadata": {},
   "outputs": [],
   "source": [
    "import numpy as np"
   ]
  },
  {
   "cell_type": "code",
   "execution_count": 3,
   "metadata": {},
   "outputs": [],
   "source": [
    "# define 2D PGA\n",
    "layout, blades = Cl(2,0,1, firstIdx=0)\n",
    "locals().update(blades)"
   ]
  },
  {
   "cell_type": "code",
   "execution_count": 4,
   "metadata": {},
   "outputs": [],
   "source": [
    "# define some aliases for the duals of the basis vectors\n",
    "E1=e1.dual()\n",
    "E2=e2.dual()\n",
    "E0=e0.dual()"
   ]
  },
  {
   "cell_type": "code",
   "execution_count": 5,
   "metadata": {},
   "outputs": [
    {
     "output_type": "execute_result",
     "data": {
      "text/plain": "{'': 1,\n 'e0': (1^e0),\n 'e1': (1^e1),\n 'e2': (1^e2),\n 'e01': (1^e01),\n 'e02': (1^e02),\n 'e12': (1^e12),\n 'e012': (1^e012)}"
     },
     "metadata": {},
     "execution_count": 5
    }
   ],
   "source": [
    "blades"
   ]
  },
  {
   "cell_type": "code",
   "execution_count": 6,
   "metadata": {},
   "outputs": [],
   "source": [
    "def rand_line(num=1,length=1.0):\n",
    "    '''\n",
    "    generates 'num' random (normalized) lines with maximum moment of 'length'\n",
    "    '''\n",
    "    # a line looks like xe1 + ye2 + ce0 and is normalized if x**2 + y**2 = 1\n",
    "    # So, we'll use a polar form for x and y\n",
    "    angle = 2.0*np.pi* np.random.random(num) # random angle between 0 and 2pi radians\n",
    "    x = np.cos(angle)\n",
    "    y = np.sin(angle)\n",
    "    c = np.random.random(num)*length\n",
    "    if num == 1:\n",
    "        line = MultiVector(layout,[0,c[0],x[0],y[0],0,0,0,0])\n",
    "    else:\n",
    "        line = [MultiVector(layout,[0,c[i],x[i],y[i],0,0,0,0]) for i in range(num)]\n",
    "    return(line)\n",
    "    "
   ]
  },
  {
   "cell_type": "code",
   "execution_count": 7,
   "metadata": {},
   "outputs": [],
   "source": [
    "def rand_point(num=1,length=1.0):\n",
    "    '''\n",
    "    generates 'num' random (normalized) lines with maximum moment of 'length'\n",
    "    '''\n",
    "    # a normalized point looks like -xe02 + ye01 + e12 \n",
    "    # So, we'll use a polar form for x and y\n",
    "    angle = 2.0*np.pi* np.random.random(num) # random angle between 0 and 2pi radians\n",
    "    c = np.random.random(num)*length\n",
    "    x = np.cos(angle)*c\n",
    "    y = np.sin(angle)*c\n",
    "    if num == 1:\n",
    "        line = MultiVector(layout,[0,0,0,0,y[0],-x[0],1.0,0])\n",
    "    else:\n",
    "        line = [MultiVector(layout,[0,0,0,0,y[i],-x[i],1.0,0]) for i in range(num)]\n",
    "    return(line)\n",
    "    "
   ]
  },
  {
   "cell_type": "code",
   "execution_count": 8,
   "metadata": {},
   "outputs": [],
   "source": [
    "# TODO define euclidean norm and ideal norm\n",
    "# TODO write functions to denerate ideal points and the ideal line"
   ]
  },
  {
   "cell_type": "code",
   "execution_count": 9,
   "metadata": {},
   "outputs": [],
   "source": [
    "# some examples"
   ]
  },
  {
   "cell_type": "code",
   "execution_count": 10,
   "metadata": {},
   "outputs": [],
   "source": [
    "# generate 3 points\n",
    "A, B, C = rand_point(3,5.0)"
   ]
  },
  {
   "cell_type": "code",
   "execution_count": 11,
   "metadata": {},
   "outputs": [
    {
     "output_type": "execute_result",
     "data": {
      "text/plain": "[(11.43211^e0) + (0.83416^e1) - (6.03639^e2),\n (1.18597^e0) + (1.70806^e1) + (2.43555^e2),\n -(0.27592^e0) - (2.54222^e1) + (3.60084^e2)]"
     },
     "metadata": {},
     "execution_count": 11
    }
   ],
   "source": [
    "# calculate (unnormalized) lines between the points\n",
    "a = B.vee(C)\n",
    "b = C.vee(A)\n",
    "c = A.vee(B)\n",
    "[a,b,c]"
   ]
  },
  {
   "cell_type": "code",
   "execution_count": 12,
   "metadata": {},
   "outputs": [],
   "source": [
    "# ERROR the meet and join methods don't work"
   ]
  },
  {
   "cell_type": "code",
   "execution_count": 13,
   "metadata": {},
   "outputs": [
    {
     "output_type": "execute_result",
     "data": {
      "text/plain": "[True, True, True]"
     },
     "metadata": {},
     "execution_count": 13
    }
   ],
   "source": [
    "# Verify that the distance between the points is the magnitude of the unnormalized line\n",
    "[((B-C).as_array()**2).sum() == a.mag2(),\n",
    "((C-A).as_array()**2).sum() == b.mag2(),\n",
    "((A-B).as_array()**2).sum() == c.mag2()]"
   ]
  },
  {
   "cell_type": "code",
   "execution_count": 14,
   "metadata": {},
   "outputs": [
    {
     "output_type": "execute_result",
     "data": {
      "text/plain": "[(1.87604^e0) + (0.13689^e1) - (0.99059^e2),\n (0.39867^e0) + (0.57418^e1) + (0.81873^e2),\n -(0.0626^e0) - (0.57675^e1) + (0.81692^e2)]"
     },
     "metadata": {},
     "execution_count": 14
    }
   ],
   "source": [
    "# normalize the lines\n",
    "ahat = a/np.sqrt(a.mag2())\n",
    "bhat = b/np.sqrt(b.mag2())\n",
    "chat = c/np.sqrt(c.mag2())\n",
    "[ahat,bhat,chat]"
   ]
  },
  {
   "cell_type": "code",
   "execution_count": 15,
   "metadata": {},
   "outputs": [],
   "source": [
    "# TODO load pyganja and draw this"
   ]
  },
  {
   "cell_type": "code",
   "execution_count": 16,
   "metadata": {},
   "outputs": [
    {
     "output_type": "execute_result",
     "data": {
      "text/plain": "[True, True, True]"
     },
     "metadata": {},
     "execution_count": 16
    }
   ],
   "source": [
    "# check that the lines intersect back at the corresponding points\n",
    "[\n",
    "(a^b)/np.sqrt((a^b).mag2()) == C ,\n",
    "(b^c)/np.sqrt((b^c).mag2()) == A ,\n",
    "(c^a)/np.sqrt((c^a).mag2()) == B\n",
    "]"
   ]
  },
  {
   "cell_type": "code",
   "execution_count": 17,
   "metadata": {},
   "outputs": [
    {
     "output_type": "execute_result",
     "data": {
      "text/plain": "(76.16453^e012)"
     },
     "metadata": {},
     "execution_count": 17
    }
   ],
   "source": [
    "# Calculate the area of the triangle\n",
    "0.5*a^b^c"
   ]
  },
  {
   "cell_type": "markdown",
   "metadata": {},
   "source": [
    "## Drawing\n",
    "Try to draw these with `pyganja`"
   ]
  },
  {
   "cell_type": "code",
   "execution_count": 18,
   "metadata": {},
   "outputs": [],
   "source": [
    "import pyganja"
   ]
  },
  {
   "cell_type": "code",
   "execution_count": 19,
   "metadata": {},
   "outputs": [],
   "source": [
    "scene = pyganja.GanjaScene()\n",
    "for p in [a,b,c]:\n",
    "    scene.add_object(p)\n",
    "for L in [A,B,C]:\n",
    "    scene.add_object(L)"
   ]
  },
  {
   "cell_type": "code",
   "execution_count": 20,
   "metadata": {},
   "outputs": [
    {
     "output_type": "error",
     "ename": "ValueError",
     "evalue": "Algebra not yet supported",
     "traceback": [
      "\u001b[0;31m---------------------------------------------------------------------------\u001b[0m",
      "\u001b[0;31mValueError\u001b[0m                                Traceback (most recent call last)",
      "\u001b[0;32m<ipython-input-20-dddd6c3f3b16>\u001b[0m in \u001b[0;36m<module>\u001b[0;34m\u001b[0m\n\u001b[0;32m----> 1\u001b[0;31m \u001b[0mpyganja\u001b[0m\u001b[0;34m.\u001b[0m\u001b[0mdraw\u001b[0m\u001b[0;34m(\u001b[0m\u001b[0mscene\u001b[0m\u001b[0;34m,\u001b[0m \u001b[0msig\u001b[0m\u001b[0;34m=\u001b[0m\u001b[0mlayout\u001b[0m\u001b[0;34m.\u001b[0m\u001b[0msig\u001b[0m\u001b[0;34m)\u001b[0m\u001b[0;34m\u001b[0m\u001b[0;34m\u001b[0m\u001b[0m\n\u001b[0m",
      "\u001b[0;32m~/miniconda3/envs/galgebra/lib/python3.8/site-packages/pyganja/script_api.py\u001b[0m in \u001b[0;36mdraw\u001b[0;34m(objects, color, sig, grid, scale, browser_window, new_window, static, gl)\u001b[0m\n\u001b[1;32m    226\u001b[0m         \u001b[0;32mif\u001b[0m \u001b[0misnotebook\u001b[0m\u001b[0;34m(\u001b[0m\u001b[0;34m)\u001b[0m\u001b[0;34m:\u001b[0m\u001b[0;34m\u001b[0m\u001b[0;34m\u001b[0m\u001b[0m\n\u001b[1;32m    227\u001b[0m             \u001b[0;32mif\u001b[0m \u001b[0;32mnot\u001b[0m \u001b[0mnew_window\u001b[0m\u001b[0;34m:\u001b[0m\u001b[0;34m\u001b[0m\u001b[0;34m\u001b[0m\u001b[0m\n\u001b[0;32m--> 228\u001b[0;31m                 \u001b[0mrender_notebook_script\u001b[0m\u001b[0;34m(\u001b[0m\u001b[0mobjects\u001b[0m\u001b[0;34m,\u001b[0m \u001b[0msig\u001b[0m\u001b[0;34m=\u001b[0m\u001b[0msig\u001b[0m\u001b[0;34m,\u001b[0m \u001b[0mgrid\u001b[0m\u001b[0;34m=\u001b[0m\u001b[0mgrid\u001b[0m\u001b[0;34m,\u001b[0m \u001b[0mscale\u001b[0m\u001b[0;34m=\u001b[0m\u001b[0mscale\u001b[0m\u001b[0;34m,\u001b[0m \u001b[0mgl\u001b[0m\u001b[0;34m=\u001b[0m\u001b[0mgl\u001b[0m\u001b[0;34m)\u001b[0m\u001b[0;34m\u001b[0m\u001b[0;34m\u001b[0m\u001b[0m\n\u001b[0m\u001b[1;32m    229\u001b[0m             \u001b[0;32melse\u001b[0m\u001b[0;34m:\u001b[0m\u001b[0;34m\u001b[0m\u001b[0;34m\u001b[0m\u001b[0m\n\u001b[1;32m    230\u001b[0m                 \u001b[0;32mif\u001b[0m \u001b[0mCEFAVAILABLE\u001b[0m\u001b[0;34m:\u001b[0m\u001b[0;34m\u001b[0m\u001b[0;34m\u001b[0m\u001b[0m\n",
      "\u001b[0;32m~/miniconda3/envs/galgebra/lib/python3.8/site-packages/pyganja/script_api.py\u001b[0m in \u001b[0;36mrender_notebook_script\u001b[0;34m(scene, sig, grid, scale, gl)\u001b[0m\n\u001b[1;32m    194\u001b[0m     \u001b[0mare\u001b[0m \u001b[0malready\u001b[0m \u001b[0;32min\u001b[0m \u001b[0mthe\u001b[0m \u001b[0mbrowser\u001b[0m\u001b[0;31m!\u001b[0m\u001b[0;34m\u001b[0m\u001b[0;34m\u001b[0m\u001b[0m\n\u001b[1;32m    195\u001b[0m     \"\"\"\n\u001b[0;32m--> 196\u001b[0;31m     \u001b[0mjs\u001b[0m \u001b[0;34m=\u001b[0m \u001b[0mgenerate_notebook_js\u001b[0m\u001b[0;34m(\u001b[0m\u001b[0mscene\u001b[0m\u001b[0;34m,\u001b[0m \u001b[0msig\u001b[0m\u001b[0;34m=\u001b[0m\u001b[0msig\u001b[0m\u001b[0;34m,\u001b[0m \u001b[0mgrid\u001b[0m\u001b[0;34m=\u001b[0m\u001b[0mgrid\u001b[0m\u001b[0;34m,\u001b[0m \u001b[0mscale\u001b[0m\u001b[0;34m=\u001b[0m\u001b[0mscale\u001b[0m\u001b[0;34m,\u001b[0m \u001b[0mgl\u001b[0m\u001b[0;34m=\u001b[0m\u001b[0mgl\u001b[0m\u001b[0;34m)\u001b[0m\u001b[0;34m\u001b[0m\u001b[0;34m\u001b[0m\u001b[0m\n\u001b[0m\u001b[1;32m    197\u001b[0m     \u001b[0mdisplay\u001b[0m\u001b[0;34m(\u001b[0m\u001b[0mjs\u001b[0m\u001b[0;34m)\u001b[0m\u001b[0;34m\u001b[0m\u001b[0;34m\u001b[0m\u001b[0m\n\u001b[1;32m    198\u001b[0m \u001b[0;34m\u001b[0m\u001b[0m\n",
      "\u001b[0;32m~/miniconda3/envs/galgebra/lib/python3.8/site-packages/pyganja/script_api.py\u001b[0m in \u001b[0;36mgenerate_notebook_js\u001b[0;34m(scene, sig, grid, scale, gl)\u001b[0m\n\u001b[1;32m    117\u001b[0m         \"\"\"\n\u001b[1;32m    118\u001b[0m     \u001b[0;32melse\u001b[0m\u001b[0;34m:\u001b[0m\u001b[0;34m\u001b[0m\u001b[0;34m\u001b[0m\u001b[0m\n\u001b[0;32m--> 119\u001b[0;31m         \u001b[0;32mraise\u001b[0m \u001b[0mValueError\u001b[0m\u001b[0;34m(\u001b[0m\u001b[0;34m'Algebra not yet supported'\u001b[0m\u001b[0;34m)\u001b[0m\u001b[0;34m\u001b[0m\u001b[0;34m\u001b[0m\u001b[0m\n\u001b[0m\u001b[1;32m    120\u001b[0m     \u001b[0;32mreturn\u001b[0m \u001b[0mJavascript\u001b[0m\u001b[0;34m(\u001b[0m\u001b[0mjs\u001b[0m\u001b[0;34m)\u001b[0m\u001b[0;34m\u001b[0m\u001b[0;34m\u001b[0m\u001b[0m\n\u001b[1;32m    121\u001b[0m \u001b[0;34m\u001b[0m\u001b[0m\n",
      "\u001b[0;31mValueError\u001b[0m: Algebra not yet supported"
     ]
    }
   ],
   "source": [
    "pyganja.draw(scene, sig=layout.sig)"
   ]
  },
  {
   "cell_type": "markdown",
   "metadata": {},
   "source": [
    "## Ray tracing: thin lens\n",
    "The first problem we'll tackle is a thin lens with focal length _f_.  We'll trace some random rays through the lens by two methods:\n",
    "1. ABCD matrix\n",
    "2. A pair of reflections\n",
    "\n",
    "We'll work in the paraxial approximation for now."
   ]
  },
  {
   "cell_type": "markdown",
   "metadata": {},
   "source": [
    "A ray with height _h_ and slope _m_ hitting a thin lens of focal length _f_ located at the origin will leave the lens with height _h'_ and slope _m'_ according to\n",
    "$$\n",
    "\\begin{pmatrix} h' \\\\ m' \\end{pmatrix}=\n",
    "\\begin{pmatrix} 1 & 0 \\\\ -1/f & 1 \\end{pmatrix}\n",
    "\\begin{pmatrix} h \\\\ m \\end{pmatrix}\n",
    "= \\begin{pmatrix} h \\\\ m - (h/f) \\end{pmatrix}\n",
    "$$"
   ]
  },
  {
   "cell_type": "code",
   "execution_count": 29,
   "metadata": {},
   "outputs": [],
   "source": [
    "f = 2. # focal length\n",
    "A = 1.; B = 0.; C = -1./f; D=1. # thin lens"
   ]
  },
  {
   "cell_type": "code",
   "execution_count": 22,
   "metadata": {},
   "outputs": [],
   "source": [
    "# let's randomly generate some heights and slopes.  I'll pick this to be in the range -1..1\n",
    "num = 5 # number of rays\n",
    "h = np.random.random(num)*2.0 - 1.0\n",
    "m = np.random.random(num)*2.0 - 1.0"
   ]
  },
  {
   "cell_type": "code",
   "execution_count": 23,
   "metadata": {},
   "outputs": [],
   "source": [
    "# calculate the output rays' heights and slopes\n",
    "hp = h\n",
    "mp = m - h/f"
   ]
  },
  {
   "cell_type": "code",
   "execution_count": 24,
   "metadata": {},
   "outputs": [],
   "source": [
    "# generate PGA lines corresponding to the rays\n",
    "r = [(m[i]*e1 - 1.*e2 + h[i]*e0) for i in range(num)]"
   ]
  },
  {
   "cell_type": "code",
   "execution_count": 28,
   "metadata": {
    "tags": []
   },
   "outputs": [
    {
     "output_type": "execute_result",
     "data": {
      "text/plain": "[(0.28934^e0) + (0.61192^e1) - (1.0^e2),\n (0.07861^e0) - (0.55774^e1) - (1.0^e2),\n -(0.02098^e0) - (0.39132^e1) - (1.0^e2),\n (0.02681^e0) - (0.8269^e1) - (1.0^e2),\n (0.09733^e0) - (0.19216^e1) - (1.0^e2)]"
     },
     "metadata": {},
     "execution_count": 28
    }
   ],
   "source": [
    "r"
   ]
  },
  {
   "cell_type": "code",
   "execution_count": 38,
   "metadata": {},
   "outputs": [],
   "source": [
    "#manually calculate the output rays\n",
    "rp = [(mp[i]*e1 - 1.*e2 + hp[i]*e0) for i in range(num)]"
   ]
  },
  {
   "cell_type": "markdown",
   "metadata": {},
   "source": [
    "We need to translate the \"rays\" of geometric optics into line objects in PGA.\n",
    "The line $a e_1 + b e_2 + c e_0$ corresponds to the line with equation $ax+by+c=0$.\n",
    "So, a ray with height _h_ (at the y axis) and slope _m_ obeys the equation $y=mx+h \\rightarrow mx - y + h = 0$.\n",
    "This then becomes the line object $\\ell=me_1 -1e_2 + he_0$."
   ]
  },
  {
   "cell_type": "markdown",
   "metadata": {},
   "source": [
    "Our ray transfer matrix needs to be converted also:\n",
    "$$\n",
    "\\begin{pmatrix} A & B \\\\ C & D \\end{pmatrix}\\begin{pmatrix} h \\\\ m \\end{pmatrix}\n",
    "\\rightarrow\n",
    "\\begin{pmatrix} A & B & 0 \\\\ C & D & 0 \\\\ 0 & 0 & 1\\end{pmatrix}\n",
    "\\begin{pmatrix} h \\\\ m \\\\ -1 \\end{pmatrix}\n",
    "$$"
   ]
  },
  {
   "cell_type": "code",
   "execution_count": 30,
   "metadata": {},
   "outputs": [],
   "source": [
    "# create matrix and then generate the outermorphism\n",
    "ABCD = np.array([[A,B,0.],[C,D,0.],[0.,0.,1.]])"
   ]
  },
  {
   "cell_type": "code",
   "execution_count": 33,
   "metadata": {},
   "outputs": [],
   "source": [
    "from clifford import transformations"
   ]
  },
  {
   "cell_type": "code",
   "execution_count": 34,
   "metadata": {},
   "outputs": [],
   "source": [
    "ABCD_OM = transformations.OutermorphismMatrix(ABCD,layout)"
   ]
  },
  {
   "cell_type": "code",
   "execution_count": 40,
   "metadata": {},
   "outputs": [
    {
     "output_type": "execute_result",
     "data": {
      "text/plain": "[True, True, True, True, True]"
     },
     "metadata": {},
     "execution_count": 40
    }
   ],
   "source": [
    "# check that it works\n",
    "[ABCD_OM(r[i])==rp[i] for i in range(num)]"
   ]
  },
  {
   "cell_type": "code",
   "execution_count": 51,
   "metadata": {},
   "outputs": [],
   "source": [
    "# Now apply it to a point and see what image comes out.\n",
    "test_obj = (r[0]^r[1])"
   ]
  },
  {
   "cell_type": "code",
   "execution_count": 54,
   "metadata": {},
   "outputs": [
    {
     "output_type": "execute_result",
     "data": {
      "text/plain": "-(0.20948^e01) - (0.21072^e02) - (1.16966^e12)"
     },
     "metadata": {},
     "execution_count": 54
    }
   ],
   "source": [
    "test_obj"
   ]
  },
  {
   "cell_type": "code",
   "execution_count": 57,
   "metadata": {},
   "outputs": [],
   "source": [
    "test_obj=test_obj/test_obj.value[6] # normalize by dividing by e12 coefficient"
   ]
  },
  {
   "cell_type": "code",
   "execution_count": 59,
   "metadata": {},
   "outputs": [],
   "source": [
    "# output (image point)\n",
    "test_img=ABCD_OM(test_obj).normal()"
   ]
  },
  {
   "cell_type": "code",
   "execution_count": 60,
   "metadata": {},
   "outputs": [
    {
     "output_type": "execute_result",
     "data": {
      "text/plain": "(0.19682^e01) + (0.19799^e02) + (1.0^e12)"
     },
     "metadata": {},
     "execution_count": 60
    }
   ],
   "source": [
    "test_img"
   ]
  },
  {
   "cell_type": "markdown",
   "metadata": {},
   "source": [
    "We'll compare this to the result from Gauss's Thin Lens Equation:\n",
    "$$\n",
    "\\frac{1}{s}+\\frac{1}{s'} = \\frac{1}{f} \\rightarrow s' = \\frac{sf}{s-f}\n",
    "$$"
   ]
  },
  {
   "cell_type": "code",
   "execution_count": 68,
   "metadata": {
    "tags": []
   },
   "outputs": [
    {
     "output_type": "execute_result",
     "data": {
      "text/plain": "[0.1968217431026334, 0.19670656869536757]"
     },
     "metadata": {},
     "execution_count": 68
    }
   ],
   "source": [
    "# manually calculate the image distance and height, with sign flip for s'\n",
    "s = test_obj.value[4] # pull out x coordinate\n",
    "sp = -s*f/(s-f)\n",
    "# compare the two values\n",
    "[test_img.value[4],sp]"
   ]
  },
  {
   "cell_type": "code",
   "execution_count": 69,
   "metadata": {},
   "outputs": [
    {
     "output_type": "execute_result",
     "data": {
      "text/plain": "[0.19799277066952856, 0.19787691101070573]"
     },
     "metadata": {},
     "execution_count": 69
    }
   ],
   "source": [
    "# now check the heights\n",
    "ht = test_obj.value[5] # pull out y coordinate\n",
    "htp = sp/s*ht\n",
    "# compare the values\n",
    "[test_img.value[5],htp]"
   ]
  },
  {
   "cell_type": "markdown",
   "metadata": {},
   "source": [
    "## TODO\n",
    "Plot this stuff.  Currently `pyganja` only supports 3D PGA, 2D CGA, and 3D PGA.  So, I'll need to write conversion functions for 2D PGA to 2D CGA objects to allow plotting."
   ]
  },
  {
   "cell_type": "code",
   "execution_count": null,
   "metadata": {},
   "outputs": [],
   "source": []
  }
 ],
 "metadata": {
  "kernelspec": {
   "display_name": "Python 3.8.3 64-bit ('galgebra': conda)",
   "language": "python",
   "name": "python_defaultSpec_1595010860697"
  },
  "language_info": {
   "codemirror_mode": {
    "name": "ipython",
    "version": 3
   },
   "file_extension": ".py",
   "mimetype": "text/x-python",
   "name": "python",
   "nbconvert_exporter": "python",
   "pygments_lexer": "ipython3",
   "version": "3.8.3"
  }
 },
 "nbformat": 4,
 "nbformat_minor": 4
}